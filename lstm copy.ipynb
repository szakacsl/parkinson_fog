{
 "cells": [
  {
   "cell_type": "markdown",
   "metadata": {},
   "source": [
    "### Implementing Long Short-Term Memory to detect and classify Parkinsons' Freezing of Gait types in time series data"
   ]
  },
  {
   "cell_type": "code",
   "execution_count": 31,
   "metadata": {},
   "outputs": [],
   "source": [
    "using Pkg\n",
    "\n",
    "# Pkg.add(\"CSV\")\n",
    "# Pkg.add(\"NNlib\")\n",
    "# Pkg.add(\"DataFrames\")\n",
    "# Pkg.add(\"Distributions\")\n",
    "# Pkg.add(\"ResumableFunctions\")\n",
    "# Pkg.add(\"Flux\")"
   ]
  },
  {
   "cell_type": "code",
   "execution_count": 32,
   "metadata": {},
   "outputs": [],
   "source": [
    "using Flux\n",
    "using Flux: @epochs, batch, throttle\n",
    "\n",
    "using CSV\n",
    "using NNlib\n",
    "using DataFrames\n",
    "using Distributions\n",
    "using ResumableFunctions"
   ]
  },
  {
   "cell_type": "code",
   "execution_count": 33,
   "metadata": {},
   "outputs": [
    {
     "data": {
      "text/html": [
       "<div><div style = \"float: left;\"><span>525804×13 DataFrame</span></div><div style = \"float: right;\"><span style = \"font-style: italic;\">525779 rows omitted</span></div><div style = \"clear: both;\"></div></div><div class = \"data-frame\" style = \"overflow-x: scroll;\"><table class = \"data-frame\" style = \"margin-bottom: 6px;\"><thead><tr class = \"header\"><th class = \"rowNumber\" style = \"font-weight: bold; text-align: right;\">Row</th><th style = \"text-align: left;\">Id</th><th style = \"text-align: left;\">Subject</th><th style = \"text-align: left;\">Visit</th><th style = \"text-align: left;\">Test</th><th style = \"text-align: left;\">Medication</th><th style = \"text-align: left;\">Time</th><th style = \"text-align: left;\">AccV</th><th style = \"text-align: left;\">AccML</th><th style = \"text-align: left;\">AccAP</th><th style = \"text-align: left;\">StartHesitation</th><th style = \"text-align: left;\">Turn</th><th style = \"text-align: left;\">Walking</th><th style = \"text-align: left;\">event</th></tr><tr class = \"subheader headerLastRow\"><th class = \"rowNumber\" style = \"font-weight: bold; text-align: right;\"></th><th title = \"String15\" style = \"text-align: left;\">String15</th><th title = \"String7\" style = \"text-align: left;\">String7</th><th title = \"Int64\" style = \"text-align: left;\">Int64</th><th title = \"Int64\" style = \"text-align: left;\">Int64</th><th title = \"String3\" style = \"text-align: left;\">String3</th><th title = \"Int64\" style = \"text-align: left;\">Int64</th><th title = \"Float64\" style = \"text-align: left;\">Float64</th><th title = \"Float64\" style = \"text-align: left;\">Float64</th><th title = \"Float64\" style = \"text-align: left;\">Float64</th><th title = \"Int64\" style = \"text-align: left;\">Int64</th><th title = \"Int64\" style = \"text-align: left;\">Int64</th><th title = \"Int64\" style = \"text-align: left;\">Int64</th><th title = \"String7\" style = \"text-align: left;\">String7</th></tr></thead><tbody><tr><td class = \"rowNumber\" style = \"font-weight: bold; text-align: right;\">1</td><td style = \"text-align: left;\">009ee11563</td><td style = \"text-align: left;\">f62eec</td><td style = \"text-align: right;\">4</td><td style = \"text-align: right;\">2</td><td style = \"text-align: left;\">on</td><td style = \"text-align: right;\">0</td><td style = \"text-align: right;\">-9.4173</td><td style = \"text-align: right;\">0.767819</td><td style = \"text-align: right;\">-1.75824</td><td style = \"text-align: right;\">0</td><td style = \"text-align: right;\">0</td><td style = \"text-align: right;\">0</td><td style = \"text-align: left;\">Normal</td></tr><tr><td class = \"rowNumber\" style = \"font-weight: bold; text-align: right;\">2</td><td style = \"text-align: left;\">009ee11563</td><td style = \"text-align: left;\">f62eec</td><td style = \"text-align: right;\">4</td><td style = \"text-align: right;\">2</td><td style = \"text-align: left;\">on</td><td style = \"text-align: right;\">1</td><td style = \"text-align: right;\">-9.4251</td><td style = \"text-align: right;\">0.768246</td><td style = \"text-align: right;\">-1.75058</td><td style = \"text-align: right;\">0</td><td style = \"text-align: right;\">0</td><td style = \"text-align: right;\">0</td><td style = \"text-align: left;\">Normal</td></tr><tr><td class = \"rowNumber\" style = \"font-weight: bold; text-align: right;\">3</td><td style = \"text-align: left;\">009ee11563</td><td style = \"text-align: left;\">f62eec</td><td style = \"text-align: right;\">4</td><td style = \"text-align: right;\">2</td><td style = \"text-align: left;\">on</td><td style = \"text-align: right;\">2</td><td style = \"text-align: right;\">-9.41995</td><td style = \"text-align: right;\">0.779039</td><td style = \"text-align: right;\">-1.74259</td><td style = \"text-align: right;\">0</td><td style = \"text-align: right;\">0</td><td style = \"text-align: right;\">0</td><td style = \"text-align: left;\">Normal</td></tr><tr><td class = \"rowNumber\" style = \"font-weight: bold; text-align: right;\">4</td><td style = \"text-align: left;\">009ee11563</td><td style = \"text-align: left;\">f62eec</td><td style = \"text-align: right;\">4</td><td style = \"text-align: right;\">2</td><td style = \"text-align: left;\">on</td><td style = \"text-align: right;\">3</td><td style = \"text-align: right;\">-9.42127</td><td style = \"text-align: right;\">0.772523</td><td style = \"text-align: right;\">-1.74651</td><td style = \"text-align: right;\">0</td><td style = \"text-align: right;\">0</td><td style = \"text-align: right;\">0</td><td style = \"text-align: left;\">Normal</td></tr><tr><td class = \"rowNumber\" style = \"font-weight: bold; text-align: right;\">5</td><td style = \"text-align: left;\">009ee11563</td><td style = \"text-align: left;\">f62eec</td><td style = \"text-align: right;\">4</td><td style = \"text-align: right;\">2</td><td style = \"text-align: left;\">on</td><td style = \"text-align: right;\">4</td><td style = \"text-align: right;\">-9.42811</td><td style = \"text-align: right;\">0.777142</td><td style = \"text-align: right;\">-1.75555</td><td style = \"text-align: right;\">0</td><td style = \"text-align: right;\">0</td><td style = \"text-align: right;\">0</td><td style = \"text-align: left;\">Normal</td></tr><tr><td class = \"rowNumber\" style = \"font-weight: bold; text-align: right;\">6</td><td style = \"text-align: left;\">009ee11563</td><td style = \"text-align: left;\">f62eec</td><td style = \"text-align: right;\">4</td><td style = \"text-align: right;\">2</td><td style = \"text-align: left;\">on</td><td style = \"text-align: right;\">5</td><td style = \"text-align: right;\">-9.42602</td><td style = \"text-align: right;\">0.774812</td><td style = \"text-align: right;\">-1.76021</td><td style = \"text-align: right;\">0</td><td style = \"text-align: right;\">0</td><td style = \"text-align: right;\">0</td><td style = \"text-align: left;\">Normal</td></tr><tr><td class = \"rowNumber\" style = \"font-weight: bold; text-align: right;\">7</td><td style = \"text-align: left;\">009ee11563</td><td style = \"text-align: left;\">f62eec</td><td style = \"text-align: right;\">4</td><td style = \"text-align: right;\">2</td><td style = \"text-align: left;\">on</td><td style = \"text-align: right;\">6</td><td style = \"text-align: right;\">-9.42569</td><td style = \"text-align: right;\">0.768126</td><td style = \"text-align: right;\">-1.7736</td><td style = \"text-align: right;\">0</td><td style = \"text-align: right;\">0</td><td style = \"text-align: right;\">0</td><td style = \"text-align: left;\">Normal</td></tr><tr><td class = \"rowNumber\" style = \"font-weight: bold; text-align: right;\">8</td><td style = \"text-align: left;\">009ee11563</td><td style = \"text-align: left;\">f62eec</td><td style = \"text-align: right;\">4</td><td style = \"text-align: right;\">2</td><td style = \"text-align: left;\">on</td><td style = \"text-align: right;\">7</td><td style = \"text-align: right;\">-9.43509</td><td style = \"text-align: right;\">0.765923</td><td style = \"text-align: right;\">-1.76937</td><td style = \"text-align: right;\">0</td><td style = \"text-align: right;\">0</td><td style = \"text-align: right;\">0</td><td style = \"text-align: left;\">Normal</td></tr><tr><td class = \"rowNumber\" style = \"font-weight: bold; text-align: right;\">9</td><td style = \"text-align: left;\">009ee11563</td><td style = \"text-align: left;\">f62eec</td><td style = \"text-align: right;\">4</td><td style = \"text-align: right;\">2</td><td style = \"text-align: left;\">on</td><td style = \"text-align: right;\">8</td><td style = \"text-align: right;\">-9.43209</td><td style = \"text-align: right;\">0.770584</td><td style = \"text-align: right;\">-1.77557</td><td style = \"text-align: right;\">0</td><td style = \"text-align: right;\">0</td><td style = \"text-align: right;\">0</td><td style = \"text-align: left;\">Normal</td></tr><tr><td class = \"rowNumber\" style = \"font-weight: bold; text-align: right;\">10</td><td style = \"text-align: left;\">009ee11563</td><td style = \"text-align: left;\">f62eec</td><td style = \"text-align: right;\">4</td><td style = \"text-align: right;\">2</td><td style = \"text-align: left;\">on</td><td style = \"text-align: right;\">9</td><td style = \"text-align: right;\">-9.4295</td><td style = \"text-align: right;\">0.775137</td><td style = \"text-align: right;\">-1.77076</td><td style = \"text-align: right;\">0</td><td style = \"text-align: right;\">0</td><td style = \"text-align: right;\">0</td><td style = \"text-align: left;\">Normal</td></tr><tr><td class = \"rowNumber\" style = \"font-weight: bold; text-align: right;\">11</td><td style = \"text-align: left;\">009ee11563</td><td style = \"text-align: left;\">f62eec</td><td style = \"text-align: right;\">4</td><td style = \"text-align: right;\">2</td><td style = \"text-align: left;\">on</td><td style = \"text-align: right;\">10</td><td style = \"text-align: right;\">-9.41142</td><td style = \"text-align: right;\">0.772588</td><td style = \"text-align: right;\">-1.76626</td><td style = \"text-align: right;\">0</td><td style = \"text-align: right;\">0</td><td style = \"text-align: right;\">0</td><td style = \"text-align: left;\">Normal</td></tr><tr><td class = \"rowNumber\" style = \"font-weight: bold; text-align: right;\">12</td><td style = \"text-align: left;\">009ee11563</td><td style = \"text-align: left;\">f62eec</td><td style = \"text-align: right;\">4</td><td style = \"text-align: right;\">2</td><td style = \"text-align: left;\">on</td><td style = \"text-align: right;\">11</td><td style = \"text-align: right;\">-9.42808</td><td style = \"text-align: right;\">0.774885</td><td style = \"text-align: right;\">-1.74877</td><td style = \"text-align: right;\">0</td><td style = \"text-align: right;\">0</td><td style = \"text-align: right;\">0</td><td style = \"text-align: left;\">Normal</td></tr><tr><td class = \"rowNumber\" style = \"font-weight: bold; text-align: right;\">13</td><td style = \"text-align: left;\">009ee11563</td><td style = \"text-align: left;\">f62eec</td><td style = \"text-align: right;\">4</td><td style = \"text-align: right;\">2</td><td style = \"text-align: left;\">on</td><td style = \"text-align: right;\">12</td><td style = \"text-align: right;\">-9.4235</td><td style = \"text-align: right;\">0.770305</td><td style = \"text-align: right;\">-1.74199</td><td style = \"text-align: right;\">0</td><td style = \"text-align: right;\">0</td><td style = \"text-align: right;\">0</td><td style = \"text-align: left;\">Normal</td></tr><tr><td style = \"text-align: right;\">&vellip;</td><td style = \"text-align: right;\">&vellip;</td><td style = \"text-align: right;\">&vellip;</td><td style = \"text-align: right;\">&vellip;</td><td style = \"text-align: right;\">&vellip;</td><td style = \"text-align: right;\">&vellip;</td><td style = \"text-align: right;\">&vellip;</td><td style = \"text-align: right;\">&vellip;</td><td style = \"text-align: right;\">&vellip;</td><td style = \"text-align: right;\">&vellip;</td><td style = \"text-align: right;\">&vellip;</td><td style = \"text-align: right;\">&vellip;</td><td style = \"text-align: right;\">&vellip;</td><td style = \"text-align: right;\">&vellip;</td></tr><tr><td class = \"rowNumber\" style = \"font-weight: bold; text-align: right;\">525793</td><td style = \"text-align: left;\">fb14eb4a33</td><td style = \"text-align: left;\">4ca9b3</td><td style = \"text-align: right;\">2</td><td style = \"text-align: right;\">1</td><td style = \"text-align: left;\">off</td><td style = \"text-align: right;\">6453</td><td style = \"text-align: right;\">-9.53302</td><td style = \"text-align: right;\">0.579309</td><td style = \"text-align: right;\">-1.04424</td><td style = \"text-align: right;\">0</td><td style = \"text-align: right;\">0</td><td style = \"text-align: right;\">0</td><td style = \"text-align: left;\">Normal</td></tr><tr><td class = \"rowNumber\" style = \"font-weight: bold; text-align: right;\">525794</td><td style = \"text-align: left;\">fb14eb4a33</td><td style = \"text-align: left;\">4ca9b3</td><td style = \"text-align: right;\">2</td><td style = \"text-align: right;\">1</td><td style = \"text-align: left;\">off</td><td style = \"text-align: right;\">6454</td><td style = \"text-align: right;\">-9.52948</td><td style = \"text-align: right;\">0.592304</td><td style = \"text-align: right;\">-1.05148</td><td style = \"text-align: right;\">0</td><td style = \"text-align: right;\">0</td><td style = \"text-align: right;\">0</td><td style = \"text-align: left;\">Normal</td></tr><tr><td class = \"rowNumber\" style = \"font-weight: bold; text-align: right;\">525795</td><td style = \"text-align: left;\">fb14eb4a33</td><td style = \"text-align: left;\">4ca9b3</td><td style = \"text-align: right;\">2</td><td style = \"text-align: right;\">1</td><td style = \"text-align: left;\">off</td><td style = \"text-align: right;\">6455</td><td style = \"text-align: right;\">-9.52566</td><td style = \"text-align: right;\">0.58729</td><td style = \"text-align: right;\">-1.0361</td><td style = \"text-align: right;\">0</td><td style = \"text-align: right;\">0</td><td style = \"text-align: right;\">0</td><td style = \"text-align: left;\">Normal</td></tr><tr><td class = \"rowNumber\" style = \"font-weight: bold; text-align: right;\">525796</td><td style = \"text-align: left;\">fb14eb4a33</td><td style = \"text-align: left;\">4ca9b3</td><td style = \"text-align: right;\">2</td><td style = \"text-align: right;\">1</td><td style = \"text-align: left;\">off</td><td style = \"text-align: right;\">6456</td><td style = \"text-align: right;\">-9.52386</td><td style = \"text-align: right;\">0.570158</td><td style = \"text-align: right;\">-1.03295</td><td style = \"text-align: right;\">0</td><td style = \"text-align: right;\">0</td><td style = \"text-align: right;\">0</td><td style = \"text-align: left;\">Normal</td></tr><tr><td class = \"rowNumber\" style = \"font-weight: bold; text-align: right;\">525797</td><td style = \"text-align: left;\">fb14eb4a33</td><td style = \"text-align: left;\">4ca9b3</td><td style = \"text-align: right;\">2</td><td style = \"text-align: right;\">1</td><td style = \"text-align: left;\">off</td><td style = \"text-align: right;\">6457</td><td style = \"text-align: right;\">-9.52654</td><td style = \"text-align: right;\">0.565428</td><td style = \"text-align: right;\">-1.04679</td><td style = \"text-align: right;\">0</td><td style = \"text-align: right;\">0</td><td style = \"text-align: right;\">0</td><td style = \"text-align: left;\">Normal</td></tr><tr><td class = \"rowNumber\" style = \"font-weight: bold; text-align: right;\">525798</td><td style = \"text-align: left;\">fb14eb4a33</td><td style = \"text-align: left;\">4ca9b3</td><td style = \"text-align: right;\">2</td><td style = \"text-align: right;\">1</td><td style = \"text-align: left;\">off</td><td style = \"text-align: right;\">6458</td><td style = \"text-align: right;\">-9.52059</td><td style = \"text-align: right;\">0.585287</td><td style = \"text-align: right;\">-1.06743</td><td style = \"text-align: right;\">0</td><td style = \"text-align: right;\">0</td><td style = \"text-align: right;\">0</td><td style = \"text-align: left;\">Normal</td></tr><tr><td class = \"rowNumber\" style = \"font-weight: bold; text-align: right;\">525799</td><td style = \"text-align: left;\">fb14eb4a33</td><td style = \"text-align: left;\">4ca9b3</td><td style = \"text-align: right;\">2</td><td style = \"text-align: right;\">1</td><td style = \"text-align: left;\">off</td><td style = \"text-align: right;\">6459</td><td style = \"text-align: right;\">-9.52391</td><td style = \"text-align: right;\">0.574692</td><td style = \"text-align: right;\">-1.06909</td><td style = \"text-align: right;\">0</td><td style = \"text-align: right;\">0</td><td style = \"text-align: right;\">0</td><td style = \"text-align: left;\">Normal</td></tr><tr><td class = \"rowNumber\" style = \"font-weight: bold; text-align: right;\">525800</td><td style = \"text-align: left;\">fb14eb4a33</td><td style = \"text-align: left;\">4ca9b3</td><td style = \"text-align: right;\">2</td><td style = \"text-align: right;\">1</td><td style = \"text-align: left;\">off</td><td style = \"text-align: right;\">6460</td><td style = \"text-align: right;\">-9.52473</td><td style = \"text-align: right;\">0.578778</td><td style = \"text-align: right;\">-1.08534</td><td style = \"text-align: right;\">0</td><td style = \"text-align: right;\">0</td><td style = \"text-align: right;\">0</td><td style = \"text-align: left;\">Normal</td></tr><tr><td class = \"rowNumber\" style = \"font-weight: bold; text-align: right;\">525801</td><td style = \"text-align: left;\">fb14eb4a33</td><td style = \"text-align: left;\">4ca9b3</td><td style = \"text-align: right;\">2</td><td style = \"text-align: right;\">1</td><td style = \"text-align: left;\">off</td><td style = \"text-align: right;\">6461</td><td style = \"text-align: right;\">-9.52702</td><td style = \"text-align: right;\">0.58106</td><td style = \"text-align: right;\">-1.08309</td><td style = \"text-align: right;\">0</td><td style = \"text-align: right;\">0</td><td style = \"text-align: right;\">0</td><td style = \"text-align: left;\">Normal</td></tr><tr><td class = \"rowNumber\" style = \"font-weight: bold; text-align: right;\">525802</td><td style = \"text-align: left;\">fb14eb4a33</td><td style = \"text-align: left;\">4ca9b3</td><td style = \"text-align: right;\">2</td><td style = \"text-align: right;\">1</td><td style = \"text-align: left;\">off</td><td style = \"text-align: right;\">6462</td><td style = \"text-align: right;\">-9.53587</td><td style = \"text-align: right;\">0.585846</td><td style = \"text-align: right;\">-1.08294</td><td style = \"text-align: right;\">0</td><td style = \"text-align: right;\">0</td><td style = \"text-align: right;\">0</td><td style = \"text-align: left;\">Normal</td></tr><tr><td class = \"rowNumber\" style = \"font-weight: bold; text-align: right;\">525803</td><td style = \"text-align: left;\">fb14eb4a33</td><td style = \"text-align: left;\">4ca9b3</td><td style = \"text-align: right;\">2</td><td style = \"text-align: right;\">1</td><td style = \"text-align: left;\">off</td><td style = \"text-align: right;\">6463</td><td style = \"text-align: right;\">-9.52958</td><td style = \"text-align: right;\">0.583186</td><td style = \"text-align: right;\">-1.06742</td><td style = \"text-align: right;\">0</td><td style = \"text-align: right;\">0</td><td style = \"text-align: right;\">0</td><td style = \"text-align: left;\">Normal</td></tr><tr><td class = \"rowNumber\" style = \"font-weight: bold; text-align: right;\">525804</td><td style = \"text-align: left;\">fb14eb4a33</td><td style = \"text-align: left;\">4ca9b3</td><td style = \"text-align: right;\">2</td><td style = \"text-align: right;\">1</td><td style = \"text-align: left;\">off</td><td style = \"text-align: right;\">6464</td><td style = \"text-align: right;\">-9.53342</td><td style = \"text-align: right;\">0.588161</td><td style = \"text-align: right;\">-1.04666</td><td style = \"text-align: right;\">0</td><td style = \"text-align: right;\">0</td><td style = \"text-align: right;\">0</td><td style = \"text-align: left;\">Normal</td></tr></tbody></table></div>"
      ],
      "text/latex": [
       "\\begin{tabular}{r|cccccccccc}\n",
       "\t& Id & Subject & Visit & Test & Medication & Time & AccV & AccML & AccAP & \\\\\n",
       "\t\\hline\n",
       "\t& String15 & String7 & Int64 & Int64 & String3 & Int64 & Float64 & Float64 & Float64 & \\\\\n",
       "\t\\hline\n",
       "\t1 & 009ee11563 & f62eec & 4 & 2 & on & 0 & -9.4173 & 0.767819 & -1.75824 & $\\dots$ \\\\\n",
       "\t2 & 009ee11563 & f62eec & 4 & 2 & on & 1 & -9.4251 & 0.768246 & -1.75058 & $\\dots$ \\\\\n",
       "\t3 & 009ee11563 & f62eec & 4 & 2 & on & 2 & -9.41995 & 0.779039 & -1.74259 & $\\dots$ \\\\\n",
       "\t4 & 009ee11563 & f62eec & 4 & 2 & on & 3 & -9.42127 & 0.772523 & -1.74651 & $\\dots$ \\\\\n",
       "\t5 & 009ee11563 & f62eec & 4 & 2 & on & 4 & -9.42811 & 0.777142 & -1.75555 & $\\dots$ \\\\\n",
       "\t6 & 009ee11563 & f62eec & 4 & 2 & on & 5 & -9.42602 & 0.774812 & -1.76021 & $\\dots$ \\\\\n",
       "\t7 & 009ee11563 & f62eec & 4 & 2 & on & 6 & -9.42569 & 0.768126 & -1.7736 & $\\dots$ \\\\\n",
       "\t8 & 009ee11563 & f62eec & 4 & 2 & on & 7 & -9.43509 & 0.765923 & -1.76937 & $\\dots$ \\\\\n",
       "\t9 & 009ee11563 & f62eec & 4 & 2 & on & 8 & -9.43209 & 0.770584 & -1.77557 & $\\dots$ \\\\\n",
       "\t10 & 009ee11563 & f62eec & 4 & 2 & on & 9 & -9.4295 & 0.775137 & -1.77076 & $\\dots$ \\\\\n",
       "\t11 & 009ee11563 & f62eec & 4 & 2 & on & 10 & -9.41142 & 0.772588 & -1.76626 & $\\dots$ \\\\\n",
       "\t12 & 009ee11563 & f62eec & 4 & 2 & on & 11 & -9.42808 & 0.774885 & -1.74877 & $\\dots$ \\\\\n",
       "\t13 & 009ee11563 & f62eec & 4 & 2 & on & 12 & -9.4235 & 0.770305 & -1.74199 & $\\dots$ \\\\\n",
       "\t14 & 009ee11563 & f62eec & 4 & 2 & on & 13 & -9.41724 & 0.776865 & -1.7581 & $\\dots$ \\\\\n",
       "\t15 & 009ee11563 & f62eec & 4 & 2 & on & 14 & -9.41857 & 0.770342 & -1.75525 & $\\dots$ \\\\\n",
       "\t16 & 009ee11563 & f62eec & 4 & 2 & on & 15 & -9.41036 & 0.770009 & -1.76036 & $\\dots$ \\\\\n",
       "\t17 & 009ee11563 & f62eec & 4 & 2 & on & 16 & -9.42579 & 0.76133 & -1.77374 & $\\dots$ \\\\\n",
       "\t18 & 009ee11563 & f62eec & 4 & 2 & on & 17 & -9.42563 & 0.763608 & -1.75553 & $\\dots$ \\\\\n",
       "\t19 & 009ee11563 & f62eec & 4 & 2 & on & 18 & -9.42325 & 0.768116 & -1.75313 & $\\dots$ \\\\\n",
       "\t20 & 009ee11563 & f62eec & 4 & 2 & on & 19 & -9.42427 & 0.76787 & -1.74709 & $\\dots$ \\\\\n",
       "\t21 & 009ee11563 & f62eec & 4 & 2 & on & 20 & -9.43068 & 0.783869 & -1.74666 & $\\dots$ \\\\\n",
       "\t22 & 009ee11563 & f62eec & 4 & 2 & on & 21 & -9.42091 & 0.788434 & -1.76641 & $\\dots$ \\\\\n",
       "\t23 & 009ee11563 & f62eec & 4 & 2 & on & 22 & -9.40773 & 0.772329 & -1.77136 & $\\dots$ \\\\\n",
       "\t24 & 009ee11563 & f62eec & 4 & 2 & on & 23 & -9.41443 & 0.781489 & -1.77574 & $\\dots$ \\\\\n",
       "\t25 & 009ee11563 & f62eec & 4 & 2 & on & 24 & -9.4354 & 0.772634 & -1.77856 & $\\dots$ \\\\\n",
       "\t26 & 009ee11563 & f62eec & 4 & 2 & on & 25 & -9.43418 & 0.772913 & -1.7709 & $\\dots$ \\\\\n",
       "\t27 & 009ee11563 & f62eec & 4 & 2 & on & 26 & -9.43279 & 0.763644 & -1.77615 & $\\dots$ \\\\\n",
       "\t28 & 009ee11563 & f62eec & 4 & 2 & on & 27 & -9.41411 & 0.749968 & -1.79392 & $\\dots$ \\\\\n",
       "\t29 & 009ee11563 & f62eec & 4 & 2 & on & 28 & -9.41413 & 0.763503 & -1.78475 & $\\dots$ \\\\\n",
       "\t30 & 009ee11563 & f62eec & 4 & 2 & on & 29 & -9.4102 & 0.761039 & -1.78745 & $\\dots$ \\\\\n",
       "\t$\\dots$ & $\\dots$ & $\\dots$ & $\\dots$ & $\\dots$ & $\\dots$ & $\\dots$ & $\\dots$ & $\\dots$ & $\\dots$ &  \\\\\n",
       "\\end{tabular}\n"
      ],
      "text/plain": [
       "\u001b[1m525804×13 DataFrame\u001b[0m\n",
       "\u001b[1m    Row \u001b[0m│\u001b[1m Id         \u001b[0m\u001b[1m Subject \u001b[0m\u001b[1m Visit \u001b[0m\u001b[1m Test  \u001b[0m\u001b[1m Medication \u001b[0m\u001b[1m Time  \u001b[0m\u001b[1m AccV     \u001b[0m\u001b[1m AccM\u001b[0m ⋯\n",
       "        │\u001b[90m String15   \u001b[0m\u001b[90m String7 \u001b[0m\u001b[90m Int64 \u001b[0m\u001b[90m Int64 \u001b[0m\u001b[90m String3    \u001b[0m\u001b[90m Int64 \u001b[0m\u001b[90m Float64  \u001b[0m\u001b[90m Floa\u001b[0m ⋯\n",
       "────────┼───────────────────────────────────────────────────────────────────────\n",
       "      1 │ 009ee11563  f62eec       4      2  on              0  -9.4173   0.76 ⋯\n",
       "      2 │ 009ee11563  f62eec       4      2  on              1  -9.4251   0.76\n",
       "      3 │ 009ee11563  f62eec       4      2  on              2  -9.41995  0.77\n",
       "      4 │ 009ee11563  f62eec       4      2  on              3  -9.42127  0.77\n",
       "      5 │ 009ee11563  f62eec       4      2  on              4  -9.42811  0.77 ⋯\n",
       "      6 │ 009ee11563  f62eec       4      2  on              5  -9.42602  0.77\n",
       "      7 │ 009ee11563  f62eec       4      2  on              6  -9.42569  0.76\n",
       "      8 │ 009ee11563  f62eec       4      2  on              7  -9.43509  0.76\n",
       "      9 │ 009ee11563  f62eec       4      2  on              8  -9.43209  0.77 ⋯\n",
       "     10 │ 009ee11563  f62eec       4      2  on              9  -9.4295   0.77\n",
       "     11 │ 009ee11563  f62eec       4      2  on             10  -9.41142  0.77\n",
       "   ⋮    │     ⋮          ⋮       ⋮      ⋮        ⋮         ⋮       ⋮         ⋮ ⋱\n",
       " 525795 │ fb14eb4a33  4ca9b3       2      1  off          6455  -9.52566  0.58\n",
       " 525796 │ fb14eb4a33  4ca9b3       2      1  off          6456  -9.52386  0.57 ⋯\n",
       " 525797 │ fb14eb4a33  4ca9b3       2      1  off          6457  -9.52654  0.56\n",
       " 525798 │ fb14eb4a33  4ca9b3       2      1  off          6458  -9.52059  0.58\n",
       " 525799 │ fb14eb4a33  4ca9b3       2      1  off          6459  -9.52391  0.57\n",
       " 525800 │ fb14eb4a33  4ca9b3       2      1  off          6460  -9.52473  0.57 ⋯\n",
       " 525801 │ fb14eb4a33  4ca9b3       2      1  off          6461  -9.52702  0.58\n",
       " 525802 │ fb14eb4a33  4ca9b3       2      1  off          6462  -9.53587  0.58\n",
       " 525803 │ fb14eb4a33  4ca9b3       2      1  off          6463  -9.52958  0.58\n",
       " 525804 │ fb14eb4a33  4ca9b3       2      1  off          6464  -9.53342  0.58 ⋯\n",
       "\u001b[36m                                               6 columns and 525783 rows omitted\u001b[0m"
      ]
     },
     "execution_count": 33,
     "metadata": {},
     "output_type": "execute_result"
    }
   ],
   "source": [
    "parkinson = CSV.read(\"./filtered_data.csv\", DataFrame)"
   ]
  },
  {
   "cell_type": "code",
   "execution_count": 34,
   "metadata": {},
   "outputs": [
    {
     "data": {
      "text/plain": [
       "data_loader (generic function with 1 method)"
      ]
     },
     "execution_count": 34,
     "metadata": {},
     "output_type": "execute_result"
    }
   ],
   "source": [
    "@resumable function data_loader(parkinson_dataframe, batch_size ; labels=[\"StartHesitation\", \"Turn\", \"Walking\", \"Normal\"])\n",
    "    pdf = deepcopy(parkinson_dataframe)\n",
    "\n",
    "    for i in 1:batch_size:size(pdf, 1)\n",
    "        if i > size(pdf, 1)\n",
    "            break\n",
    "        end\n",
    "        x = hcat(\n",
    "            pdf[!, \"AccV\"][i:i+batch_size],\n",
    "            pdf[!, \"AccML\"][i:i+batch_size],\n",
    "            pdf[!, \"AccAP\"][i:i+batch_size]\n",
    "        )\n",
    "    \n",
    "        y = Flux.onehotbatch(pdf[!, \"event\"][i:i+batch_size], labels)\n",
    "        \n",
    "        @yield x, y\n",
    "    end\n",
    "end"
   ]
  },
  {
   "cell_type": "code",
   "execution_count": 35,
   "metadata": {},
   "outputs": [
    {
     "data": {
      "text/plain": [
       "init_params (generic function with 1 method)"
      ]
     },
     "execution_count": 35,
     "metadata": {},
     "output_type": "execute_result"
    }
   ],
   "source": [
    "function init_params(in::Integer, out::Integer, train::Bool ; mean=0.0, std=1.0)\n",
    "    [\n",
    "        in, out,\n",
    "        rand(Truncated(Normal(mean, std), -1, 1), 1)[1], # Wf\n",
    "        rand(Truncated(Normal(mean, std), -1, 1), 1)[1], # Wi\n",
    "        rand(Truncated(Normal(mean, std), -1, 1), 1)[1], # Wc\n",
    "        rand(Truncated(Normal(mean, std), -1, 1), 1)[1], # Wo\n",
    "        rand(Truncated(Normal(mean, std), -1, 1), 1)[1], # bf\n",
    "        rand(Truncated(Normal(mean, std), -1, 1), 1)[1], # bi\n",
    "        rand(Truncated(Normal(mean, std), -1, 1), 1)[1], # bc\n",
    "        rand(Truncated(Normal(mean, std), -1, 1), 1)[1], # bo\n",
    "        rand(Truncated(Normal(mean, std), -1, 1), 1)[1], # bo\n",
    "        rand(Truncated(Normal(mean, std), -1, 1), 1)[1], # bo\n",
    "        rand(Truncated(Normal(mean, std), -1, 1), 1)[1], # bo\n",
    "        rand(Truncated(Normal(mean, std), -1, 1), 1)[1], # bo\n",
    "\n",
    "        # both the Long-Term and Short-Term memories are initialized with 0 values\n",
    "        0,  # c\n",
    "        0,  # h\n",
    "        true # train\n",
    "    ]\n",
    "end\n"
   ]
  },
  {
   "cell_type": "code",
   "execution_count": 36,
   "metadata": {},
   "outputs": [
    {
     "data": {
      "text/plain": [
       "forward (generic function with 1 method)"
      ]
     },
     "execution_count": 36,
     "metadata": {},
     "output_type": "execute_result"
    }
   ],
   "source": [
    "# implementing the forwarding method which is used in the Chaining process\n",
    "function forward(x, lstm)\n",
    "    @show \"FORWARD CALLED\"\n",
    "    long_remember_percent = NNlib.sigmoid_fast((lstm.c * lstm.wlr1) + (x * lstm.wlr2) + lstm.blr1)\n",
    "    potential_remember_percent = NNlib.sigmoid_fast((lstm.h * lstm.wpr1) + (x * lstm.wpr2) + lstm.bpr1)\n",
    "    potential_memory = NNlib.tanh_fast((lstm.c * lstm.wp1) + (x * lstm.wp2) + lstm.bp1)\n",
    "    updated_long_memory = (lstm.c * long_remember_percent) + (potential_memory * potential_remember_percent)\n",
    "    output_percent = NNlib.sigmoid_fast((lstm.h * lstm.wo1) + (x * lstm.wo2) + lstm.bo1)\n",
    "    updated_short_memory = NNlib.tanh_fast(updated_long_memory) * output_percent\n",
    "\n",
    "    # updating the memory\n",
    "    if lstm.train\n",
    "        lstm.c, lstm.h = updated_long_memory, updated_short_memory\n",
    "    end\n",
    "\n",
    "    [updated_short_memory]\n",
    "end"
   ]
  },
  {
   "cell_type": "code",
   "execution_count": 37,
   "metadata": {},
   "outputs": [],
   "source": [
    "# custom Long Short-Term Memory layer\n",
    "mutable struct LSTM\n",
    "    # input and output size of the layer\n",
    "    in::Integer\n",
    "    out::Integer\n",
    "\n",
    "    # Wf::Matrix{Float64} # params of the Forget Gate\n",
    "    # Wi::Matrix{Float64} # params of the Input Gate\n",
    "    # Wc::Matrix{Float64} # params of the Input Modulation Gate\n",
    "    # Wo::Matrix{Float64} # params of the Output Gate\n",
    "\n",
    "    # # biases of the Gates above\n",
    "    # bf::Vector{Float64}\n",
    "    # bi::Vector{Float64}\n",
    "    # bc::Vector{Float64}\n",
    "    # bo::Vector{Float64}\n",
    "\n",
    "    wlr1::Float64\n",
    "    wlr2::Float64\n",
    "    blr1::Float64\n",
    "\n",
    "    wpr1::Float64\n",
    "    wpr2::Float64\n",
    "    bpr1::Float64\n",
    "\n",
    "    wp1::Float64\n",
    "    wp2::Float64\n",
    "    bp1::Float64\n",
    "\n",
    "    wo1::Float64\n",
    "    wo2::Float64\n",
    "    bo1::Float64\n",
    "\n",
    "\n",
    "    # cell state (aka. long-term memory) and hidden state (aka. short-term memory)\n",
    "    c::Float64\n",
    "    h::Float64\n",
    "\n",
    "    train::Bool\n",
    "end"
   ]
  },
  {
   "cell_type": "code",
   "execution_count": 38,
   "metadata": {},
   "outputs": [
    {
     "data": {
      "text/plain": [
       "LSTM"
      ]
     },
     "execution_count": 38,
     "metadata": {},
     "output_type": "execute_result"
    }
   ],
   "source": [
    "# defining the constructor\n",
    "LSTM(in::Integer, out::Integer, train::Bool) = LSTM(init_params(in, out, train)...)"
   ]
  },
  {
   "cell_type": "code",
   "execution_count": 39,
   "metadata": {},
   "outputs": [],
   "source": [
    "# Overload call, so the object can be used as a function\n",
    "(lstm::LSTM)(x; train = true) = forward(x, lstm, train)"
   ]
  },
  {
   "cell_type": "code",
   "execution_count": 40,
   "metadata": {},
   "outputs": [],
   "source": [
    "# creating a functor from the struct, so that the training can optimize its parameters\n",
    "Flux.@functor LSTM"
   ]
  },
  {
   "cell_type": "code",
   "execution_count": 41,
   "metadata": {},
   "outputs": [
    {
     "data": {
      "text/plain": [
       "LSTM"
      ]
     },
     "execution_count": 41,
     "metadata": {},
     "output_type": "execute_result"
    }
   ],
   "source": [
    "# creating the Long Short-Term Memory layer\n",
    "function LSTM((in, out)::Pair, train)\n",
    "    LSTM(in, out, train) # constructor\n",
    "end"
   ]
  },
  {
   "cell_type": "code",
   "execution_count": 42,
   "metadata": {},
   "outputs": [],
   "source": [
    "# explicitely defining the trainable parameters of the layer\n",
    "# all the Wrights and Biases are trainable\n",
    "# exceptions >> Cell State and Hidden State\n",
    "# Flux.trainable(lstm::LSTM) = (lstm.Wf, lstm.Wi, lstm.Wc, lstm.Wo, lstm.bf, lstm.bi, lstm.bc, lstm.bo,)\n",
    "Flux.trainable(lstm::LSTM) = (lstm.wlr1, lstm.wlr2, lstm.blr1, lstm.wpr1, lstm.wpr2, lstm.bpr1, lstm.wp1, lstm.wp2, lstm.bp1, lstm.wo1, lstm.wo2, lstm.bo1)"
   ]
  },
  {
   "cell_type": "code",
   "execution_count": 43,
   "metadata": {},
   "outputs": [],
   "source": [
    "input_size = 128\n",
    "hidden_size = 1\n",
    "num_classes = 4 \n",
    "\n",
    "model = Chain(\n",
    "    LSTM(input_size => hidden_size, true),\n",
    "    Dense(hidden_size => num_classes),\n",
    "    softmax\n",
    ")\n",
    "\n",
    ";"
   ]
  },
  {
   "cell_type": "code",
   "execution_count": 44,
   "metadata": {},
   "outputs": [],
   "source": [
    "loss(x, y) = Flux.crossentropy(model(x, false), y)\n",
    "optimizer = ADAM(0.001)\n",
    "epochs = 10\n",
    "batch_size = 127 # data loader returns batch_size + 1 samples\n",
    "\n",
    ";"
   ]
  },
  {
   "cell_type": "code",
   "execution_count": 45,
   "metadata": {},
   "outputs": [
    {
     "ename": "LoadError",
     "evalue": "MethodError: no method matching (::Chain{Tuple{LSTM, Dense{typeof(identity), Matrix{Float32}, Vector{Float32}}, typeof(softmax)}})(::Int64, ::Bool)\n\n\u001b[0mClosest candidates are:\n\u001b[0m  (::Chain)(::Any)\n\u001b[0m\u001b[90m   @\u001b[39m \u001b[32mFlux\u001b[39m \u001b[90m~/.julia/packages/Flux/n3cOc/src/layers/\u001b[39m\u001b[90m\u001b[4mbasic.jl:51\u001b[24m\u001b[39m\n",
     "output_type": "error",
     "traceback": [
      "MethodError: no method matching (::Chain{Tuple{LSTM, Dense{typeof(identity), Matrix{Float32}, Vector{Float32}}, typeof(softmax)}})(::Int64, ::Bool)\n\n\u001b[0mClosest candidates are:\n\u001b[0m  (::Chain)(::Any)\n\u001b[0m\u001b[90m   @\u001b[39m \u001b[32mFlux\u001b[39m \u001b[90m~/.julia/packages/Flux/n3cOc/src/layers/\u001b[39m\u001b[90m\u001b[4mbasic.jl:51\u001b[24m\u001b[39m\n",
      "",
      "Stacktrace:",
      " [1] macro expansion",
      "   @ ~/.julia/packages/Zygote/JeHtr/src/compiler/interface2.jl:101 [inlined]",
      " [2] _pullback(::Zygote.Context{true}, ::Chain{Tuple{LSTM, Dense{typeof(identity), Matrix{Float32}, Vector{Float32}}, typeof(softmax)}}, ::Int64, ::Bool)",
      "   @ Zygote ~/.julia/packages/Zygote/JeHtr/src/compiler/interface2.jl:101",
      " [3] _pullback",
      "   @ ./In[44]:1 [inlined]",
      " [4] _pullback(::Zygote.Context{true}, ::typeof(loss), ::Int64, ::Vector{Int64})",
      "   @ Zygote ~/.julia/packages/Zygote/JeHtr/src/compiler/interface2.jl:0",
      " [5] _pullback",
      "   @ ./In[45]:4 [inlined]",
      " [6] _pullback(::Zygote.Context{true}, ::var\"#22#23\"{Vector{Int64}, Int64})",
      "   @ Zygote ~/.julia/packages/Zygote/JeHtr/src/compiler/interface2.jl:0",
      " [7] pullback(f::Function, ps::Zygote.Params{Zygote.Buffer{Any, Vector{Any}}})",
      "   @ Zygote ~/.julia/packages/Zygote/JeHtr/src/compiler/interface.jl:384",
      " [8] gradient(f::Function, args::Zygote.Params{Zygote.Buffer{Any, Vector{Any}}})",
      "   @ Zygote ~/.julia/packages/Zygote/JeHtr/src/compiler/interface.jl:96",
      " [9] top-level scope",
      "   @ In[45]:3"
     ]
    }
   ],
   "source": [
    "for epoch in 1:epochs\n",
    "  for (input, output) in [(1, [0,0,1,0])] #data_loader(parkinson, batch_size)\n",
    "    grads = Flux.gradient(Flux.params(model)) do\n",
    "      loss(input, output)\n",
    "    end\n",
    "    Flux.update!(optimizer, Flux.params(model), grads)\n",
    "\n",
    "    break\n",
    "  end\n",
    "\n",
    "  break\n",
    "end"
   ]
  },
  {
   "cell_type": "code",
   "execution_count": null,
   "metadata": {},
   "outputs": [
    {
     "ename": "LoadError",
     "evalue": "MethodError: no method matching (::Chain{Tuple{LSTM, Dense{typeof(identity), Matrix{Float32}, Vector{Float32}}, typeof(softmax)}})(::Int64, ::Bool)\n\n\u001b[0mClosest candidates are:\n\u001b[0m  (::Chain)(::Any)\n\u001b[0m\u001b[90m   @\u001b[39m \u001b[35mFlux\u001b[39m \u001b[90m~/.julia/packages/Flux/n3cOc/src/layers/\u001b[39m\u001b[90m\u001b[4mbasic.jl:51\u001b[24m\u001b[39m\n",
     "output_type": "error",
     "traceback": [
      "MethodError: no method matching (::Chain{Tuple{LSTM, Dense{typeof(identity), Matrix{Float32}, Vector{Float32}}, typeof(softmax)}})(::Int64, ::Bool)\n\n\u001b[0mClosest candidates are:\n\u001b[0m  (::Chain)(::Any)\n\u001b[0m\u001b[90m   @\u001b[39m \u001b[35mFlux\u001b[39m \u001b[90m~/.julia/packages/Flux/n3cOc/src/layers/\u001b[39m\u001b[90m\u001b[4mbasic.jl:51\u001b[24m\u001b[39m\n",
      "",
      "Stacktrace:",
      " [1] top-level scope",
      "   @ In[16]:1"
     ]
    }
   ],
   "source": [
    "model(3, false)"
   ]
  },
  {
   "cell_type": "code",
   "execution_count": null,
   "metadata": {},
   "outputs": [],
   "source": []
  }
 ],
 "metadata": {
  "kernelspec": {
   "display_name": "Julia 1.9.1",
   "language": "julia",
   "name": "julia-1.9"
  },
  "language_info": {
   "file_extension": ".jl",
   "mimetype": "application/julia",
   "name": "julia",
   "version": "1.9.1"
  }
 },
 "nbformat": 4,
 "nbformat_minor": 2
}
