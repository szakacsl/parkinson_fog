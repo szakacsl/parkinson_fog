{
 "cells": [
  {
   "cell_type": "code",
   "execution_count": null,
   "metadata": {},
   "outputs": [],
   "source": [
    "import CSV, DataFrames, Plots\n",
    "\n",
    "base_dir = \"./train/\"\n",
    "tr1_dir = \"defog/\"\n",
    "tr1_fr  = 100\n",
    "tr2_dir = \"tdcsfog/\"\n",
    "tr2_fr  = 128\n",
    "\n",
    "# simulating the dataLoader\n",
    "all_files = readdir(base_dir*tr1_dir)\n",
    "\n",
    "rr = rand(1:length(all_files))\n",
    "@show rr\n",
    "# reading in a specific file\n",
    "df1 = CSV.read(base_dir*tr1_dir*all_files[rr] , DataFrames.DataFrame)\n",
    "df1.Time ./= tr1_fr;"
   ]
  },
  {
   "cell_type": "code",
   "execution_count": null,
   "metadata": {},
   "outputs": [],
   "source": [
    "events = CSV.read(\"events.csv\", DataFrames.DataFrame)"
   ]
  },
  {
   "cell_type": "code",
   "execution_count": null,
   "metadata": {},
   "outputs": [],
   "source": [
    "nii = size(df1)[1]\n",
    "sii = rand(1:nii)\n",
    "aii = sii .+ (1:min(nii-sii,500*tr1_fr))\n",
    "\n",
    "p = Plots.plot(size=(1300,400)) # layout=(3,1),\n",
    "color = 2 .* df1.StartHesitation .+ df1.Turn\n",
    "Plots.scatter!(p, df1.Time[aii], df1.AccV[aii], color=color[aii], label=false,title=\"AccV\",titlefontsize=9,msw=0,ms=1)\n",
    "Plots.scatter!(p, df1.Time[aii], df1.AccML[aii],color=color[aii], label=false,title=\"AccML\",titlefontsize=9,msw=0,ms=1)\n",
    "Plots.scatter!(p, df1.Time[aii], df1.AccAP[aii],color=color[aii], label=false,title=\"AccAP\",titlefontsize=9,msw=0,ms=1)\n",
    "\n",
    "p"
   ]
  },
  {
   "cell_type": "code",
   "execution_count": null,
   "metadata": {},
   "outputs": [],
   "source": [
    "Plots.savefig(\"need_to_average.pdf\")"
   ]
  },
  {
   "cell_type": "markdown",
   "metadata": {},
   "source": [
    "# Transforming from Freq1 to Freq2\n",
    "\n",
    "This section is about the transformation of a signal at frequency $\\omega_1$ to a signal with frequency $\\omega_2$, where frequency means the times a signal is sampled __in a second__."
   ]
  },
  {
   "cell_type": "code",
   "execution_count": null,
   "metadata": {},
   "outputs": [],
   "source": [
    "function transform(d1, fr1::Integer, fr2::Integer)\n",
    "    \n",
    "    nd1 = length(d1)\n",
    "    nd2 = Int(floor(nd1*fr2/fr1))\n",
    "    λ   = (0:(nd2-1))*fr1/fr2\n",
    "    ii1 = Int.(floor.(λ))\n",
    "    λ  -= ii1\n",
    "    d1  = vcat(deepcopy(d1), d1[end])\n",
    "\n",
    "    return (1 .- λ) .* d1[1 .+ ii1] + λ .* d1[2 .+ ii1]\n",
    "end\n",
    "\n",
    "# debug\n",
    "#t0 = collect(0:1.25:10)\n",
    "#t,λ = transform(t0,8,10)\n",
    "#@show t\n",
    "\n",
    "accV1 = df1.AccV[aii]\n",
    "time1 = df1.Time[aii]\n",
    "accV2 = transform(accV1, tr1_fr, tr2_fr)\n",
    "time2 = transform(time1, tr1_fr, tr2_fr)\n",
    "\n",
    "p = Plots.scatter(time1, accV1) # df1.AccV[aii])\n",
    "Plots.scatter!(p, time2, accV2 ,msw=0,ms=2) # \n"
   ]
  },
  {
   "cell_type": "code",
   "execution_count": null,
   "metadata": {},
   "outputs": [],
   "source": [
    "Plots.plot!(p,xlim=(1100,1101))"
   ]
  },
  {
   "cell_type": "markdown",
   "metadata": {},
   "source": [
    "# For the second data-set"
   ]
  },
  {
   "cell_type": "code",
   "execution_count": null,
   "metadata": {},
   "outputs": [],
   "source": [
    "# simulating the dataLoader\n",
    "all_f2 = readdir(base_dir*tr2_dir)\n",
    "\n",
    "rr2 = rand(1:length(all_f2))\n",
    "@show rr2\n",
    "# reading in a specific file\n",
    "df2 = CSV.read(base_dir*tr2_dir*all_f2[rr2] , DataFrames.DataFrame)\n",
    "df2.Time ./= tr2_fr;"
   ]
  },
  {
   "cell_type": "code",
   "execution_count": null,
   "metadata": {},
   "outputs": [],
   "source": [
    "nii = size(df2)[1]\n",
    "sii = rand(1:nii)\n",
    "aii = sii .+ (1:min(nii-sii,10*tr2_fr))\n",
    "\n",
    "p = Plots.plot(layout=(3,1),size=(800,400))\n",
    "color = 2 .* df2.StartHesitation .+ df2.Turn\n",
    "Plots.plot!(p[1], df2.Time[aii], df2.AccV[aii], color=color[aii], label=false,title=\"AccV\",titlefontsize=9)\n",
    "Plots.plot!(p[1], df1.Time[aii], df1.AccV[aii], label=false,title=\"AccV\",titlefontsize=9)\n",
    "\n",
    "Plots.plot!(p[2], df2.Time[aii], df2.AccML[aii],color=color[aii], label=false,title=\"AccML\",titlefontsize=9)\n",
    "Plots.plot!(p[2], df1.Time[aii], df1.AccML[aii], label=false,title=\"AccML\",titlefontsize=9)\n",
    "\n",
    "Plots.plot!(p[3], df2.Time[aii], df2.AccAP[aii],color=color[aii], label=false,title=\"AccAP\",titlefontsize=9)\n",
    "Plots.plot!(p[3], df1.Time[aii], df1.AccAP[aii], label=false,title=\"AccAP\",titlefontsize=9)\n"
   ]
  },
  {
   "cell_type": "markdown",
   "metadata": {},
   "source": [
    "# Your task is to:\n",
    "\n",
    "1. build a data loader that samples the __events__ (from the \"events.csv\" file), copies chunks using a number $D$ of _continuous_ samples. The output is assigned as a weights into which classes are present in the series of length $D$.\n",
    "\n",
    "1. Build a neural network that is capable to read in $D$ values and produce a $K$ outputs, where $K$ is the number of different classifications possible.\n",
    "\n",
    "1. Evaluate the system for different values of $D$ and different architectures.\n"
   ]
  },
  {
   "cell_type": "code",
   "execution_count": null,
   "metadata": {},
   "outputs": [],
   "source": []
  }
 ],
 "metadata": {
  "kernelspec": {
   "display_name": "Julia 1.8.5",
   "language": "julia",
   "name": "julia-1.8"
  },
  "language_info": {
   "file_extension": ".jl",
   "mimetype": "application/julia",
   "name": "julia",
   "version": "1.8.5"
  },
  "toc": {
   "base_numbering": 1,
   "nav_menu": {},
   "number_sections": true,
   "sideBar": true,
   "skip_h1_title": false,
   "title_cell": "Table of Contents",
   "title_sidebar": "Contents",
   "toc_cell": false,
   "toc_position": {},
   "toc_section_display": true,
   "toc_window_display": false
  }
 },
 "nbformat": 4,
 "nbformat_minor": 2
}
