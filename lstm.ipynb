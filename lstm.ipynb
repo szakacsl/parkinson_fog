{
 "cells": [
  {
   "cell_type": "markdown",
   "metadata": {},
   "source": [
    "### Implementing Long Short-Term Memory to detect and classify Parkinsons' Freezing of Gait types in time series data"
   ]
  },
  {
   "cell_type": "code",
   "execution_count": 1,
   "metadata": {},
   "outputs": [],
   "source": [
    "using Pkg\n",
    "\n",
    "# Pkg.add(\"NNlib\")\n",
    "# Pkg.add(\"DataFrames\")\n",
    "# Pkg.add(\"ResumableFunctions\")"
   ]
  },
  {
   "cell_type": "code",
   "execution_count": 2,
   "metadata": {},
   "outputs": [
    {
     "name": "stderr",
     "output_type": "stream",
     "text": [
      "\u001b[91m\u001b[1m┌ \u001b[22m\u001b[39m\u001b[91m\u001b[1mError: \u001b[22m\u001b[39mThis version of CUDA.jl only supports NVIDIA drivers for CUDA 11.x or higher (yours is for CUDA 9.1.0)\n",
      "\u001b[91m\u001b[1m└ \u001b[22m\u001b[39m\u001b[90m@ CUDA C:\\Users\\hurub\\.julia\\packages\\CUDA\\s0e3j\\src\\initialization.jl:64\u001b[39m\n"
     ]
    }
   ],
   "source": [
    "using Flux\n",
    "using Flux: @epochs, batch, throttle\n",
    "\n",
    "using CSV\n",
    "using NNlib\n",
    "using DataFrames\n",
    "using Distributions\n",
    "using ResumableFunctions"
   ]
  },
  {
   "cell_type": "code",
   "execution_count": 3,
   "metadata": {},
   "outputs": [
    {
     "data": {
      "text/html": [
       "<div><div style = \"float: left;\"><span>525804×13 DataFrame</span></div><div style = \"float: right;\"><span style = \"font-style: italic;\">525779 rows omitted</span></div><div style = \"clear: both;\"></div></div><div class = \"data-frame\" style = \"overflow-x: scroll;\"><table class = \"data-frame\" style = \"margin-bottom: 6px;\"><thead><tr class = \"header\"><th class = \"rowNumber\" style = \"font-weight: bold; text-align: right;\">Row</th><th style = \"text-align: left;\">Id</th><th style = \"text-align: left;\">Subject</th><th style = \"text-align: left;\">Visit</th><th style = \"text-align: left;\">Test</th><th style = \"text-align: left;\">Medication</th><th style = \"text-align: left;\">Time</th><th style = \"text-align: left;\">AccV</th><th style = \"text-align: left;\">AccML</th><th style = \"text-align: left;\">AccAP</th><th style = \"text-align: left;\">StartHesitation</th><th style = \"text-align: left;\">Turn</th><th style = \"text-align: left;\">Walking</th><th style = \"text-align: left;\">event</th></tr><tr class = \"subheader headerLastRow\"><th class = \"rowNumber\" style = \"font-weight: bold; text-align: right;\"></th><th title = \"String15\" style = \"text-align: left;\">String15</th><th title = \"String7\" style = \"text-align: left;\">String7</th><th title = \"Int64\" style = \"text-align: left;\">Int64</th><th title = \"Int64\" style = \"text-align: left;\">Int64</th><th title = \"String3\" style = \"text-align: left;\">String3</th><th title = \"Int64\" style = \"text-align: left;\">Int64</th><th title = \"Float64\" style = \"text-align: left;\">Float64</th><th title = \"Float64\" style = \"text-align: left;\">Float64</th><th title = \"Float64\" style = \"text-align: left;\">Float64</th><th title = \"Int64\" style = \"text-align: left;\">Int64</th><th title = \"Int64\" style = \"text-align: left;\">Int64</th><th title = \"Int64\" style = \"text-align: left;\">Int64</th><th title = \"String7\" style = \"text-align: left;\">String7</th></tr></thead><tbody><tr><td class = \"rowNumber\" style = \"font-weight: bold; text-align: right;\">1</td><td style = \"text-align: left;\">009ee11563</td><td style = \"text-align: left;\">f62eec</td><td style = \"text-align: right;\">4</td><td style = \"text-align: right;\">2</td><td style = \"text-align: left;\">on</td><td style = \"text-align: right;\">0</td><td style = \"text-align: right;\">-9.4173</td><td style = \"text-align: right;\">0.767819</td><td style = \"text-align: right;\">-1.75824</td><td style = \"text-align: right;\">0</td><td style = \"text-align: right;\">0</td><td style = \"text-align: right;\">0</td><td style = \"text-align: left;\">Normal</td></tr><tr><td class = \"rowNumber\" style = \"font-weight: bold; text-align: right;\">2</td><td style = \"text-align: left;\">009ee11563</td><td style = \"text-align: left;\">f62eec</td><td style = \"text-align: right;\">4</td><td style = \"text-align: right;\">2</td><td style = \"text-align: left;\">on</td><td style = \"text-align: right;\">1</td><td style = \"text-align: right;\">-9.4251</td><td style = \"text-align: right;\">0.768246</td><td style = \"text-align: right;\">-1.75058</td><td style = \"text-align: right;\">0</td><td style = \"text-align: right;\">0</td><td style = \"text-align: right;\">0</td><td style = \"text-align: left;\">Normal</td></tr><tr><td class = \"rowNumber\" style = \"font-weight: bold; text-align: right;\">3</td><td style = \"text-align: left;\">009ee11563</td><td style = \"text-align: left;\">f62eec</td><td style = \"text-align: right;\">4</td><td style = \"text-align: right;\">2</td><td style = \"text-align: left;\">on</td><td style = \"text-align: right;\">2</td><td style = \"text-align: right;\">-9.41995</td><td style = \"text-align: right;\">0.779039</td><td style = \"text-align: right;\">-1.74259</td><td style = \"text-align: right;\">0</td><td style = \"text-align: right;\">0</td><td style = \"text-align: right;\">0</td><td style = \"text-align: left;\">Normal</td></tr><tr><td class = \"rowNumber\" style = \"font-weight: bold; text-align: right;\">4</td><td style = \"text-align: left;\">009ee11563</td><td style = \"text-align: left;\">f62eec</td><td style = \"text-align: right;\">4</td><td style = \"text-align: right;\">2</td><td style = \"text-align: left;\">on</td><td style = \"text-align: right;\">3</td><td style = \"text-align: right;\">-9.42127</td><td style = \"text-align: right;\">0.772523</td><td style = \"text-align: right;\">-1.74651</td><td style = \"text-align: right;\">0</td><td style = \"text-align: right;\">0</td><td style = \"text-align: right;\">0</td><td style = \"text-align: left;\">Normal</td></tr><tr><td class = \"rowNumber\" style = \"font-weight: bold; text-align: right;\">5</td><td style = \"text-align: left;\">009ee11563</td><td style = \"text-align: left;\">f62eec</td><td style = \"text-align: right;\">4</td><td style = \"text-align: right;\">2</td><td style = \"text-align: left;\">on</td><td style = \"text-align: right;\">4</td><td style = \"text-align: right;\">-9.42811</td><td style = \"text-align: right;\">0.777142</td><td style = \"text-align: right;\">-1.75555</td><td style = \"text-align: right;\">0</td><td style = \"text-align: right;\">0</td><td style = \"text-align: right;\">0</td><td style = \"text-align: left;\">Normal</td></tr><tr><td class = \"rowNumber\" style = \"font-weight: bold; text-align: right;\">6</td><td style = \"text-align: left;\">009ee11563</td><td style = \"text-align: left;\">f62eec</td><td style = \"text-align: right;\">4</td><td style = \"text-align: right;\">2</td><td style = \"text-align: left;\">on</td><td style = \"text-align: right;\">5</td><td style = \"text-align: right;\">-9.42602</td><td style = \"text-align: right;\">0.774812</td><td style = \"text-align: right;\">-1.76021</td><td style = \"text-align: right;\">0</td><td style = \"text-align: right;\">0</td><td style = \"text-align: right;\">0</td><td style = \"text-align: left;\">Normal</td></tr><tr><td class = \"rowNumber\" style = \"font-weight: bold; text-align: right;\">7</td><td style = \"text-align: left;\">009ee11563</td><td style = \"text-align: left;\">f62eec</td><td style = \"text-align: right;\">4</td><td style = \"text-align: right;\">2</td><td style = \"text-align: left;\">on</td><td style = \"text-align: right;\">6</td><td style = \"text-align: right;\">-9.42569</td><td style = \"text-align: right;\">0.768126</td><td style = \"text-align: right;\">-1.7736</td><td style = \"text-align: right;\">0</td><td style = \"text-align: right;\">0</td><td style = \"text-align: right;\">0</td><td style = \"text-align: left;\">Normal</td></tr><tr><td class = \"rowNumber\" style = \"font-weight: bold; text-align: right;\">8</td><td style = \"text-align: left;\">009ee11563</td><td style = \"text-align: left;\">f62eec</td><td style = \"text-align: right;\">4</td><td style = \"text-align: right;\">2</td><td style = \"text-align: left;\">on</td><td style = \"text-align: right;\">7</td><td style = \"text-align: right;\">-9.43509</td><td style = \"text-align: right;\">0.765923</td><td style = \"text-align: right;\">-1.76937</td><td style = \"text-align: right;\">0</td><td style = \"text-align: right;\">0</td><td style = \"text-align: right;\">0</td><td style = \"text-align: left;\">Normal</td></tr><tr><td class = \"rowNumber\" style = \"font-weight: bold; text-align: right;\">9</td><td style = \"text-align: left;\">009ee11563</td><td style = \"text-align: left;\">f62eec</td><td style = \"text-align: right;\">4</td><td style = \"text-align: right;\">2</td><td style = \"text-align: left;\">on</td><td style = \"text-align: right;\">8</td><td style = \"text-align: right;\">-9.43209</td><td style = \"text-align: right;\">0.770584</td><td style = \"text-align: right;\">-1.77557</td><td style = \"text-align: right;\">0</td><td style = \"text-align: right;\">0</td><td style = \"text-align: right;\">0</td><td style = \"text-align: left;\">Normal</td></tr><tr><td class = \"rowNumber\" style = \"font-weight: bold; text-align: right;\">10</td><td style = \"text-align: left;\">009ee11563</td><td style = \"text-align: left;\">f62eec</td><td style = \"text-align: right;\">4</td><td style = \"text-align: right;\">2</td><td style = \"text-align: left;\">on</td><td style = \"text-align: right;\">9</td><td style = \"text-align: right;\">-9.4295</td><td style = \"text-align: right;\">0.775137</td><td style = \"text-align: right;\">-1.77076</td><td style = \"text-align: right;\">0</td><td style = \"text-align: right;\">0</td><td style = \"text-align: right;\">0</td><td style = \"text-align: left;\">Normal</td></tr><tr><td class = \"rowNumber\" style = \"font-weight: bold; text-align: right;\">11</td><td style = \"text-align: left;\">009ee11563</td><td style = \"text-align: left;\">f62eec</td><td style = \"text-align: right;\">4</td><td style = \"text-align: right;\">2</td><td style = \"text-align: left;\">on</td><td style = \"text-align: right;\">10</td><td style = \"text-align: right;\">-9.41142</td><td style = \"text-align: right;\">0.772588</td><td style = \"text-align: right;\">-1.76626</td><td style = \"text-align: right;\">0</td><td style = \"text-align: right;\">0</td><td style = \"text-align: right;\">0</td><td style = \"text-align: left;\">Normal</td></tr><tr><td class = \"rowNumber\" style = \"font-weight: bold; text-align: right;\">12</td><td style = \"text-align: left;\">009ee11563</td><td style = \"text-align: left;\">f62eec</td><td style = \"text-align: right;\">4</td><td style = \"text-align: right;\">2</td><td style = \"text-align: left;\">on</td><td style = \"text-align: right;\">11</td><td style = \"text-align: right;\">-9.42808</td><td style = \"text-align: right;\">0.774885</td><td style = \"text-align: right;\">-1.74877</td><td style = \"text-align: right;\">0</td><td style = \"text-align: right;\">0</td><td style = \"text-align: right;\">0</td><td style = \"text-align: left;\">Normal</td></tr><tr><td class = \"rowNumber\" style = \"font-weight: bold; text-align: right;\">13</td><td style = \"text-align: left;\">009ee11563</td><td style = \"text-align: left;\">f62eec</td><td style = \"text-align: right;\">4</td><td style = \"text-align: right;\">2</td><td style = \"text-align: left;\">on</td><td style = \"text-align: right;\">12</td><td style = \"text-align: right;\">-9.4235</td><td style = \"text-align: right;\">0.770305</td><td style = \"text-align: right;\">-1.74199</td><td style = \"text-align: right;\">0</td><td style = \"text-align: right;\">0</td><td style = \"text-align: right;\">0</td><td style = \"text-align: left;\">Normal</td></tr><tr><td style = \"text-align: right;\">&vellip;</td><td style = \"text-align: right;\">&vellip;</td><td style = \"text-align: right;\">&vellip;</td><td style = \"text-align: right;\">&vellip;</td><td style = \"text-align: right;\">&vellip;</td><td style = \"text-align: right;\">&vellip;</td><td style = \"text-align: right;\">&vellip;</td><td style = \"text-align: right;\">&vellip;</td><td style = \"text-align: right;\">&vellip;</td><td style = \"text-align: right;\">&vellip;</td><td style = \"text-align: right;\">&vellip;</td><td style = \"text-align: right;\">&vellip;</td><td style = \"text-align: right;\">&vellip;</td><td style = \"text-align: right;\">&vellip;</td></tr><tr><td class = \"rowNumber\" style = \"font-weight: bold; text-align: right;\">525793</td><td style = \"text-align: left;\">fb14eb4a33</td><td style = \"text-align: left;\">4ca9b3</td><td style = \"text-align: right;\">2</td><td style = \"text-align: right;\">1</td><td style = \"text-align: left;\">off</td><td style = \"text-align: right;\">6453</td><td style = \"text-align: right;\">-9.53302</td><td style = \"text-align: right;\">0.579309</td><td style = \"text-align: right;\">-1.04424</td><td style = \"text-align: right;\">0</td><td style = \"text-align: right;\">0</td><td style = \"text-align: right;\">0</td><td style = \"text-align: left;\">Normal</td></tr><tr><td class = \"rowNumber\" style = \"font-weight: bold; text-align: right;\">525794</td><td style = \"text-align: left;\">fb14eb4a33</td><td style = \"text-align: left;\">4ca9b3</td><td style = \"text-align: right;\">2</td><td style = \"text-align: right;\">1</td><td style = \"text-align: left;\">off</td><td style = \"text-align: right;\">6454</td><td style = \"text-align: right;\">-9.52948</td><td style = \"text-align: right;\">0.592304</td><td style = \"text-align: right;\">-1.05148</td><td style = \"text-align: right;\">0</td><td style = \"text-align: right;\">0</td><td style = \"text-align: right;\">0</td><td style = \"text-align: left;\">Normal</td></tr><tr><td class = \"rowNumber\" style = \"font-weight: bold; text-align: right;\">525795</td><td style = \"text-align: left;\">fb14eb4a33</td><td style = \"text-align: left;\">4ca9b3</td><td style = \"text-align: right;\">2</td><td style = \"text-align: right;\">1</td><td style = \"text-align: left;\">off</td><td style = \"text-align: right;\">6455</td><td style = \"text-align: right;\">-9.52566</td><td style = \"text-align: right;\">0.58729</td><td style = \"text-align: right;\">-1.0361</td><td style = \"text-align: right;\">0</td><td style = \"text-align: right;\">0</td><td style = \"text-align: right;\">0</td><td style = \"text-align: left;\">Normal</td></tr><tr><td class = \"rowNumber\" style = \"font-weight: bold; text-align: right;\">525796</td><td style = \"text-align: left;\">fb14eb4a33</td><td style = \"text-align: left;\">4ca9b3</td><td style = \"text-align: right;\">2</td><td style = \"text-align: right;\">1</td><td style = \"text-align: left;\">off</td><td style = \"text-align: right;\">6456</td><td style = \"text-align: right;\">-9.52386</td><td style = \"text-align: right;\">0.570158</td><td style = \"text-align: right;\">-1.03295</td><td style = \"text-align: right;\">0</td><td style = \"text-align: right;\">0</td><td style = \"text-align: right;\">0</td><td style = \"text-align: left;\">Normal</td></tr><tr><td class = \"rowNumber\" style = \"font-weight: bold; text-align: right;\">525797</td><td style = \"text-align: left;\">fb14eb4a33</td><td style = \"text-align: left;\">4ca9b3</td><td style = \"text-align: right;\">2</td><td style = \"text-align: right;\">1</td><td style = \"text-align: left;\">off</td><td style = \"text-align: right;\">6457</td><td style = \"text-align: right;\">-9.52654</td><td style = \"text-align: right;\">0.565428</td><td style = \"text-align: right;\">-1.04679</td><td style = \"text-align: right;\">0</td><td style = \"text-align: right;\">0</td><td style = \"text-align: right;\">0</td><td style = \"text-align: left;\">Normal</td></tr><tr><td class = \"rowNumber\" style = \"font-weight: bold; text-align: right;\">525798</td><td style = \"text-align: left;\">fb14eb4a33</td><td style = \"text-align: left;\">4ca9b3</td><td style = \"text-align: right;\">2</td><td style = \"text-align: right;\">1</td><td style = \"text-align: left;\">off</td><td style = \"text-align: right;\">6458</td><td style = \"text-align: right;\">-9.52059</td><td style = \"text-align: right;\">0.585287</td><td style = \"text-align: right;\">-1.06743</td><td style = \"text-align: right;\">0</td><td style = \"text-align: right;\">0</td><td style = \"text-align: right;\">0</td><td style = \"text-align: left;\">Normal</td></tr><tr><td class = \"rowNumber\" style = \"font-weight: bold; text-align: right;\">525799</td><td style = \"text-align: left;\">fb14eb4a33</td><td style = \"text-align: left;\">4ca9b3</td><td style = \"text-align: right;\">2</td><td style = \"text-align: right;\">1</td><td style = \"text-align: left;\">off</td><td style = \"text-align: right;\">6459</td><td style = \"text-align: right;\">-9.52391</td><td style = \"text-align: right;\">0.574692</td><td style = \"text-align: right;\">-1.06909</td><td style = \"text-align: right;\">0</td><td style = \"text-align: right;\">0</td><td style = \"text-align: right;\">0</td><td style = \"text-align: left;\">Normal</td></tr><tr><td class = \"rowNumber\" style = \"font-weight: bold; text-align: right;\">525800</td><td style = \"text-align: left;\">fb14eb4a33</td><td style = \"text-align: left;\">4ca9b3</td><td style = \"text-align: right;\">2</td><td style = \"text-align: right;\">1</td><td style = \"text-align: left;\">off</td><td style = \"text-align: right;\">6460</td><td style = \"text-align: right;\">-9.52473</td><td style = \"text-align: right;\">0.578778</td><td style = \"text-align: right;\">-1.08534</td><td style = \"text-align: right;\">0</td><td style = \"text-align: right;\">0</td><td style = \"text-align: right;\">0</td><td style = \"text-align: left;\">Normal</td></tr><tr><td class = \"rowNumber\" style = \"font-weight: bold; text-align: right;\">525801</td><td style = \"text-align: left;\">fb14eb4a33</td><td style = \"text-align: left;\">4ca9b3</td><td style = \"text-align: right;\">2</td><td style = \"text-align: right;\">1</td><td style = \"text-align: left;\">off</td><td style = \"text-align: right;\">6461</td><td style = \"text-align: right;\">-9.52702</td><td style = \"text-align: right;\">0.58106</td><td style = \"text-align: right;\">-1.08309</td><td style = \"text-align: right;\">0</td><td style = \"text-align: right;\">0</td><td style = \"text-align: right;\">0</td><td style = \"text-align: left;\">Normal</td></tr><tr><td class = \"rowNumber\" style = \"font-weight: bold; text-align: right;\">525802</td><td style = \"text-align: left;\">fb14eb4a33</td><td style = \"text-align: left;\">4ca9b3</td><td style = \"text-align: right;\">2</td><td style = \"text-align: right;\">1</td><td style = \"text-align: left;\">off</td><td style = \"text-align: right;\">6462</td><td style = \"text-align: right;\">-9.53587</td><td style = \"text-align: right;\">0.585846</td><td style = \"text-align: right;\">-1.08294</td><td style = \"text-align: right;\">0</td><td style = \"text-align: right;\">0</td><td style = \"text-align: right;\">0</td><td style = \"text-align: left;\">Normal</td></tr><tr><td class = \"rowNumber\" style = \"font-weight: bold; text-align: right;\">525803</td><td style = \"text-align: left;\">fb14eb4a33</td><td style = \"text-align: left;\">4ca9b3</td><td style = \"text-align: right;\">2</td><td style = \"text-align: right;\">1</td><td style = \"text-align: left;\">off</td><td style = \"text-align: right;\">6463</td><td style = \"text-align: right;\">-9.52958</td><td style = \"text-align: right;\">0.583186</td><td style = \"text-align: right;\">-1.06742</td><td style = \"text-align: right;\">0</td><td style = \"text-align: right;\">0</td><td style = \"text-align: right;\">0</td><td style = \"text-align: left;\">Normal</td></tr><tr><td class = \"rowNumber\" style = \"font-weight: bold; text-align: right;\">525804</td><td style = \"text-align: left;\">fb14eb4a33</td><td style = \"text-align: left;\">4ca9b3</td><td style = \"text-align: right;\">2</td><td style = \"text-align: right;\">1</td><td style = \"text-align: left;\">off</td><td style = \"text-align: right;\">6464</td><td style = \"text-align: right;\">-9.53342</td><td style = \"text-align: right;\">0.588161</td><td style = \"text-align: right;\">-1.04666</td><td style = \"text-align: right;\">0</td><td style = \"text-align: right;\">0</td><td style = \"text-align: right;\">0</td><td style = \"text-align: left;\">Normal</td></tr></tbody></table></div>"
      ],
      "text/latex": [
       "\\begin{tabular}{r|cccccccccc}\n",
       "\t& Id & Subject & Visit & Test & Medication & Time & AccV & AccML & AccAP & \\\\\n",
       "\t\\hline\n",
       "\t& String15 & String7 & Int64 & Int64 & String3 & Int64 & Float64 & Float64 & Float64 & \\\\\n",
       "\t\\hline\n",
       "\t1 & 009ee11563 & f62eec & 4 & 2 & on & 0 & -9.4173 & 0.767819 & -1.75824 & $\\dots$ \\\\\n",
       "\t2 & 009ee11563 & f62eec & 4 & 2 & on & 1 & -9.4251 & 0.768246 & -1.75058 & $\\dots$ \\\\\n",
       "\t3 & 009ee11563 & f62eec & 4 & 2 & on & 2 & -9.41995 & 0.779039 & -1.74259 & $\\dots$ \\\\\n",
       "\t4 & 009ee11563 & f62eec & 4 & 2 & on & 3 & -9.42127 & 0.772523 & -1.74651 & $\\dots$ \\\\\n",
       "\t5 & 009ee11563 & f62eec & 4 & 2 & on & 4 & -9.42811 & 0.777142 & -1.75555 & $\\dots$ \\\\\n",
       "\t6 & 009ee11563 & f62eec & 4 & 2 & on & 5 & -9.42602 & 0.774812 & -1.76021 & $\\dots$ \\\\\n",
       "\t7 & 009ee11563 & f62eec & 4 & 2 & on & 6 & -9.42569 & 0.768126 & -1.7736 & $\\dots$ \\\\\n",
       "\t8 & 009ee11563 & f62eec & 4 & 2 & on & 7 & -9.43509 & 0.765923 & -1.76937 & $\\dots$ \\\\\n",
       "\t9 & 009ee11563 & f62eec & 4 & 2 & on & 8 & -9.43209 & 0.770584 & -1.77557 & $\\dots$ \\\\\n",
       "\t10 & 009ee11563 & f62eec & 4 & 2 & on & 9 & -9.4295 & 0.775137 & -1.77076 & $\\dots$ \\\\\n",
       "\t11 & 009ee11563 & f62eec & 4 & 2 & on & 10 & -9.41142 & 0.772588 & -1.76626 & $\\dots$ \\\\\n",
       "\t12 & 009ee11563 & f62eec & 4 & 2 & on & 11 & -9.42808 & 0.774885 & -1.74877 & $\\dots$ \\\\\n",
       "\t13 & 009ee11563 & f62eec & 4 & 2 & on & 12 & -9.4235 & 0.770305 & -1.74199 & $\\dots$ \\\\\n",
       "\t14 & 009ee11563 & f62eec & 4 & 2 & on & 13 & -9.41724 & 0.776865 & -1.7581 & $\\dots$ \\\\\n",
       "\t15 & 009ee11563 & f62eec & 4 & 2 & on & 14 & -9.41857 & 0.770342 & -1.75525 & $\\dots$ \\\\\n",
       "\t16 & 009ee11563 & f62eec & 4 & 2 & on & 15 & -9.41036 & 0.770009 & -1.76036 & $\\dots$ \\\\\n",
       "\t17 & 009ee11563 & f62eec & 4 & 2 & on & 16 & -9.42579 & 0.76133 & -1.77374 & $\\dots$ \\\\\n",
       "\t18 & 009ee11563 & f62eec & 4 & 2 & on & 17 & -9.42563 & 0.763608 & -1.75553 & $\\dots$ \\\\\n",
       "\t19 & 009ee11563 & f62eec & 4 & 2 & on & 18 & -9.42325 & 0.768116 & -1.75313 & $\\dots$ \\\\\n",
       "\t20 & 009ee11563 & f62eec & 4 & 2 & on & 19 & -9.42427 & 0.76787 & -1.74709 & $\\dots$ \\\\\n",
       "\t21 & 009ee11563 & f62eec & 4 & 2 & on & 20 & -9.43068 & 0.783869 & -1.74666 & $\\dots$ \\\\\n",
       "\t22 & 009ee11563 & f62eec & 4 & 2 & on & 21 & -9.42091 & 0.788434 & -1.76641 & $\\dots$ \\\\\n",
       "\t23 & 009ee11563 & f62eec & 4 & 2 & on & 22 & -9.40773 & 0.772329 & -1.77136 & $\\dots$ \\\\\n",
       "\t24 & 009ee11563 & f62eec & 4 & 2 & on & 23 & -9.41443 & 0.781489 & -1.77574 & $\\dots$ \\\\\n",
       "\t25 & 009ee11563 & f62eec & 4 & 2 & on & 24 & -9.4354 & 0.772634 & -1.77856 & $\\dots$ \\\\\n",
       "\t26 & 009ee11563 & f62eec & 4 & 2 & on & 25 & -9.43418 & 0.772913 & -1.7709 & $\\dots$ \\\\\n",
       "\t27 & 009ee11563 & f62eec & 4 & 2 & on & 26 & -9.43279 & 0.763644 & -1.77615 & $\\dots$ \\\\\n",
       "\t28 & 009ee11563 & f62eec & 4 & 2 & on & 27 & -9.41411 & 0.749968 & -1.79392 & $\\dots$ \\\\\n",
       "\t29 & 009ee11563 & f62eec & 4 & 2 & on & 28 & -9.41413 & 0.763503 & -1.78475 & $\\dots$ \\\\\n",
       "\t30 & 009ee11563 & f62eec & 4 & 2 & on & 29 & -9.4102 & 0.761039 & -1.78745 & $\\dots$ \\\\\n",
       "\t$\\dots$ & $\\dots$ & $\\dots$ & $\\dots$ & $\\dots$ & $\\dots$ & $\\dots$ & $\\dots$ & $\\dots$ & $\\dots$ &  \\\\\n",
       "\\end{tabular}\n"
      ],
      "text/plain": [
       "\u001b[1m525804×13 DataFrame\u001b[0m\n",
       "\u001b[1m    Row \u001b[0m│\u001b[1m Id         \u001b[0m\u001b[1m Subject \u001b[0m\u001b[1m Visit \u001b[0m\u001b[1m Test  \u001b[0m\u001b[1m Medication \u001b[0m\u001b[1m Time  \u001b[0m\u001b[1m AccV     \u001b[0m\u001b[1m AccM\u001b[0m ⋯\n",
       "        │\u001b[90m String15   \u001b[0m\u001b[90m String7 \u001b[0m\u001b[90m Int64 \u001b[0m\u001b[90m Int64 \u001b[0m\u001b[90m String3    \u001b[0m\u001b[90m Int64 \u001b[0m\u001b[90m Float64  \u001b[0m\u001b[90m Floa\u001b[0m ⋯\n",
       "────────┼───────────────────────────────────────────────────────────────────────\n",
       "      1 │ 009ee11563  f62eec       4      2  on              0  -9.4173   0.76 ⋯\n",
       "      2 │ 009ee11563  f62eec       4      2  on              1  -9.4251   0.76\n",
       "      3 │ 009ee11563  f62eec       4      2  on              2  -9.41995  0.77\n",
       "      4 │ 009ee11563  f62eec       4      2  on              3  -9.42127  0.77\n",
       "      5 │ 009ee11563  f62eec       4      2  on              4  -9.42811  0.77 ⋯\n",
       "      6 │ 009ee11563  f62eec       4      2  on              5  -9.42602  0.77\n",
       "      7 │ 009ee11563  f62eec       4      2  on              6  -9.42569  0.76\n",
       "      8 │ 009ee11563  f62eec       4      2  on              7  -9.43509  0.76\n",
       "      9 │ 009ee11563  f62eec       4      2  on              8  -9.43209  0.77 ⋯\n",
       "     10 │ 009ee11563  f62eec       4      2  on              9  -9.4295   0.77\n",
       "     11 │ 009ee11563  f62eec       4      2  on             10  -9.41142  0.77\n",
       "   ⋮    │     ⋮          ⋮       ⋮      ⋮        ⋮         ⋮       ⋮         ⋮ ⋱\n",
       " 525795 │ fb14eb4a33  4ca9b3       2      1  off          6455  -9.52566  0.58\n",
       " 525796 │ fb14eb4a33  4ca9b3       2      1  off          6456  -9.52386  0.57 ⋯\n",
       " 525797 │ fb14eb4a33  4ca9b3       2      1  off          6457  -9.52654  0.56\n",
       " 525798 │ fb14eb4a33  4ca9b3       2      1  off          6458  -9.52059  0.58\n",
       " 525799 │ fb14eb4a33  4ca9b3       2      1  off          6459  -9.52391  0.57\n",
       " 525800 │ fb14eb4a33  4ca9b3       2      1  off          6460  -9.52473  0.57 ⋯\n",
       " 525801 │ fb14eb4a33  4ca9b3       2      1  off          6461  -9.52702  0.58\n",
       " 525802 │ fb14eb4a33  4ca9b3       2      1  off          6462  -9.53587  0.58\n",
       " 525803 │ fb14eb4a33  4ca9b3       2      1  off          6463  -9.52958  0.58\n",
       " 525804 │ fb14eb4a33  4ca9b3       2      1  off          6464  -9.53342  0.58 ⋯\n",
       "\u001b[36m                                               6 columns and 525783 rows omitted\u001b[0m"
      ]
     },
     "execution_count": 3,
     "metadata": {},
     "output_type": "execute_result"
    }
   ],
   "source": [
    "parkinson = CSV.read(\"./filtered_data.csv\", DataFrame)"
   ]
  },
  {
   "cell_type": "code",
   "execution_count": 4,
   "metadata": {},
   "outputs": [
    {
     "data": {
      "text/plain": [
       "data_loader (generic function with 1 method)"
      ]
     },
     "execution_count": 4,
     "metadata": {},
     "output_type": "execute_result"
    }
   ],
   "source": [
    "@resumable function data_loader(parkinson_dataframe, batch_size ; labels=[\"StartHesitation\", \"Turn\", \"Walking\", \"Normal\"])\n",
    "    pdf = deepcopy(parkinson_dataframe)\n",
    "\n",
    "    for i in 1:batch_size:size(pdf, 1)\n",
    "        if i > size(pdf, 1)\n",
    "            break\n",
    "        end\n",
    "        x = hcat(\n",
    "            pdf[!, \"AccV\"][i:i+batch_size],\n",
    "            pdf[!, \"AccML\"][i:i+batch_size],\n",
    "            pdf[!, \"AccAP\"][i:i+batch_size]\n",
    "        )\n",
    "    \n",
    "        y = Flux.onehotbatch(pdf[!, \"event\"][i:i+batch_size], labels)\n",
    "        \n",
    "        @yield x, y\n",
    "    end\n",
    "end"
   ]
  },
  {
   "cell_type": "code",
   "execution_count": 14,
   "metadata": {},
   "outputs": [
    {
     "data": {
      "text/plain": [
       "init_params (generic function with 1 method)"
      ]
     },
     "execution_count": 14,
     "metadata": {},
     "output_type": "execute_result"
    }
   ],
   "source": [
    "# # initialize weights with Gaussian distribution\n",
    "function init_params(in::Integer, out::Integer ; mean=0.0, std=1.0)\n",
    "    [\n",
    "        in, out,\n",
    "        rand(Truncated(Normal(mean, std), 0, 1), (out, in)), # Wf\n",
    "        rand(Truncated(Normal(mean, std), 0, 1), (out, in)), # Wi\n",
    "        rand(Truncated(Normal(mean, std), 0, 1), (out, in)), # Wc\n",
    "        rand(Truncated(Normal(mean, std), 0, 1), (out, in)), # Wo\n",
    "        rand(Truncated(Normal(mean, std), 0, 1), out), # bf\n",
    "        rand(Truncated(Normal(mean, std), 0, 1), out), # bi\n",
    "        rand(Truncated(Normal(mean, std), 0, 1), out), # bc\n",
    "        rand(Truncated(Normal(mean, std), 0, 1), out), # bo\n",
    "\n",
    "        # both the Long-Term and Short-Term memories are initialized with 0 values\n",
    "        zeros(out, in), # c\n",
    "        zeros(out, in)  # h\n",
    "    ]\n",
    "end"
   ]
  },
  {
   "cell_type": "code",
   "execution_count": 18,
   "metadata": {},
   "outputs": [
    {
     "data": {
      "text/plain": [
       "forward (generic function with 1 method)"
      ]
     },
     "execution_count": 18,
     "metadata": {},
     "output_type": "execute_result"
    }
   ],
   "source": [
    "# implementing the forwarding method which is used in the Chaining process\n",
    "function forward(x, lstm)\n",
    "    # @show \"FORWARD CALLED\"\n",
    "    # @assert typeof(lstm.Wf) == Matrix{Float64}\n",
    "    # @assert typeof(lstm.bf) == Vector{Float64}\n",
    "    \n",
    "    # calculating the Memory modifier values\n",
    "    f = NNlib.sigmoid_fast(lstm.Wf * x .+ lstm.bf) #\n",
    "    i = NNlib.sigmoid_fast(lstm.Wi * x .+ lstm.bi) #\n",
    "    o = NNlib.sigmoid_fast(lstm.Wo * x .+ lstm.bo) #\n",
    "\n",
    "    # @show \"f-i-o was calculated\"\n",
    "\n",
    "    # calculating the new memory values\n",
    "    c = f .* lstm.c .+ i .* NNlib.tanh_fast(lstm.Wc * x .+ lstm.bc) # new Long-Term Memory\n",
    "    h = o .* NNlib.tanh_fast(c) # new Short-Term Memory\n",
    "\n",
    "    # @show \"c-h was calculated\"\n",
    "\n",
    "    # updating the memory\n",
    "    lstm.c, lstm.h = c, h\n",
    "\n",
    "    # @show \"memory was updated!\"\n",
    "\n",
    "    # returning the hidden parameters for the next layer\n",
    "    # @show \"assert H\"\n",
    "    # @assert typeof(h) == Matrix{Float64}\n",
    "    # @show size(h)\n",
    "    h\n",
    "end"
   ]
  },
  {
   "cell_type": "code",
   "execution_count": 7,
   "metadata": {},
   "outputs": [],
   "source": [
    "# custom Long Short-Term Memory layer\n",
    "mutable struct LSTM\n",
    "    # input and output size of the layer\n",
    "    in::Integer\n",
    "    out::Integer\n",
    "\n",
    "    Wf::Matrix{Float64} # params of the Forget Gate\n",
    "    Wi::Matrix{Float64} # params of the Input Gate\n",
    "    Wc::Matrix{Float64} # params of the Input Modulation Gate\n",
    "    Wo::Matrix{Float64} # params of the Output Gate\n",
    "\n",
    "    # biases of the Gates above\n",
    "    bf::Vector{Float64}\n",
    "    bi::Vector{Float64}\n",
    "    bc::Vector{Float64}\n",
    "    bo::Vector{Float64}\n",
    "\n",
    "    # cell state (aka. long-term memory) and hidden state (aka. short-term memory)\n",
    "    c::Matrix{Float64}\n",
    "    h::Matrix{Float64}\n",
    "end"
   ]
  },
  {
   "cell_type": "code",
   "execution_count": 8,
   "metadata": {},
   "outputs": [
    {
     "data": {
      "text/plain": [
       "LSTM"
      ]
     },
     "execution_count": 8,
     "metadata": {},
     "output_type": "execute_result"
    }
   ],
   "source": [
    "# defining the constructor\n",
    "LSTM(in::Integer, out::Integer) = LSTM(init_params(in, out)...)"
   ]
  },
  {
   "cell_type": "code",
   "execution_count": 9,
   "metadata": {},
   "outputs": [],
   "source": [
    "# Overload call, so the object can be used as a function\n",
    "(lstm::LSTM)(x) = forward(x, lstm)"
   ]
  },
  {
   "cell_type": "code",
   "execution_count": 10,
   "metadata": {},
   "outputs": [],
   "source": [
    "# creating a functor from the struct, so that the training can optimize its parameters\n",
    "Flux.@functor LSTM"
   ]
  },
  {
   "cell_type": "code",
   "execution_count": 11,
   "metadata": {},
   "outputs": [
    {
     "data": {
      "text/plain": [
       "LSTM"
      ]
     },
     "execution_count": 11,
     "metadata": {},
     "output_type": "execute_result"
    }
   ],
   "source": [
    "# creating the Long Short-Term Memory layer\n",
    "function LSTM((in, out)::Pair)\n",
    "    LSTM(in, out) # constructor\n",
    "end"
   ]
  },
  {
   "cell_type": "code",
   "execution_count": 12,
   "metadata": {},
   "outputs": [],
   "source": [
    "# explicitely defining the trainable parameters of the layer\n",
    "# all the Wrights and Biases are trainable\n",
    "# exceptions >> Cell State and Hidden State\n",
    "Flux.trainable(lstm::LSTM) = (lstm.Wf, lstm.Wi, lstm.Wc, lstm.Wo, lstm.bf, lstm.bi, lstm.bc, lstm.bo,)"
   ]
  },
  {
   "cell_type": "code",
   "execution_count": 15,
   "metadata": {},
   "outputs": [],
   "source": [
    "input_size = 128\n",
    "hidden_size = 20\n",
    "num_classes = 4 \n",
    "\n",
    "model = Chain(\n",
    "    LSTM(input_size => hidden_size),\n",
    "    Dense(hidden_size => num_classes),\n",
    "    softmax\n",
    ")\n",
    "\n",
    ";"
   ]
  },
  {
   "cell_type": "code",
   "execution_count": 16,
   "metadata": {},
   "outputs": [],
   "source": [
    "loss(x, y) = Flux.crossentropy(model(x), y)\n",
    "optimizer = ADAM(0.001)\n",
    "epochs = 10\n",
    "batch_size = 127 # data loader returns batch_size + 1 samples\n",
    "\n",
    ";"
   ]
  },
  {
   "cell_type": "code",
   "execution_count": 19,
   "metadata": {},
   "outputs": [
    {
     "ename": "LoadError",
     "evalue": "DimensionMismatch: arrays could not be broadcast to a common size; got a dimension with lengths 3 and 128",
     "output_type": "error",
     "traceback": [
      "DimensionMismatch: arrays could not be broadcast to a common size; got a dimension with lengths 3 and 128",
      "",
      "Stacktrace:",
      "  [1] _bcs1",
      "    @ .\\broadcast.jl:516 [inlined]",
      "  [2] _bcs (repeats 2 times)",
      "    @ .\\broadcast.jl:510 [inlined]",
      "  [3] broadcast_shape",
      "    @ .\\broadcast.jl:504 [inlined]",
      "  [4] combine_axes",
      "    @ .\\broadcast.jl:499 [inlined]",
      "  [5] instantiate",
      "    @ .\\broadcast.jl:281 [inlined]",
      "  [6] materialize",
      "    @ .\\broadcast.jl:860 [inlined]",
      "  [7] adjoint",
      "    @ C:\\Users\\hurub\\.julia\\packages\\Zygote\\SuKWp\\src\\lib\\broadcast.jl:92 [inlined]",
      "  [8] _pullback",
      "    @ C:\\Users\\hurub\\.julia\\packages\\ZygoteRules\\OgCVT\\src\\adjoint.jl:66 [inlined]",
      "  [9] _pullback",
      "    @ .\\In[18]:15 [inlined]",
      " [10] _pullback(::Zygote.Context{true}, ::typeof(forward), ::Matrix{Float64}, ::LSTM)",
      "    @ Zygote C:\\Users\\hurub\\.julia\\packages\\Zygote\\SuKWp\\src\\compiler\\interface2.jl:0",
      " [11] _pullback",
      "    @ .\\In[9]:2 [inlined]",
      " [12] _pullback(ctx::Zygote.Context{true}, f::LSTM, args::Matrix{Float64})",
      "    @ Zygote C:\\Users\\hurub\\.julia\\packages\\Zygote\\SuKWp\\src\\compiler\\interface2.jl:0",
      " [13] macro expansion",
      "    @ C:\\Users\\hurub\\.julia\\packages\\Flux\\Nzh8J\\src\\layers\\basic.jl:53 [inlined]",
      " [14] _pullback",
      "    @ C:\\Users\\hurub\\.julia\\packages\\Flux\\Nzh8J\\src\\layers\\basic.jl:53 [inlined]",
      " [15] _pullback(::Zygote.Context{true}, ::typeof(Flux._applychain), ::Tuple{LSTM, Dense{typeof(identity), Matrix{Float32}, Vector{Float32}}, typeof(softmax)}, ::Matrix{Float64})",
      "    @ Zygote C:\\Users\\hurub\\.julia\\packages\\Zygote\\SuKWp\\src\\compiler\\interface2.jl:0",
      " [16] _pullback",
      "    @ C:\\Users\\hurub\\.julia\\packages\\Flux\\Nzh8J\\src\\layers\\basic.jl:51 [inlined]",
      " [17] _pullback(ctx::Zygote.Context{true}, f::Chain{Tuple{LSTM, Dense{typeof(identity), Matrix{Float32}, Vector{Float32}}, typeof(softmax)}}, args::Matrix{Float64})",
      "    @ Zygote C:\\Users\\hurub\\.julia\\packages\\Zygote\\SuKWp\\src\\compiler\\interface2.jl:0",
      " [18] _pullback",
      "    @ .\\In[16]:1 [inlined]",
      " [19] _pullback(::Zygote.Context{true}, ::typeof(loss), ::Matrix{Float64}, ::OneHotArrays.OneHotMatrix{UInt32, Vector{UInt32}})",
      "    @ Zygote C:\\Users\\hurub\\.julia\\packages\\Zygote\\SuKWp\\src\\compiler\\interface2.jl:0",
      " [20] _pullback",
      "    @ .\\In[19]:4 [inlined]",
      " [21] _pullback(::Zygote.Context{true}, ::var\"#8#9\"{OneHotArrays.OneHotMatrix{UInt32, Vector{UInt32}}, Matrix{Float64}})",
      "    @ Zygote C:\\Users\\hurub\\.julia\\packages\\Zygote\\SuKWp\\src\\compiler\\interface2.jl:0",
      " [22] pullback(f::Function, ps::Zygote.Params{Zygote.Buffer{Any, Vector{Any}}})",
      "    @ Zygote C:\\Users\\hurub\\.julia\\packages\\Zygote\\SuKWp\\src\\compiler\\interface.jl:384",
      " [23] gradient(f::Function, args::Zygote.Params{Zygote.Buffer{Any, Vector{Any}}})",
      "    @ Zygote C:\\Users\\hurub\\.julia\\packages\\Zygote\\SuKWp\\src\\compiler\\interface.jl:96",
      " [24] top-level scope",
      "    @ In[19]:3"
     ]
    }
   ],
   "source": [
    "for epoch in 1:epochs\n",
    "  for (input, output) in data_loader(parkinson, batch_size)\n",
    "    grads = Flux.gradient(Flux.params(model)) do\n",
    "      loss(input, output)\n",
    "    end\n",
    "    Flux.update!(optimizer, Flux.params(model), grads)\n",
    "\n",
    "    break\n",
    "  end\n",
    "\n",
    "  break\n",
    "end"
   ]
  },
  {
   "cell_type": "code",
   "execution_count": null,
   "metadata": {},
   "outputs": [],
   "source": []
  }
 ],
 "metadata": {
  "kernelspec": {
   "display_name": "Julia 1.8.2",
   "language": "julia",
   "name": "julia-1.8"
  },
  "language_info": {
   "file_extension": ".jl",
   "mimetype": "application/julia",
   "name": "julia",
   "version": "1.8.2"
  },
  "orig_nbformat": 4
 },
 "nbformat": 4,
 "nbformat_minor": 2
}
