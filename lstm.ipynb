{
 "cells": [
  {
   "cell_type": "markdown",
   "metadata": {},
   "source": [
    "### Implementing Long Short-Term Memory to detect and classify Parkinsons' Freezing of Gait types in time series data"
   ]
  },
  {
   "cell_type": "code",
   "execution_count": 1,
   "metadata": {},
   "outputs": [],
   "source": [
    "using Pkg\n",
    "\n",
    "# Pkg.add(\"CSV\")\n",
    "# Pkg.add(\"NNlib\")\n",
    "# Pkg.add(\"DataFrames\")\n",
    "# Pkg.add(\"Distributions\")\n",
    "# Pkg.add(\"ResumableFunctions\")\n",
    "# Pkg.add(\"Flux\")\n"
   ]
  },
  {
   "cell_type": "code",
   "execution_count": 24,
   "metadata": {},
   "outputs": [],
   "source": [
    "using Flux\n",
    "using Flux: @epochs, batch, throttle\n",
    "\n",
    "using CSV\n",
    "using Plots\n",
    "using NNlib\n",
    "using Random\n",
    "using DataFrames\n",
    "using Distributions\n",
    "using ResumableFunctions"
   ]
  },
  {
   "cell_type": "code",
   "execution_count": 3,
   "metadata": {},
   "outputs": [
    {
     "data": {
      "text/html": [
       "<div><div style = \"float: left;\"><span>525804×13 DataFrame</span></div><div style = \"float: right;\"><span style = \"font-style: italic;\">525779 rows omitted</span></div><div style = \"clear: both;\"></div></div><div class = \"data-frame\" style = \"overflow-x: scroll;\"><table class = \"data-frame\" style = \"margin-bottom: 6px;\"><thead><tr class = \"header\"><th class = \"rowNumber\" style = \"font-weight: bold; text-align: right;\">Row</th><th style = \"text-align: left;\">Id</th><th style = \"text-align: left;\">Subject</th><th style = \"text-align: left;\">Visit</th><th style = \"text-align: left;\">Test</th><th style = \"text-align: left;\">Medication</th><th style = \"text-align: left;\">Time</th><th style = \"text-align: left;\">AccV</th><th style = \"text-align: left;\">AccML</th><th style = \"text-align: left;\">AccAP</th><th style = \"text-align: left;\">StartHesitation</th><th style = \"text-align: left;\">Turn</th><th style = \"text-align: left;\">Walking</th><th style = \"text-align: left;\">event</th></tr><tr class = \"subheader headerLastRow\"><th class = \"rowNumber\" style = \"font-weight: bold; text-align: right;\"></th><th title = \"String15\" style = \"text-align: left;\">String15</th><th title = \"String7\" style = \"text-align: left;\">String7</th><th title = \"Int64\" style = \"text-align: left;\">Int64</th><th title = \"Int64\" style = \"text-align: left;\">Int64</th><th title = \"String3\" style = \"text-align: left;\">String3</th><th title = \"Int64\" style = \"text-align: left;\">Int64</th><th title = \"Float64\" style = \"text-align: left;\">Float64</th><th title = \"Float64\" style = \"text-align: left;\">Float64</th><th title = \"Float64\" style = \"text-align: left;\">Float64</th><th title = \"Int64\" style = \"text-align: left;\">Int64</th><th title = \"Int64\" style = \"text-align: left;\">Int64</th><th title = \"Int64\" style = \"text-align: left;\">Int64</th><th title = \"String7\" style = \"text-align: left;\">String7</th></tr></thead><tbody><tr><td class = \"rowNumber\" style = \"font-weight: bold; text-align: right;\">1</td><td style = \"text-align: left;\">009ee11563</td><td style = \"text-align: left;\">f62eec</td><td style = \"text-align: right;\">4</td><td style = \"text-align: right;\">2</td><td style = \"text-align: left;\">on</td><td style = \"text-align: right;\">0</td><td style = \"text-align: right;\">-9.4173</td><td style = \"text-align: right;\">0.767819</td><td style = \"text-align: right;\">-1.75824</td><td style = \"text-align: right;\">0</td><td style = \"text-align: right;\">0</td><td style = \"text-align: right;\">0</td><td style = \"text-align: left;\">Normal</td></tr><tr><td class = \"rowNumber\" style = \"font-weight: bold; text-align: right;\">2</td><td style = \"text-align: left;\">009ee11563</td><td style = \"text-align: left;\">f62eec</td><td style = \"text-align: right;\">4</td><td style = \"text-align: right;\">2</td><td style = \"text-align: left;\">on</td><td style = \"text-align: right;\">1</td><td style = \"text-align: right;\">-9.4251</td><td style = \"text-align: right;\">0.768246</td><td style = \"text-align: right;\">-1.75058</td><td style = \"text-align: right;\">0</td><td style = \"text-align: right;\">0</td><td style = \"text-align: right;\">0</td><td style = \"text-align: left;\">Normal</td></tr><tr><td class = \"rowNumber\" style = \"font-weight: bold; text-align: right;\">3</td><td style = \"text-align: left;\">009ee11563</td><td style = \"text-align: left;\">f62eec</td><td style = \"text-align: right;\">4</td><td style = \"text-align: right;\">2</td><td style = \"text-align: left;\">on</td><td style = \"text-align: right;\">2</td><td style = \"text-align: right;\">-9.41995</td><td style = \"text-align: right;\">0.779039</td><td style = \"text-align: right;\">-1.74259</td><td style = \"text-align: right;\">0</td><td style = \"text-align: right;\">0</td><td style = \"text-align: right;\">0</td><td style = \"text-align: left;\">Normal</td></tr><tr><td class = \"rowNumber\" style = \"font-weight: bold; text-align: right;\">4</td><td style = \"text-align: left;\">009ee11563</td><td style = \"text-align: left;\">f62eec</td><td style = \"text-align: right;\">4</td><td style = \"text-align: right;\">2</td><td style = \"text-align: left;\">on</td><td style = \"text-align: right;\">3</td><td style = \"text-align: right;\">-9.42127</td><td style = \"text-align: right;\">0.772523</td><td style = \"text-align: right;\">-1.74651</td><td style = \"text-align: right;\">0</td><td style = \"text-align: right;\">0</td><td style = \"text-align: right;\">0</td><td style = \"text-align: left;\">Normal</td></tr><tr><td class = \"rowNumber\" style = \"font-weight: bold; text-align: right;\">5</td><td style = \"text-align: left;\">009ee11563</td><td style = \"text-align: left;\">f62eec</td><td style = \"text-align: right;\">4</td><td style = \"text-align: right;\">2</td><td style = \"text-align: left;\">on</td><td style = \"text-align: right;\">4</td><td style = \"text-align: right;\">-9.42811</td><td style = \"text-align: right;\">0.777142</td><td style = \"text-align: right;\">-1.75555</td><td style = \"text-align: right;\">0</td><td style = \"text-align: right;\">0</td><td style = \"text-align: right;\">0</td><td style = \"text-align: left;\">Normal</td></tr><tr><td class = \"rowNumber\" style = \"font-weight: bold; text-align: right;\">6</td><td style = \"text-align: left;\">009ee11563</td><td style = \"text-align: left;\">f62eec</td><td style = \"text-align: right;\">4</td><td style = \"text-align: right;\">2</td><td style = \"text-align: left;\">on</td><td style = \"text-align: right;\">5</td><td style = \"text-align: right;\">-9.42602</td><td style = \"text-align: right;\">0.774812</td><td style = \"text-align: right;\">-1.76021</td><td style = \"text-align: right;\">0</td><td style = \"text-align: right;\">0</td><td style = \"text-align: right;\">0</td><td style = \"text-align: left;\">Normal</td></tr><tr><td class = \"rowNumber\" style = \"font-weight: bold; text-align: right;\">7</td><td style = \"text-align: left;\">009ee11563</td><td style = \"text-align: left;\">f62eec</td><td style = \"text-align: right;\">4</td><td style = \"text-align: right;\">2</td><td style = \"text-align: left;\">on</td><td style = \"text-align: right;\">6</td><td style = \"text-align: right;\">-9.42569</td><td style = \"text-align: right;\">0.768126</td><td style = \"text-align: right;\">-1.7736</td><td style = \"text-align: right;\">0</td><td style = \"text-align: right;\">0</td><td style = \"text-align: right;\">0</td><td style = \"text-align: left;\">Normal</td></tr><tr><td class = \"rowNumber\" style = \"font-weight: bold; text-align: right;\">8</td><td style = \"text-align: left;\">009ee11563</td><td style = \"text-align: left;\">f62eec</td><td style = \"text-align: right;\">4</td><td style = \"text-align: right;\">2</td><td style = \"text-align: left;\">on</td><td style = \"text-align: right;\">7</td><td style = \"text-align: right;\">-9.43509</td><td style = \"text-align: right;\">0.765923</td><td style = \"text-align: right;\">-1.76937</td><td style = \"text-align: right;\">0</td><td style = \"text-align: right;\">0</td><td style = \"text-align: right;\">0</td><td style = \"text-align: left;\">Normal</td></tr><tr><td class = \"rowNumber\" style = \"font-weight: bold; text-align: right;\">9</td><td style = \"text-align: left;\">009ee11563</td><td style = \"text-align: left;\">f62eec</td><td style = \"text-align: right;\">4</td><td style = \"text-align: right;\">2</td><td style = \"text-align: left;\">on</td><td style = \"text-align: right;\">8</td><td style = \"text-align: right;\">-9.43209</td><td style = \"text-align: right;\">0.770584</td><td style = \"text-align: right;\">-1.77557</td><td style = \"text-align: right;\">0</td><td style = \"text-align: right;\">0</td><td style = \"text-align: right;\">0</td><td style = \"text-align: left;\">Normal</td></tr><tr><td class = \"rowNumber\" style = \"font-weight: bold; text-align: right;\">10</td><td style = \"text-align: left;\">009ee11563</td><td style = \"text-align: left;\">f62eec</td><td style = \"text-align: right;\">4</td><td style = \"text-align: right;\">2</td><td style = \"text-align: left;\">on</td><td style = \"text-align: right;\">9</td><td style = \"text-align: right;\">-9.4295</td><td style = \"text-align: right;\">0.775137</td><td style = \"text-align: right;\">-1.77076</td><td style = \"text-align: right;\">0</td><td style = \"text-align: right;\">0</td><td style = \"text-align: right;\">0</td><td style = \"text-align: left;\">Normal</td></tr><tr><td class = \"rowNumber\" style = \"font-weight: bold; text-align: right;\">11</td><td style = \"text-align: left;\">009ee11563</td><td style = \"text-align: left;\">f62eec</td><td style = \"text-align: right;\">4</td><td style = \"text-align: right;\">2</td><td style = \"text-align: left;\">on</td><td style = \"text-align: right;\">10</td><td style = \"text-align: right;\">-9.41142</td><td style = \"text-align: right;\">0.772588</td><td style = \"text-align: right;\">-1.76626</td><td style = \"text-align: right;\">0</td><td style = \"text-align: right;\">0</td><td style = \"text-align: right;\">0</td><td style = \"text-align: left;\">Normal</td></tr><tr><td class = \"rowNumber\" style = \"font-weight: bold; text-align: right;\">12</td><td style = \"text-align: left;\">009ee11563</td><td style = \"text-align: left;\">f62eec</td><td style = \"text-align: right;\">4</td><td style = \"text-align: right;\">2</td><td style = \"text-align: left;\">on</td><td style = \"text-align: right;\">11</td><td style = \"text-align: right;\">-9.42808</td><td style = \"text-align: right;\">0.774885</td><td style = \"text-align: right;\">-1.74877</td><td style = \"text-align: right;\">0</td><td style = \"text-align: right;\">0</td><td style = \"text-align: right;\">0</td><td style = \"text-align: left;\">Normal</td></tr><tr><td class = \"rowNumber\" style = \"font-weight: bold; text-align: right;\">13</td><td style = \"text-align: left;\">009ee11563</td><td style = \"text-align: left;\">f62eec</td><td style = \"text-align: right;\">4</td><td style = \"text-align: right;\">2</td><td style = \"text-align: left;\">on</td><td style = \"text-align: right;\">12</td><td style = \"text-align: right;\">-9.4235</td><td style = \"text-align: right;\">0.770305</td><td style = \"text-align: right;\">-1.74199</td><td style = \"text-align: right;\">0</td><td style = \"text-align: right;\">0</td><td style = \"text-align: right;\">0</td><td style = \"text-align: left;\">Normal</td></tr><tr><td style = \"text-align: right;\">&vellip;</td><td style = \"text-align: right;\">&vellip;</td><td style = \"text-align: right;\">&vellip;</td><td style = \"text-align: right;\">&vellip;</td><td style = \"text-align: right;\">&vellip;</td><td style = \"text-align: right;\">&vellip;</td><td style = \"text-align: right;\">&vellip;</td><td style = \"text-align: right;\">&vellip;</td><td style = \"text-align: right;\">&vellip;</td><td style = \"text-align: right;\">&vellip;</td><td style = \"text-align: right;\">&vellip;</td><td style = \"text-align: right;\">&vellip;</td><td style = \"text-align: right;\">&vellip;</td><td style = \"text-align: right;\">&vellip;</td></tr><tr><td class = \"rowNumber\" style = \"font-weight: bold; text-align: right;\">525793</td><td style = \"text-align: left;\">fb14eb4a33</td><td style = \"text-align: left;\">4ca9b3</td><td style = \"text-align: right;\">2</td><td style = \"text-align: right;\">1</td><td style = \"text-align: left;\">off</td><td style = \"text-align: right;\">6453</td><td style = \"text-align: right;\">-9.53302</td><td style = \"text-align: right;\">0.579309</td><td style = \"text-align: right;\">-1.04424</td><td style = \"text-align: right;\">0</td><td style = \"text-align: right;\">0</td><td style = \"text-align: right;\">0</td><td style = \"text-align: left;\">Normal</td></tr><tr><td class = \"rowNumber\" style = \"font-weight: bold; text-align: right;\">525794</td><td style = \"text-align: left;\">fb14eb4a33</td><td style = \"text-align: left;\">4ca9b3</td><td style = \"text-align: right;\">2</td><td style = \"text-align: right;\">1</td><td style = \"text-align: left;\">off</td><td style = \"text-align: right;\">6454</td><td style = \"text-align: right;\">-9.52948</td><td style = \"text-align: right;\">0.592304</td><td style = \"text-align: right;\">-1.05148</td><td style = \"text-align: right;\">0</td><td style = \"text-align: right;\">0</td><td style = \"text-align: right;\">0</td><td style = \"text-align: left;\">Normal</td></tr><tr><td class = \"rowNumber\" style = \"font-weight: bold; text-align: right;\">525795</td><td style = \"text-align: left;\">fb14eb4a33</td><td style = \"text-align: left;\">4ca9b3</td><td style = \"text-align: right;\">2</td><td style = \"text-align: right;\">1</td><td style = \"text-align: left;\">off</td><td style = \"text-align: right;\">6455</td><td style = \"text-align: right;\">-9.52566</td><td style = \"text-align: right;\">0.58729</td><td style = \"text-align: right;\">-1.0361</td><td style = \"text-align: right;\">0</td><td style = \"text-align: right;\">0</td><td style = \"text-align: right;\">0</td><td style = \"text-align: left;\">Normal</td></tr><tr><td class = \"rowNumber\" style = \"font-weight: bold; text-align: right;\">525796</td><td style = \"text-align: left;\">fb14eb4a33</td><td style = \"text-align: left;\">4ca9b3</td><td style = \"text-align: right;\">2</td><td style = \"text-align: right;\">1</td><td style = \"text-align: left;\">off</td><td style = \"text-align: right;\">6456</td><td style = \"text-align: right;\">-9.52386</td><td style = \"text-align: right;\">0.570158</td><td style = \"text-align: right;\">-1.03295</td><td style = \"text-align: right;\">0</td><td style = \"text-align: right;\">0</td><td style = \"text-align: right;\">0</td><td style = \"text-align: left;\">Normal</td></tr><tr><td class = \"rowNumber\" style = \"font-weight: bold; text-align: right;\">525797</td><td style = \"text-align: left;\">fb14eb4a33</td><td style = \"text-align: left;\">4ca9b3</td><td style = \"text-align: right;\">2</td><td style = \"text-align: right;\">1</td><td style = \"text-align: left;\">off</td><td style = \"text-align: right;\">6457</td><td style = \"text-align: right;\">-9.52654</td><td style = \"text-align: right;\">0.565428</td><td style = \"text-align: right;\">-1.04679</td><td style = \"text-align: right;\">0</td><td style = \"text-align: right;\">0</td><td style = \"text-align: right;\">0</td><td style = \"text-align: left;\">Normal</td></tr><tr><td class = \"rowNumber\" style = \"font-weight: bold; text-align: right;\">525798</td><td style = \"text-align: left;\">fb14eb4a33</td><td style = \"text-align: left;\">4ca9b3</td><td style = \"text-align: right;\">2</td><td style = \"text-align: right;\">1</td><td style = \"text-align: left;\">off</td><td style = \"text-align: right;\">6458</td><td style = \"text-align: right;\">-9.52059</td><td style = \"text-align: right;\">0.585287</td><td style = \"text-align: right;\">-1.06743</td><td style = \"text-align: right;\">0</td><td style = \"text-align: right;\">0</td><td style = \"text-align: right;\">0</td><td style = \"text-align: left;\">Normal</td></tr><tr><td class = \"rowNumber\" style = \"font-weight: bold; text-align: right;\">525799</td><td style = \"text-align: left;\">fb14eb4a33</td><td style = \"text-align: left;\">4ca9b3</td><td style = \"text-align: right;\">2</td><td style = \"text-align: right;\">1</td><td style = \"text-align: left;\">off</td><td style = \"text-align: right;\">6459</td><td style = \"text-align: right;\">-9.52391</td><td style = \"text-align: right;\">0.574692</td><td style = \"text-align: right;\">-1.06909</td><td style = \"text-align: right;\">0</td><td style = \"text-align: right;\">0</td><td style = \"text-align: right;\">0</td><td style = \"text-align: left;\">Normal</td></tr><tr><td class = \"rowNumber\" style = \"font-weight: bold; text-align: right;\">525800</td><td style = \"text-align: left;\">fb14eb4a33</td><td style = \"text-align: left;\">4ca9b3</td><td style = \"text-align: right;\">2</td><td style = \"text-align: right;\">1</td><td style = \"text-align: left;\">off</td><td style = \"text-align: right;\">6460</td><td style = \"text-align: right;\">-9.52473</td><td style = \"text-align: right;\">0.578778</td><td style = \"text-align: right;\">-1.08534</td><td style = \"text-align: right;\">0</td><td style = \"text-align: right;\">0</td><td style = \"text-align: right;\">0</td><td style = \"text-align: left;\">Normal</td></tr><tr><td class = \"rowNumber\" style = \"font-weight: bold; text-align: right;\">525801</td><td style = \"text-align: left;\">fb14eb4a33</td><td style = \"text-align: left;\">4ca9b3</td><td style = \"text-align: right;\">2</td><td style = \"text-align: right;\">1</td><td style = \"text-align: left;\">off</td><td style = \"text-align: right;\">6461</td><td style = \"text-align: right;\">-9.52702</td><td style = \"text-align: right;\">0.58106</td><td style = \"text-align: right;\">-1.08309</td><td style = \"text-align: right;\">0</td><td style = \"text-align: right;\">0</td><td style = \"text-align: right;\">0</td><td style = \"text-align: left;\">Normal</td></tr><tr><td class = \"rowNumber\" style = \"font-weight: bold; text-align: right;\">525802</td><td style = \"text-align: left;\">fb14eb4a33</td><td style = \"text-align: left;\">4ca9b3</td><td style = \"text-align: right;\">2</td><td style = \"text-align: right;\">1</td><td style = \"text-align: left;\">off</td><td style = \"text-align: right;\">6462</td><td style = \"text-align: right;\">-9.53587</td><td style = \"text-align: right;\">0.585846</td><td style = \"text-align: right;\">-1.08294</td><td style = \"text-align: right;\">0</td><td style = \"text-align: right;\">0</td><td style = \"text-align: right;\">0</td><td style = \"text-align: left;\">Normal</td></tr><tr><td class = \"rowNumber\" style = \"font-weight: bold; text-align: right;\">525803</td><td style = \"text-align: left;\">fb14eb4a33</td><td style = \"text-align: left;\">4ca9b3</td><td style = \"text-align: right;\">2</td><td style = \"text-align: right;\">1</td><td style = \"text-align: left;\">off</td><td style = \"text-align: right;\">6463</td><td style = \"text-align: right;\">-9.52958</td><td style = \"text-align: right;\">0.583186</td><td style = \"text-align: right;\">-1.06742</td><td style = \"text-align: right;\">0</td><td style = \"text-align: right;\">0</td><td style = \"text-align: right;\">0</td><td style = \"text-align: left;\">Normal</td></tr><tr><td class = \"rowNumber\" style = \"font-weight: bold; text-align: right;\">525804</td><td style = \"text-align: left;\">fb14eb4a33</td><td style = \"text-align: left;\">4ca9b3</td><td style = \"text-align: right;\">2</td><td style = \"text-align: right;\">1</td><td style = \"text-align: left;\">off</td><td style = \"text-align: right;\">6464</td><td style = \"text-align: right;\">-9.53342</td><td style = \"text-align: right;\">0.588161</td><td style = \"text-align: right;\">-1.04666</td><td style = \"text-align: right;\">0</td><td style = \"text-align: right;\">0</td><td style = \"text-align: right;\">0</td><td style = \"text-align: left;\">Normal</td></tr></tbody></table></div>"
      ],
      "text/latex": [
       "\\begin{tabular}{r|cccccccccc}\n",
       "\t& Id & Subject & Visit & Test & Medication & Time & AccV & AccML & AccAP & \\\\\n",
       "\t\\hline\n",
       "\t& String15 & String7 & Int64 & Int64 & String3 & Int64 & Float64 & Float64 & Float64 & \\\\\n",
       "\t\\hline\n",
       "\t1 & 009ee11563 & f62eec & 4 & 2 & on & 0 & -9.4173 & 0.767819 & -1.75824 & $\\dots$ \\\\\n",
       "\t2 & 009ee11563 & f62eec & 4 & 2 & on & 1 & -9.4251 & 0.768246 & -1.75058 & $\\dots$ \\\\\n",
       "\t3 & 009ee11563 & f62eec & 4 & 2 & on & 2 & -9.41995 & 0.779039 & -1.74259 & $\\dots$ \\\\\n",
       "\t4 & 009ee11563 & f62eec & 4 & 2 & on & 3 & -9.42127 & 0.772523 & -1.74651 & $\\dots$ \\\\\n",
       "\t5 & 009ee11563 & f62eec & 4 & 2 & on & 4 & -9.42811 & 0.777142 & -1.75555 & $\\dots$ \\\\\n",
       "\t6 & 009ee11563 & f62eec & 4 & 2 & on & 5 & -9.42602 & 0.774812 & -1.76021 & $\\dots$ \\\\\n",
       "\t7 & 009ee11563 & f62eec & 4 & 2 & on & 6 & -9.42569 & 0.768126 & -1.7736 & $\\dots$ \\\\\n",
       "\t8 & 009ee11563 & f62eec & 4 & 2 & on & 7 & -9.43509 & 0.765923 & -1.76937 & $\\dots$ \\\\\n",
       "\t9 & 009ee11563 & f62eec & 4 & 2 & on & 8 & -9.43209 & 0.770584 & -1.77557 & $\\dots$ \\\\\n",
       "\t10 & 009ee11563 & f62eec & 4 & 2 & on & 9 & -9.4295 & 0.775137 & -1.77076 & $\\dots$ \\\\\n",
       "\t11 & 009ee11563 & f62eec & 4 & 2 & on & 10 & -9.41142 & 0.772588 & -1.76626 & $\\dots$ \\\\\n",
       "\t12 & 009ee11563 & f62eec & 4 & 2 & on & 11 & -9.42808 & 0.774885 & -1.74877 & $\\dots$ \\\\\n",
       "\t13 & 009ee11563 & f62eec & 4 & 2 & on & 12 & -9.4235 & 0.770305 & -1.74199 & $\\dots$ \\\\\n",
       "\t14 & 009ee11563 & f62eec & 4 & 2 & on & 13 & -9.41724 & 0.776865 & -1.7581 & $\\dots$ \\\\\n",
       "\t15 & 009ee11563 & f62eec & 4 & 2 & on & 14 & -9.41857 & 0.770342 & -1.75525 & $\\dots$ \\\\\n",
       "\t16 & 009ee11563 & f62eec & 4 & 2 & on & 15 & -9.41036 & 0.770009 & -1.76036 & $\\dots$ \\\\\n",
       "\t17 & 009ee11563 & f62eec & 4 & 2 & on & 16 & -9.42579 & 0.76133 & -1.77374 & $\\dots$ \\\\\n",
       "\t18 & 009ee11563 & f62eec & 4 & 2 & on & 17 & -9.42563 & 0.763608 & -1.75553 & $\\dots$ \\\\\n",
       "\t19 & 009ee11563 & f62eec & 4 & 2 & on & 18 & -9.42325 & 0.768116 & -1.75313 & $\\dots$ \\\\\n",
       "\t20 & 009ee11563 & f62eec & 4 & 2 & on & 19 & -9.42427 & 0.76787 & -1.74709 & $\\dots$ \\\\\n",
       "\t21 & 009ee11563 & f62eec & 4 & 2 & on & 20 & -9.43068 & 0.783869 & -1.74666 & $\\dots$ \\\\\n",
       "\t22 & 009ee11563 & f62eec & 4 & 2 & on & 21 & -9.42091 & 0.788434 & -1.76641 & $\\dots$ \\\\\n",
       "\t23 & 009ee11563 & f62eec & 4 & 2 & on & 22 & -9.40773 & 0.772329 & -1.77136 & $\\dots$ \\\\\n",
       "\t24 & 009ee11563 & f62eec & 4 & 2 & on & 23 & -9.41443 & 0.781489 & -1.77574 & $\\dots$ \\\\\n",
       "\t25 & 009ee11563 & f62eec & 4 & 2 & on & 24 & -9.4354 & 0.772634 & -1.77856 & $\\dots$ \\\\\n",
       "\t26 & 009ee11563 & f62eec & 4 & 2 & on & 25 & -9.43418 & 0.772913 & -1.7709 & $\\dots$ \\\\\n",
       "\t27 & 009ee11563 & f62eec & 4 & 2 & on & 26 & -9.43279 & 0.763644 & -1.77615 & $\\dots$ \\\\\n",
       "\t28 & 009ee11563 & f62eec & 4 & 2 & on & 27 & -9.41411 & 0.749968 & -1.79392 & $\\dots$ \\\\\n",
       "\t29 & 009ee11563 & f62eec & 4 & 2 & on & 28 & -9.41413 & 0.763503 & -1.78475 & $\\dots$ \\\\\n",
       "\t30 & 009ee11563 & f62eec & 4 & 2 & on & 29 & -9.4102 & 0.761039 & -1.78745 & $\\dots$ \\\\\n",
       "\t$\\dots$ & $\\dots$ & $\\dots$ & $\\dots$ & $\\dots$ & $\\dots$ & $\\dots$ & $\\dots$ & $\\dots$ & $\\dots$ &  \\\\\n",
       "\\end{tabular}\n"
      ],
      "text/plain": [
       "\u001b[1m525804×13 DataFrame\u001b[0m\n",
       "\u001b[1m    Row \u001b[0m│\u001b[1m Id         \u001b[0m\u001b[1m Subject \u001b[0m\u001b[1m Visit \u001b[0m\u001b[1m Test  \u001b[0m\u001b[1m Medication \u001b[0m\u001b[1m Time  \u001b[0m\u001b[1m AccV     \u001b[0m\u001b[1m AccM\u001b[0m ⋯\n",
       "        │\u001b[90m String15   \u001b[0m\u001b[90m String7 \u001b[0m\u001b[90m Int64 \u001b[0m\u001b[90m Int64 \u001b[0m\u001b[90m String3    \u001b[0m\u001b[90m Int64 \u001b[0m\u001b[90m Float64  \u001b[0m\u001b[90m Floa\u001b[0m ⋯\n",
       "────────┼───────────────────────────────────────────────────────────────────────\n",
       "      1 │ 009ee11563  f62eec       4      2  on              0  -9.4173   0.76 ⋯\n",
       "      2 │ 009ee11563  f62eec       4      2  on              1  -9.4251   0.76\n",
       "      3 │ 009ee11563  f62eec       4      2  on              2  -9.41995  0.77\n",
       "      4 │ 009ee11563  f62eec       4      2  on              3  -9.42127  0.77\n",
       "      5 │ 009ee11563  f62eec       4      2  on              4  -9.42811  0.77 ⋯\n",
       "      6 │ 009ee11563  f62eec       4      2  on              5  -9.42602  0.77\n",
       "      7 │ 009ee11563  f62eec       4      2  on              6  -9.42569  0.76\n",
       "      8 │ 009ee11563  f62eec       4      2  on              7  -9.43509  0.76\n",
       "      9 │ 009ee11563  f62eec       4      2  on              8  -9.43209  0.77 ⋯\n",
       "     10 │ 009ee11563  f62eec       4      2  on              9  -9.4295   0.77\n",
       "     11 │ 009ee11563  f62eec       4      2  on             10  -9.41142  0.77\n",
       "   ⋮    │     ⋮          ⋮       ⋮      ⋮        ⋮         ⋮       ⋮         ⋮ ⋱\n",
       " 525795 │ fb14eb4a33  4ca9b3       2      1  off          6455  -9.52566  0.58\n",
       " 525796 │ fb14eb4a33  4ca9b3       2      1  off          6456  -9.52386  0.57 ⋯\n",
       " 525797 │ fb14eb4a33  4ca9b3       2      1  off          6457  -9.52654  0.56\n",
       " 525798 │ fb14eb4a33  4ca9b3       2      1  off          6458  -9.52059  0.58\n",
       " 525799 │ fb14eb4a33  4ca9b3       2      1  off          6459  -9.52391  0.57\n",
       " 525800 │ fb14eb4a33  4ca9b3       2      1  off          6460  -9.52473  0.57 ⋯\n",
       " 525801 │ fb14eb4a33  4ca9b3       2      1  off          6461  -9.52702  0.58\n",
       " 525802 │ fb14eb4a33  4ca9b3       2      1  off          6462  -9.53587  0.58\n",
       " 525803 │ fb14eb4a33  4ca9b3       2      1  off          6463  -9.52958  0.58\n",
       " 525804 │ fb14eb4a33  4ca9b3       2      1  off          6464  -9.53342  0.58 ⋯\n",
       "\u001b[36m                                               6 columns and 525783 rows omitted\u001b[0m"
      ]
     },
     "execution_count": 3,
     "metadata": {},
     "output_type": "execute_result"
    }
   ],
   "source": [
    "parkinson = CSV.read(\"./filtered_data.csv\", DataFrame)"
   ]
  },
  {
   "cell_type": "code",
   "execution_count": 27,
   "metadata": {},
   "outputs": [
    {
     "data": {
      "text/plain": [
       "data_loader (generic function with 1 method)"
      ]
     },
     "execution_count": 27,
     "metadata": {},
     "output_type": "execute_result"
    }
   ],
   "source": [
    "@resumable function data_loader(parkinson_dataframe, num_sequences, num_selected_sequences, batch_size; labels=[\"StartHesitation\", \"Turn\", \"Walking\", \"Normal\"])\n",
    "    @assert num_selected_sequences <= num_sequences\n",
    "    \n",
    "    pdf = deepcopy(parkinson_dataframe)\n",
    "    \n",
    "    sequences = collect(1:num_sequences)\n",
    "    shuffle!(sequences)\n",
    "\n",
    "    # Sending to the model\n",
    "    for i in 1:num_selected_sequences\n",
    "        # if benne van a random generalt elemek tombunkben\n",
    "        x = hcat(\n",
    "            pdf[!, \"AccV\"][sequences[i] * batch_size : sequences[i] * batch_size + batch_size],\n",
    "            pdf[!, \"AccML\"][sequences[i] * batch_size : sequences[i] * batch_size + batch_size],\n",
    "            pdf[!, \"AccAP\"][sequences[i] * batch_size : sequences[i] * batch_size + batch_size]\n",
    "        )\n",
    "    \n",
    "        y = Flux.onehotbatch(pdf[!, \"event\"][sequences[i] * batch_size : sequences[i] * batch_size + batch_size], labels)\n",
    "        \n",
    "        @yield x, y\n",
    "    end\n",
    "end"
   ]
  },
  {
   "cell_type": "code",
   "execution_count": 5,
   "metadata": {},
   "outputs": [
    {
     "data": {
      "text/plain": [
       "init_params (generic function with 1 method)"
      ]
     },
     "execution_count": 5,
     "metadata": {},
     "output_type": "execute_result"
    }
   ],
   "source": [
    "function init_params(in::Integer, out::Integer; mean=0.0, std=1.0)\n",
    "    [\n",
    "        in, out,\n",
    "        rand(Truncated(Normal(mean, std), -1, 1), out), # Wf\n",
    "        rand(Truncated(Normal(mean, std), -1, 1), out), # Wi\n",
    "        rand(Truncated(Normal(mean, std), -1, 1), out), # Wc\n",
    "        rand(Truncated(Normal(mean, std), -1, 1), out), # Wo\n",
    "        rand(Truncated(Normal(mean, std), -1, 1), out), # bf\n",
    "        rand(Truncated(Normal(mean, std), -1, 1), out), # bi\n",
    "        rand(Truncated(Normal(mean, std), -1, 1), out), # bc\n",
    "        rand(Truncated(Normal(mean, std), -1, 1), out), # bo\n",
    "        rand(Truncated(Normal(mean, std), -1, 1), out), # bo\n",
    "        rand(Truncated(Normal(mean, std), -1, 1), out), # bo\n",
    "        rand(Truncated(Normal(mean, std), -1, 1), out), # bo\n",
    "        rand(Truncated(Normal(mean, std), -1, 1), out), # bo\n",
    "\n",
    "        # both the Long-Term and Short-Term memories are initialized with 0 values\n",
    "        zeros(out),  # c\n",
    "        zeros(out),  # h\n",
    "        true # update_memory\n",
    "    ]\n",
    "end\n"
   ]
  },
  {
   "cell_type": "code",
   "execution_count": 6,
   "metadata": {},
   "outputs": [
    {
     "data": {
      "text/plain": [
       "forward (generic function with 1 method)"
      ]
     },
     "execution_count": 6,
     "metadata": {},
     "output_type": "execute_result"
    }
   ],
   "source": [
    "# implementing the forwarding method which is used in the Chaining process\n",
    "function forward(x, lstm)\n",
    "\n",
    "    for i in 1:size(x, 1)\n",
    "        long_remember_percent = NNlib.sigmoid_fast((lstm.c .* lstm.wlr1) + (x[i, :] .* lstm.wlr2) + lstm.blr1)\n",
    "        potential_remember_percent = NNlib.sigmoid_fast((lstm.h .* lstm.wpr1) + (x[i, :] .* lstm.wpr2) + lstm.bpr1)\n",
    "        potential_memory = NNlib.tanh_fast((lstm.c .* lstm.wp1) + (x[i, :] .* lstm.wp2) + lstm.bp1)\n",
    "        updated_long_memory = (lstm.c .* long_remember_percent) + (potential_memory .* potential_remember_percent)\n",
    "        output_percent = NNlib.sigmoid_fast((lstm.h .* lstm.wo1) + (x[i, :] .* lstm.wo2) + lstm.bo1)\n",
    "        updated_short_memory = NNlib.tanh_fast(updated_long_memory) .* output_percent\n",
    "\n",
    "        # updating the memory\n",
    "        if lstm.update_memory\n",
    "            lstm.c, lstm.h = updated_long_memory, updated_short_memory\n",
    "        end\n",
    "    end\n",
    "\n",
    "    lstm.c\n",
    "end"
   ]
  },
  {
   "cell_type": "code",
   "execution_count": 7,
   "metadata": {},
   "outputs": [],
   "source": [
    "# custom Long Short-Term Memory layer\n",
    "mutable struct LSTM\n",
    "    # input and output size of the layer\n",
    "    in::Integer\n",
    "    out::Integer\n",
    "\n",
    "    wlr1::Vector{Float32}\n",
    "    wlr2::Vector{Float32}\n",
    "    blr1::Vector{Float32}\n",
    "\n",
    "    wpr1::Vector{Float32}\n",
    "    wpr2::Vector{Float32}\n",
    "    bpr1::Vector{Float32}\n",
    "\n",
    "    wp1::Vector{Float32}\n",
    "    wp2::Vector{Float32}\n",
    "    bp1::Vector{Float32}\n",
    "\n",
    "    wo1::Vector{Float32}\n",
    "    wo2::Vector{Float32}\n",
    "    bo1::Vector{Float32}\n",
    "\n",
    "\n",
    "    # cell state (aka. long-term memory) and hidden state (aka. short-term memory)\n",
    "    c::Vector{Float32}\n",
    "    h::Vector{Float32}\n",
    "\n",
    "    # prevents the model from modifying the memory state in case of testing and loss calculation\n",
    "    # it needs to be set explicitely before and after calling the model(x) funtion\n",
    "    update_memory::Bool\n",
    "end"
   ]
  },
  {
   "cell_type": "code",
   "execution_count": 8,
   "metadata": {},
   "outputs": [
    {
     "data": {
      "text/plain": [
       "LSTM"
      ]
     },
     "execution_count": 8,
     "metadata": {},
     "output_type": "execute_result"
    }
   ],
   "source": [
    "# defining the constructor\n",
    "LSTM(in::Integer, out::Integer) = LSTM(init_params(in, out)...)"
   ]
  },
  {
   "cell_type": "code",
   "execution_count": 9,
   "metadata": {},
   "outputs": [],
   "source": [
    "# Overload call, so the object can be used as a function\n",
    "(lstm::LSTM)(x) = forward(x, lstm)"
   ]
  },
  {
   "cell_type": "code",
   "execution_count": 10,
   "metadata": {},
   "outputs": [],
   "source": [
    "# creating a functor from the struct, so that the training can optimize its parameters\n",
    "Flux.@functor LSTM"
   ]
  },
  {
   "cell_type": "code",
   "execution_count": 11,
   "metadata": {},
   "outputs": [
    {
     "data": {
      "text/plain": [
       "LSTM"
      ]
     },
     "execution_count": 11,
     "metadata": {},
     "output_type": "execute_result"
    }
   ],
   "source": [
    "# creating the Long Short-Term Memory layer\n",
    "function LSTM((in, out)::Pair)\n",
    "    LSTM(in, out) # constructor\n",
    "end"
   ]
  },
  {
   "cell_type": "code",
   "execution_count": 12,
   "metadata": {},
   "outputs": [],
   "source": [
    "# explicitely defining the trainable parameters of the layer\n",
    "# all the Wrights and Biases are trainable\n",
    "# exceptions >> Cell State and Hidden State\n",
    "# Flux.trainable(lstm::LSTM) = (lstm.Wf, lstm.Wi, lstm.Wc, lstm.Wo, lstm.bf, lstm.bi, lstm.bc, lstm.bo,)\n",
    "Flux.trainable(lstm::LSTM) = (lstm.wlr1, lstm.wlr2, lstm.blr1, lstm.wpr1, lstm.wpr2, lstm.bpr1, lstm.wp1, lstm.wp2, lstm.bp1, lstm.wo1, lstm.wo2, lstm.bo1)"
   ]
  },
  {
   "cell_type": "code",
   "execution_count": 30,
   "metadata": {},
   "outputs": [],
   "source": [
    "# Random generating sequences\n",
    "num_sequences = 10_000\n",
    "num_selected_sequences = 100\n",
    "batch_size = div(size(parkinson, 1), num_sequences)\n",
    "\n",
    "input_size = batch_size\n",
    "hidden_size = 3\n",
    "num_classes = 4 \n",
    "\n",
    "model = Chain(\n",
    "    LSTM(input_size => hidden_size),\n",
    "    Dense(hidden_size => num_classes),\n",
    "    softmax\n",
    ")\n",
    "\n",
    ";"
   ]
  },
  {
   "cell_type": "code",
   "execution_count": 31,
   "metadata": {},
   "outputs": [],
   "source": [
    "function loss(x, y)\n",
    "    model[1].update_memory = false\n",
    "    l = Flux.crossentropy.(eachrow(model(x)'), eachrow(y'))\n",
    "    model[1].update_memory = true\n",
    "\n",
    "    mean(l)\n",
    "end\n",
    "\n",
    "optimizer = ADAM(0.001)\n",
    "epochs = 50\n",
    "\n",
    ";"
   ]
  },
  {
   "cell_type": "code",
   "execution_count": 33,
   "metadata": {},
   "outputs": [
    {
     "name": "stderr",
     "output_type": "stream",
     "text": [
      "\u001b[36m\u001b[1m[ \u001b[22m\u001b[39m\u001b[36m\u001b[1mInfo: \u001b[22m\u001b[39mEpoch: 1 >> Loss: 1.2866912\n",
      "\u001b[36m\u001b[1m[ \u001b[22m\u001b[39m\u001b[36m\u001b[1mInfo: \u001b[22m\u001b[39mEpoch: 2 >> Loss: 1.2310929\n",
      "\u001b[36m\u001b[1m[ \u001b[22m\u001b[39m\u001b[36m\u001b[1mInfo: \u001b[22m\u001b[39mEpoch: 3 >> Loss: 1.1768312\n",
      "\u001b[36m\u001b[1m[ \u001b[22m\u001b[39m\u001b[36m\u001b[1mInfo: \u001b[22m\u001b[39mEpoch: 4 >> Loss: 1.131429\n",
      "\u001b[36m\u001b[1m[ \u001b[22m\u001b[39m\u001b[36m\u001b[1mInfo: \u001b[22m\u001b[39mEpoch: 5 >> Loss: 1.0873991\n",
      "\u001b[36m\u001b[1m[ \u001b[22m\u001b[39m\u001b[36m\u001b[1mInfo: \u001b[22m\u001b[39mEpoch: 6 >> Loss: 1.048328\n",
      "\u001b[36m\u001b[1m[ \u001b[22m\u001b[39m\u001b[36m\u001b[1mInfo: \u001b[22m\u001b[39mEpoch: 7 >> Loss: 1.0198815\n",
      "\u001b[36m\u001b[1m[ \u001b[22m\u001b[39m\u001b[36m\u001b[1mInfo: \u001b[22m\u001b[39mEpoch: 8 >> Loss: 1.0042984\n",
      "\u001b[36m\u001b[1m[ \u001b[22m\u001b[39m\u001b[36m\u001b[1mInfo: \u001b[22m\u001b[39mEpoch: 9 >> Loss: 0.97855407\n",
      "\u001b[36m\u001b[1m[ \u001b[22m\u001b[39m\u001b[36m\u001b[1mInfo: \u001b[22m\u001b[39mEpoch: 10 >> Loss: 0.936993\n",
      "\u001b[36m\u001b[1m[ \u001b[22m\u001b[39m\u001b[36m\u001b[1mInfo: \u001b[22m\u001b[39mEpoch: 11 >> Loss: 0.92000955\n",
      "\u001b[36m\u001b[1m[ \u001b[22m\u001b[39m\u001b[36m\u001b[1mInfo: \u001b[22m\u001b[39mEpoch: 12 >> Loss: 0.9160857\n",
      "\u001b[36m\u001b[1m[ \u001b[22m\u001b[39m\u001b[36m\u001b[1mInfo: \u001b[22m\u001b[39mEpoch: 13 >> Loss: 0.8894139\n",
      "\u001b[36m\u001b[1m[ \u001b[22m\u001b[39m\u001b[36m\u001b[1mInfo: \u001b[22m\u001b[39mEpoch: 14 >> Loss: 0.8725357\n",
      "\u001b[36m\u001b[1m[ \u001b[22m\u001b[39m\u001b[36m\u001b[1mInfo: \u001b[22m\u001b[39mEpoch: 15 >> Loss: 0.8746109\n",
      "\u001b[36m\u001b[1m[ \u001b[22m\u001b[39m\u001b[36m\u001b[1mInfo: \u001b[22m\u001b[39mEpoch: 16 >> Loss: 0.85781336\n",
      "\u001b[36m\u001b[1m[ \u001b[22m\u001b[39m\u001b[36m\u001b[1mInfo: \u001b[22m\u001b[39mEpoch: 17 >> Loss: 0.84256506\n",
      "\u001b[36m\u001b[1m[ \u001b[22m\u001b[39m\u001b[36m\u001b[1mInfo: \u001b[22m\u001b[39mEpoch: 18 >> Loss: 0.8448432\n",
      "\u001b[36m\u001b[1m[ \u001b[22m\u001b[39m\u001b[36m\u001b[1mInfo: \u001b[22m\u001b[39mEpoch: 19 >> Loss: 0.82071394\n",
      "\u001b[36m\u001b[1m[ \u001b[22m\u001b[39m\u001b[36m\u001b[1mInfo: \u001b[22m\u001b[39mEpoch: 20 >> Loss: 0.81263006\n",
      "\u001b[36m\u001b[1m[ \u001b[22m\u001b[39m\u001b[36m\u001b[1mInfo: \u001b[22m\u001b[39mEpoch: 21 >> Loss: 0.8207326\n",
      "\u001b[36m\u001b[1m[ \u001b[22m\u001b[39m\u001b[36m\u001b[1mInfo: \u001b[22m\u001b[39mEpoch: 22 >> Loss: 0.80191267\n",
      "\u001b[36m\u001b[1m[ \u001b[22m\u001b[39m\u001b[36m\u001b[1mInfo: \u001b[22m\u001b[39mEpoch: 23 >> Loss: 0.80164033\n",
      "\u001b[36m\u001b[1m[ \u001b[22m\u001b[39m\u001b[36m\u001b[1mInfo: \u001b[22m\u001b[39mEpoch: 24 >> Loss: 0.79091144\n",
      "\u001b[36m\u001b[1m[ \u001b[22m\u001b[39m\u001b[36m\u001b[1mInfo: \u001b[22m\u001b[39mEpoch: 25 >> Loss: 0.7808682\n",
      "\u001b[36m\u001b[1m[ \u001b[22m\u001b[39m\u001b[36m\u001b[1mInfo: \u001b[22m\u001b[39mEpoch: 26 >> Loss: 0.7838982\n",
      "\u001b[36m\u001b[1m[ \u001b[22m\u001b[39m\u001b[36m\u001b[1mInfo: \u001b[22m\u001b[39mEpoch: 27 >> Loss: 0.76601404\n",
      "\u001b[36m\u001b[1m[ \u001b[22m\u001b[39m\u001b[36m\u001b[1mInfo: \u001b[22m\u001b[39mEpoch: 28 >> Loss: 0.7508954\n",
      "\u001b[36m\u001b[1m[ \u001b[22m\u001b[39m\u001b[36m\u001b[1mInfo: \u001b[22m\u001b[39mEpoch: 29 >> Loss: 0.7623725\n",
      "\u001b[36m\u001b[1m[ \u001b[22m\u001b[39m\u001b[36m\u001b[1mInfo: \u001b[22m\u001b[39mEpoch: 30 >> Loss: 0.74564207\n",
      "\u001b[36m\u001b[1m[ \u001b[22m\u001b[39m\u001b[36m\u001b[1mInfo: \u001b[22m\u001b[39mEpoch: 31 >> Loss: 0.7586281\n",
      "\u001b[36m\u001b[1m[ \u001b[22m\u001b[39m\u001b[36m\u001b[1mInfo: \u001b[22m\u001b[39mEpoch: 32 >> Loss: 0.7463883\n",
      "\u001b[36m\u001b[1m[ \u001b[22m\u001b[39m\u001b[36m\u001b[1mInfo: \u001b[22m\u001b[39mEpoch: 33 >> Loss: 0.7324698\n",
      "\u001b[36m\u001b[1m[ \u001b[22m\u001b[39m\u001b[36m\u001b[1mInfo: \u001b[22m\u001b[39mEpoch: 34 >> Loss: 0.73560715\n",
      "\u001b[36m\u001b[1m[ \u001b[22m\u001b[39m\u001b[36m\u001b[1mInfo: \u001b[22m\u001b[39mEpoch: 35 >> Loss: 0.7163912\n",
      "\u001b[36m\u001b[1m[ \u001b[22m\u001b[39m\u001b[36m\u001b[1mInfo: \u001b[22m\u001b[39mEpoch: 36 >> Loss: 0.77328736\n",
      "\u001b[36m\u001b[1m[ \u001b[22m\u001b[39m\u001b[36m\u001b[1mInfo: \u001b[22m\u001b[39mEpoch: 37 >> Loss: 0.71524924\n",
      "\u001b[36m\u001b[1m[ \u001b[22m\u001b[39m\u001b[36m\u001b[1mInfo: \u001b[22m\u001b[39mEpoch: 38 >> Loss: 0.7406212\n",
      "\u001b[36m\u001b[1m[ \u001b[22m\u001b[39m\u001b[36m\u001b[1mInfo: \u001b[22m\u001b[39mEpoch: 39 >> Loss: 0.71810836\n",
      "\u001b[36m\u001b[1m[ \u001b[22m\u001b[39m\u001b[36m\u001b[1mInfo: \u001b[22m\u001b[39mEpoch: 40 >> Loss: 0.720792\n",
      "\u001b[36m\u001b[1m[ \u001b[22m\u001b[39m\u001b[36m\u001b[1mInfo: \u001b[22m\u001b[39mEpoch: 41 >> Loss: 0.72005606\n",
      "\u001b[36m\u001b[1m[ \u001b[22m\u001b[39m\u001b[36m\u001b[1mInfo: \u001b[22m\u001b[39mEpoch: 42 >> Loss: 0.7136585\n",
      "\u001b[36m\u001b[1m[ \u001b[22m\u001b[39m\u001b[36m\u001b[1mInfo: \u001b[22m\u001b[39mEpoch: 43 >> Loss: 0.68778014\n",
      "\u001b[36m\u001b[1m[ \u001b[22m\u001b[39m\u001b[36m\u001b[1mInfo: \u001b[22m\u001b[39mEpoch: 44 >> Loss: 0.7140157\n",
      "\u001b[36m\u001b[1m[ \u001b[22m\u001b[39m\u001b[36m\u001b[1mInfo: \u001b[22m\u001b[39mEpoch: 45 >> Loss: 0.74205416\n",
      "\u001b[36m\u001b[1m[ \u001b[22m\u001b[39m\u001b[36m\u001b[1mInfo: \u001b[22m\u001b[39mEpoch: 46 >> Loss: 0.71214104\n",
      "\u001b[36m\u001b[1m[ \u001b[22m\u001b[39m\u001b[36m\u001b[1mInfo: \u001b[22m\u001b[39mEpoch: 47 >> Loss: 0.7302933\n",
      "\u001b[36m\u001b[1m[ \u001b[22m\u001b[39m\u001b[36m\u001b[1mInfo: \u001b[22m\u001b[39mEpoch: 48 >> Loss: 0.7261386\n",
      "\u001b[36m\u001b[1m[ \u001b[22m\u001b[39m\u001b[36m\u001b[1mInfo: \u001b[22m\u001b[39mEpoch: 49 >> Loss: 0.72318125\n",
      "\u001b[36m\u001b[1m[ \u001b[22m\u001b[39m\u001b[36m\u001b[1mInfo: \u001b[22m\u001b[39mEpoch: 50 >> Loss: 0.7089675\n"
     ]
    }
   ],
   "source": [
    "losses = []\n",
    "\n",
    "for epoch in 1:epochs\n",
    "\n",
    "  epoch_loss = 0f0\n",
    "\n",
    "  for (input, output) in data_loader(parkinson, num_sequences, num_selected_sequences, batch_size)\n",
    "    grads = Flux.gradient(Flux.params(model)) do\n",
    "      l = loss(input, output) \n",
    "      epoch_loss += l\n",
    "\n",
    "      l\n",
    "    end\n",
    "    Flux.update!(optimizer, Flux.params(model), grads)\n",
    "  end\n",
    "\n",
    "  train_loss = epoch_loss / num_selected_sequences \n",
    "  @info \"Epoch: $epoch >> Loss: $train_loss\"\n",
    "  append!(losses, train_loss)\n",
    "\n",
    "end"
   ]
  },
  {
   "cell_type": "code",
   "execution_count": 34,
   "metadata": {},
   "outputs": [
    {
     "data": {
      "image/svg+xml": "<?xml version=\"1.0\" encoding=\"utf-8\"?>\n<svg xmlns=\"http://www.w3.org/2000/svg\" xmlns:xlink=\"http://www.w3.org/1999/xlink\" width=\"600\" height=\"400\" viewBox=\"0 0 2400 1600\">\n<defs>\n  <clipPath id=\"clip600\">\n    <rect x=\"0\" y=\"0\" width=\"2400\" height=\"1600\"/>\n  </clipPath>\n</defs>\n<path clip-path=\"url(#clip600)\" d=\"M0 1600 L2400 1600 L2400 0 L0 0  Z\" fill=\"#ffffff\" fill-rule=\"evenodd\" fill-opacity=\"1\"/>\n<defs>\n  <clipPath id=\"clip601\">\n    <rect x=\"480\" y=\"0\" width=\"1681\" height=\"1600\"/>\n  </clipPath>\n</defs>\n<path clip-path=\"url(#clip600)\" d=\"M156.02 1486.45 L2352.76 1486.45 L2352.76 47.2441 L156.02 47.2441  Z\" fill=\"#ffffff\" fill-rule=\"evenodd\" fill-opacity=\"1\"/>\n<defs>\n  <clipPath id=\"clip602\">\n    <rect x=\"156\" y=\"47\" width=\"2198\" height=\"1440\"/>\n  </clipPath>\n</defs>\n<polyline clip-path=\"url(#clip602)\" style=\"stroke:#000000; stroke-linecap:round; stroke-linejoin:round; stroke-width:2; stroke-opacity:0.1; fill:none\" points=\"175.898,1486.45 175.898,47.2441 \"/>\n<polyline clip-path=\"url(#clip602)\" style=\"stroke:#000000; stroke-linecap:round; stroke-linejoin:round; stroke-width:2; stroke-opacity:0.1; fill:none\" points=\"598.835,1486.45 598.835,47.2441 \"/>\n<polyline clip-path=\"url(#clip602)\" style=\"stroke:#000000; stroke-linecap:round; stroke-linejoin:round; stroke-width:2; stroke-opacity:0.1; fill:none\" points=\"1021.77,1486.45 1021.77,47.2441 \"/>\n<polyline clip-path=\"url(#clip602)\" style=\"stroke:#000000; stroke-linecap:round; stroke-linejoin:round; stroke-width:2; stroke-opacity:0.1; fill:none\" points=\"1444.71,1486.45 1444.71,47.2441 \"/>\n<polyline clip-path=\"url(#clip602)\" style=\"stroke:#000000; stroke-linecap:round; stroke-linejoin:round; stroke-width:2; stroke-opacity:0.1; fill:none\" points=\"1867.65,1486.45 1867.65,47.2441 \"/>\n<polyline clip-path=\"url(#clip602)\" style=\"stroke:#000000; stroke-linecap:round; stroke-linejoin:round; stroke-width:2; stroke-opacity:0.1; fill:none\" points=\"2290.58,1486.45 2290.58,47.2441 \"/>\n<polyline clip-path=\"url(#clip600)\" style=\"stroke:#000000; stroke-linecap:round; stroke-linejoin:round; stroke-width:4; stroke-opacity:1; fill:none\" points=\"156.02,1486.45 2352.76,1486.45 \"/>\n<polyline clip-path=\"url(#clip600)\" style=\"stroke:#000000; stroke-linecap:round; stroke-linejoin:round; stroke-width:4; stroke-opacity:1; fill:none\" points=\"175.898,1486.45 175.898,1467.55 \"/>\n<polyline clip-path=\"url(#clip600)\" style=\"stroke:#000000; stroke-linecap:round; stroke-linejoin:round; stroke-width:4; stroke-opacity:1; fill:none\" points=\"598.835,1486.45 598.835,1467.55 \"/>\n<polyline clip-path=\"url(#clip600)\" style=\"stroke:#000000; stroke-linecap:round; stroke-linejoin:round; stroke-width:4; stroke-opacity:1; fill:none\" points=\"1021.77,1486.45 1021.77,1467.55 \"/>\n<polyline clip-path=\"url(#clip600)\" style=\"stroke:#000000; stroke-linecap:round; stroke-linejoin:round; stroke-width:4; stroke-opacity:1; fill:none\" points=\"1444.71,1486.45 1444.71,1467.55 \"/>\n<polyline clip-path=\"url(#clip600)\" style=\"stroke:#000000; stroke-linecap:round; stroke-linejoin:round; stroke-width:4; stroke-opacity:1; fill:none\" points=\"1867.65,1486.45 1867.65,1467.55 \"/>\n<polyline clip-path=\"url(#clip600)\" style=\"stroke:#000000; stroke-linecap:round; stroke-linejoin:round; stroke-width:4; stroke-opacity:1; fill:none\" points=\"2290.58,1486.45 2290.58,1467.55 \"/>\n<path clip-path=\"url(#clip600)\" d=\"M175.898 1517.37 Q172.286 1517.37 170.458 1520.93 Q168.652 1524.47 168.652 1531.6 Q168.652 1538.71 170.458 1542.27 Q172.286 1545.82 175.898 1545.82 Q179.532 1545.82 181.337 1542.27 Q183.166 1538.71 183.166 1531.6 Q183.166 1524.47 181.337 1520.93 Q179.532 1517.37 175.898 1517.37 M175.898 1513.66 Q181.708 1513.66 184.763 1518.27 Q187.842 1522.85 187.842 1531.6 Q187.842 1540.33 184.763 1544.94 Q181.708 1549.52 175.898 1549.52 Q170.087 1549.52 167.009 1544.94 Q163.953 1540.33 163.953 1531.6 Q163.953 1522.85 167.009 1518.27 Q170.087 1513.66 175.898 1513.66 Z\" fill=\"#000000\" fill-rule=\"nonzero\" fill-opacity=\"1\" /><path clip-path=\"url(#clip600)\" d=\"M573.523 1544.91 L581.161 1544.91 L581.161 1518.55 L572.851 1520.21 L572.851 1515.95 L581.115 1514.29 L585.791 1514.29 L585.791 1544.91 L593.43 1544.91 L593.43 1548.85 L573.523 1548.85 L573.523 1544.91 Z\" fill=\"#000000\" fill-rule=\"nonzero\" fill-opacity=\"1\" /><path clip-path=\"url(#clip600)\" d=\"M612.874 1517.37 Q609.263 1517.37 607.434 1520.93 Q605.629 1524.47 605.629 1531.6 Q605.629 1538.71 607.434 1542.27 Q609.263 1545.82 612.874 1545.82 Q616.508 1545.82 618.314 1542.27 Q620.143 1538.71 620.143 1531.6 Q620.143 1524.47 618.314 1520.93 Q616.508 1517.37 612.874 1517.37 M612.874 1513.66 Q618.684 1513.66 621.74 1518.27 Q624.819 1522.85 624.819 1531.6 Q624.819 1540.33 621.74 1544.94 Q618.684 1549.52 612.874 1549.52 Q607.064 1549.52 603.985 1544.94 Q600.93 1540.33 600.93 1531.6 Q600.93 1522.85 603.985 1518.27 Q607.064 1513.66 612.874 1513.66 Z\" fill=\"#000000\" fill-rule=\"nonzero\" fill-opacity=\"1\" /><path clip-path=\"url(#clip600)\" d=\"M1000.55 1544.91 L1016.86 1544.91 L1016.86 1548.85 L994.92 1548.85 L994.92 1544.91 Q997.583 1542.16 1002.17 1537.53 Q1006.77 1532.88 1007.95 1531.53 Q1010.2 1529.01 1011.08 1527.27 Q1011.98 1525.51 1011.98 1523.82 Q1011.98 1521.07 1010.04 1519.33 Q1008.11 1517.6 1005.01 1517.6 Q1002.81 1517.6 1000.36 1518.36 Q997.93 1519.13 995.152 1520.68 L995.152 1515.95 Q997.976 1514.82 1000.43 1514.24 Q1002.88 1513.66 1004.92 1513.66 Q1010.29 1513.66 1013.49 1516.35 Q1016.68 1519.03 1016.68 1523.52 Q1016.68 1525.65 1015.87 1527.57 Q1015.08 1529.47 1012.98 1532.07 Q1012.4 1532.74 1009.3 1535.95 Q1006.19 1539.15 1000.55 1544.91 Z\" fill=\"#000000\" fill-rule=\"nonzero\" fill-opacity=\"1\" /><path clip-path=\"url(#clip600)\" d=\"M1036.68 1517.37 Q1033.07 1517.37 1031.24 1520.93 Q1029.43 1524.47 1029.43 1531.6 Q1029.43 1538.71 1031.24 1542.27 Q1033.07 1545.82 1036.68 1545.82 Q1040.31 1545.82 1042.12 1542.27 Q1043.95 1538.71 1043.95 1531.6 Q1043.95 1524.47 1042.12 1520.93 Q1040.31 1517.37 1036.68 1517.37 M1036.68 1513.66 Q1042.49 1513.66 1045.55 1518.27 Q1048.62 1522.85 1048.62 1531.6 Q1048.62 1540.33 1045.55 1544.94 Q1042.49 1549.52 1036.68 1549.52 Q1030.87 1549.52 1027.79 1544.94 Q1024.74 1540.33 1024.74 1531.6 Q1024.74 1522.85 1027.79 1518.27 Q1030.87 1513.66 1036.68 1513.66 Z\" fill=\"#000000\" fill-rule=\"nonzero\" fill-opacity=\"1\" /><path clip-path=\"url(#clip600)\" d=\"M1433.55 1530.21 Q1436.91 1530.93 1438.78 1533.2 Q1440.68 1535.47 1440.68 1538.8 Q1440.68 1543.92 1437.16 1546.72 Q1433.64 1549.52 1427.16 1549.52 Q1424.99 1549.52 1422.67 1549.08 Q1420.38 1548.66 1417.93 1547.81 L1417.93 1543.29 Q1419.87 1544.43 1422.19 1545.01 Q1424.5 1545.58 1427.02 1545.58 Q1431.42 1545.58 1433.71 1543.85 Q1436.03 1542.11 1436.03 1538.8 Q1436.03 1535.75 1433.88 1534.03 Q1431.75 1532.3 1427.93 1532.3 L1423.9 1532.3 L1423.9 1528.45 L1428.11 1528.45 Q1431.56 1528.45 1433.39 1527.09 Q1435.22 1525.7 1435.22 1523.11 Q1435.22 1520.45 1433.32 1519.03 Q1431.45 1517.6 1427.93 1517.6 Q1426.01 1517.6 1423.81 1518.01 Q1421.61 1518.43 1418.97 1519.31 L1418.97 1515.14 Q1421.63 1514.4 1423.95 1514.03 Q1426.28 1513.66 1428.34 1513.66 Q1433.67 1513.66 1436.77 1516.09 Q1439.87 1518.5 1439.87 1522.62 Q1439.87 1525.49 1438.23 1527.48 Q1436.58 1529.45 1433.55 1530.21 Z\" fill=\"#000000\" fill-rule=\"nonzero\" fill-opacity=\"1\" /><path clip-path=\"url(#clip600)\" d=\"M1459.55 1517.37 Q1455.94 1517.37 1454.11 1520.93 Q1452.3 1524.47 1452.3 1531.6 Q1452.3 1538.71 1454.11 1542.27 Q1455.94 1545.82 1459.55 1545.82 Q1463.18 1545.82 1464.99 1542.27 Q1466.82 1538.71 1466.82 1531.6 Q1466.82 1524.47 1464.99 1520.93 Q1463.18 1517.37 1459.55 1517.37 M1459.55 1513.66 Q1465.36 1513.66 1468.41 1518.27 Q1471.49 1522.85 1471.49 1531.6 Q1471.49 1540.33 1468.41 1544.94 Q1465.36 1549.52 1459.55 1549.52 Q1453.74 1549.52 1450.66 1544.94 Q1447.6 1540.33 1447.6 1531.6 Q1447.6 1522.85 1450.66 1518.27 Q1453.74 1513.66 1459.55 1513.66 Z\" fill=\"#000000\" fill-rule=\"nonzero\" fill-opacity=\"1\" /><path clip-path=\"url(#clip600)\" d=\"M1855.82 1518.36 L1844.01 1536.81 L1855.82 1536.81 L1855.82 1518.36 M1854.59 1514.29 L1860.47 1514.29 L1860.47 1536.81 L1865.4 1536.81 L1865.4 1540.7 L1860.47 1540.7 L1860.47 1548.85 L1855.82 1548.85 L1855.82 1540.7 L1840.22 1540.7 L1840.22 1536.19 L1854.59 1514.29 Z\" fill=\"#000000\" fill-rule=\"nonzero\" fill-opacity=\"1\" /><path clip-path=\"url(#clip600)\" d=\"M1883.13 1517.37 Q1879.52 1517.37 1877.69 1520.93 Q1875.89 1524.47 1875.89 1531.6 Q1875.89 1538.71 1877.69 1542.27 Q1879.52 1545.82 1883.13 1545.82 Q1886.77 1545.82 1888.57 1542.27 Q1890.4 1538.71 1890.4 1531.6 Q1890.4 1524.47 1888.57 1520.93 Q1886.77 1517.37 1883.13 1517.37 M1883.13 1513.66 Q1888.94 1513.66 1892 1518.27 Q1895.08 1522.85 1895.08 1531.6 Q1895.08 1540.33 1892 1544.94 Q1888.94 1549.52 1883.13 1549.52 Q1877.32 1549.52 1874.24 1544.94 Q1871.19 1540.33 1871.19 1531.6 Q1871.19 1522.85 1874.24 1518.27 Q1877.32 1513.66 1883.13 1513.66 Z\" fill=\"#000000\" fill-rule=\"nonzero\" fill-opacity=\"1\" /><path clip-path=\"url(#clip600)\" d=\"M2265.28 1514.29 L2283.64 1514.29 L2283.64 1518.22 L2269.57 1518.22 L2269.57 1526.7 Q2270.58 1526.35 2271.6 1526.19 Q2272.62 1526 2273.64 1526 Q2279.43 1526 2282.81 1529.17 Q2286.19 1532.34 2286.19 1537.76 Q2286.19 1543.34 2282.71 1546.44 Q2279.24 1549.52 2272.92 1549.52 Q2270.75 1549.52 2268.48 1549.15 Q2266.23 1548.78 2263.83 1548.04 L2263.83 1543.34 Q2265.91 1544.47 2268.13 1545.03 Q2270.35 1545.58 2272.83 1545.58 Q2276.83 1545.58 2279.17 1543.48 Q2281.51 1541.37 2281.51 1537.76 Q2281.51 1534.15 2279.17 1532.04 Q2276.83 1529.94 2272.83 1529.94 Q2270.95 1529.94 2269.08 1530.35 Q2267.23 1530.77 2265.28 1531.65 L2265.28 1514.29 Z\" fill=\"#000000\" fill-rule=\"nonzero\" fill-opacity=\"1\" /><path clip-path=\"url(#clip600)\" d=\"M2305.4 1517.37 Q2301.79 1517.37 2299.96 1520.93 Q2298.15 1524.47 2298.15 1531.6 Q2298.15 1538.71 2299.96 1542.27 Q2301.79 1545.82 2305.4 1545.82 Q2309.03 1545.82 2310.84 1542.27 Q2312.67 1538.71 2312.67 1531.6 Q2312.67 1524.47 2310.84 1520.93 Q2309.03 1517.37 2305.4 1517.37 M2305.4 1513.66 Q2311.21 1513.66 2314.26 1518.27 Q2317.34 1522.85 2317.34 1531.6 Q2317.34 1540.33 2314.26 1544.94 Q2311.21 1549.52 2305.4 1549.52 Q2299.59 1549.52 2296.51 1544.94 Q2293.45 1540.33 2293.45 1531.6 Q2293.45 1522.85 2296.51 1518.27 Q2299.59 1513.66 2305.4 1513.66 Z\" fill=\"#000000\" fill-rule=\"nonzero\" fill-opacity=\"1\" /><polyline clip-path=\"url(#clip602)\" style=\"stroke:#000000; stroke-linecap:round; stroke-linejoin:round; stroke-width:2; stroke-opacity:0.1; fill:none\" points=\"156.02,1418.01 2352.76,1418.01 \"/>\n<polyline clip-path=\"url(#clip602)\" style=\"stroke:#000000; stroke-linecap:round; stroke-linejoin:round; stroke-width:2; stroke-opacity:0.1; fill:none\" points=\"156.02,1191.31 2352.76,1191.31 \"/>\n<polyline clip-path=\"url(#clip602)\" style=\"stroke:#000000; stroke-linecap:round; stroke-linejoin:round; stroke-width:2; stroke-opacity:0.1; fill:none\" points=\"156.02,964.61 2352.76,964.61 \"/>\n<polyline clip-path=\"url(#clip602)\" style=\"stroke:#000000; stroke-linecap:round; stroke-linejoin:round; stroke-width:2; stroke-opacity:0.1; fill:none\" points=\"156.02,737.909 2352.76,737.909 \"/>\n<polyline clip-path=\"url(#clip602)\" style=\"stroke:#000000; stroke-linecap:round; stroke-linejoin:round; stroke-width:2; stroke-opacity:0.1; fill:none\" points=\"156.02,511.208 2352.76,511.208 \"/>\n<polyline clip-path=\"url(#clip602)\" style=\"stroke:#000000; stroke-linecap:round; stroke-linejoin:round; stroke-width:2; stroke-opacity:0.1; fill:none\" points=\"156.02,284.506 2352.76,284.506 \"/>\n<polyline clip-path=\"url(#clip602)\" style=\"stroke:#000000; stroke-linecap:round; stroke-linejoin:round; stroke-width:2; stroke-opacity:0.1; fill:none\" points=\"156.02,57.805 2352.76,57.805 \"/>\n<polyline clip-path=\"url(#clip600)\" style=\"stroke:#000000; stroke-linecap:round; stroke-linejoin:round; stroke-width:4; stroke-opacity:1; fill:none\" points=\"156.02,1486.45 156.02,47.2441 \"/>\n<polyline clip-path=\"url(#clip600)\" style=\"stroke:#000000; stroke-linecap:round; stroke-linejoin:round; stroke-width:4; stroke-opacity:1; fill:none\" points=\"156.02,1418.01 174.917,1418.01 \"/>\n<polyline clip-path=\"url(#clip600)\" style=\"stroke:#000000; stroke-linecap:round; stroke-linejoin:round; stroke-width:4; stroke-opacity:1; fill:none\" points=\"156.02,1191.31 174.917,1191.31 \"/>\n<polyline clip-path=\"url(#clip600)\" style=\"stroke:#000000; stroke-linecap:round; stroke-linejoin:round; stroke-width:4; stroke-opacity:1; fill:none\" points=\"156.02,964.61 174.917,964.61 \"/>\n<polyline clip-path=\"url(#clip600)\" style=\"stroke:#000000; stroke-linecap:round; stroke-linejoin:round; stroke-width:4; stroke-opacity:1; fill:none\" points=\"156.02,737.909 174.917,737.909 \"/>\n<polyline clip-path=\"url(#clip600)\" style=\"stroke:#000000; stroke-linecap:round; stroke-linejoin:round; stroke-width:4; stroke-opacity:1; fill:none\" points=\"156.02,511.208 174.917,511.208 \"/>\n<polyline clip-path=\"url(#clip600)\" style=\"stroke:#000000; stroke-linecap:round; stroke-linejoin:round; stroke-width:4; stroke-opacity:1; fill:none\" points=\"156.02,284.506 174.917,284.506 \"/>\n<polyline clip-path=\"url(#clip600)\" style=\"stroke:#000000; stroke-linecap:round; stroke-linejoin:round; stroke-width:4; stroke-opacity:1; fill:none\" points=\"156.02,57.805 174.917,57.805 \"/>\n<path clip-path=\"url(#clip600)\" d=\"M63.7467 1403.81 Q60.1356 1403.81 58.3069 1407.38 Q56.5014 1410.92 56.5014 1418.05 Q56.5014 1425.15 58.3069 1428.72 Q60.1356 1432.26 63.7467 1432.26 Q67.3809 1432.26 69.1865 1428.72 Q71.0152 1425.15 71.0152 1418.05 Q71.0152 1410.92 69.1865 1407.38 Q67.3809 1403.81 63.7467 1403.81 M63.7467 1400.11 Q69.5568 1400.11 72.6124 1404.71 Q75.6911 1409.3 75.6911 1418.05 Q75.6911 1426.77 72.6124 1431.38 Q69.5568 1435.96 63.7467 1435.96 Q57.9365 1435.96 54.8578 1431.38 Q51.8023 1426.77 51.8023 1418.05 Q51.8023 1409.3 54.8578 1404.71 Q57.9365 1400.11 63.7467 1400.11 Z\" fill=\"#000000\" fill-rule=\"nonzero\" fill-opacity=\"1\" /><path clip-path=\"url(#clip600)\" d=\"M83.9086 1429.41 L88.7928 1429.41 L88.7928 1435.29 L83.9086 1435.29 L83.9086 1429.41 Z\" fill=\"#000000\" fill-rule=\"nonzero\" fill-opacity=\"1\" /><path clip-path=\"url(#clip600)\" d=\"M97.7974 1400.73 L120.02 1400.73 L120.02 1402.72 L107.473 1435.29 L102.589 1435.29 L114.395 1404.67 L97.7974 1404.67 L97.7974 1400.73 Z\" fill=\"#000000\" fill-rule=\"nonzero\" fill-opacity=\"1\" /><path clip-path=\"url(#clip600)\" d=\"M62.9365 1177.11 Q59.3254 1177.11 57.4967 1180.68 Q55.6912 1184.22 55.6912 1191.35 Q55.6912 1198.45 57.4967 1202.02 Q59.3254 1205.56 62.9365 1205.56 Q66.5707 1205.56 68.3763 1202.02 Q70.205 1198.45 70.205 1191.35 Q70.205 1184.22 68.3763 1180.68 Q66.5707 1177.11 62.9365 1177.11 M62.9365 1173.41 Q68.7467 1173.41 71.8022 1178.01 Q74.8809 1182.6 74.8809 1191.35 Q74.8809 1200.07 71.8022 1204.68 Q68.7467 1209.26 62.9365 1209.26 Q57.1264 1209.26 54.0477 1204.68 Q50.9921 1200.07 50.9921 1191.35 Q50.9921 1182.6 54.0477 1178.01 Q57.1264 1173.41 62.9365 1173.41 Z\" fill=\"#000000\" fill-rule=\"nonzero\" fill-opacity=\"1\" /><path clip-path=\"url(#clip600)\" d=\"M83.0984 1202.71 L87.9827 1202.71 L87.9827 1208.59 L83.0984 1208.59 L83.0984 1202.71 Z\" fill=\"#000000\" fill-rule=\"nonzero\" fill-opacity=\"1\" /><path clip-path=\"url(#clip600)\" d=\"M108.168 1192.18 Q104.834 1192.18 102.913 1193.96 Q101.015 1195.74 101.015 1198.87 Q101.015 1201.99 102.913 1203.78 Q104.834 1205.56 108.168 1205.56 Q111.501 1205.56 113.422 1203.78 Q115.344 1201.97 115.344 1198.87 Q115.344 1195.74 113.422 1193.96 Q111.524 1192.18 108.168 1192.18 M103.492 1190.19 Q100.483 1189.45 98.7928 1187.39 Q97.1261 1185.33 97.1261 1182.37 Q97.1261 1178.22 100.066 1175.81 Q103.029 1173.41 108.168 1173.41 Q113.33 1173.41 116.27 1175.81 Q119.209 1178.22 119.209 1182.37 Q119.209 1185.33 117.52 1187.39 Q115.853 1189.45 112.867 1190.19 Q116.246 1190.98 118.121 1193.27 Q120.02 1195.56 120.02 1198.87 Q120.02 1203.89 116.941 1206.58 Q113.885 1209.26 108.168 1209.26 Q102.45 1209.26 99.3715 1206.58 Q96.316 1203.89 96.316 1198.87 Q96.316 1195.56 98.2141 1193.27 Q100.112 1190.98 103.492 1190.19 M101.779 1182.8 Q101.779 1185.49 103.446 1186.99 Q105.135 1188.5 108.168 1188.5 Q111.177 1188.5 112.867 1186.99 Q114.58 1185.49 114.58 1182.8 Q114.58 1180.12 112.867 1178.62 Q111.177 1177.11 108.168 1177.11 Q105.135 1177.11 103.446 1178.62 Q101.779 1180.12 101.779 1182.8 Z\" fill=\"#000000\" fill-rule=\"nonzero\" fill-opacity=\"1\" /><path clip-path=\"url(#clip600)\" d=\"M63.0291 950.409 Q59.418 950.409 57.5893 953.974 Q55.7838 957.516 55.7838 964.645 Q55.7838 971.752 57.5893 975.316 Q59.418 978.858 63.0291 978.858 Q66.6633 978.858 68.4689 975.316 Q70.2976 971.752 70.2976 964.645 Q70.2976 957.516 68.4689 953.974 Q66.6633 950.409 63.0291 950.409 M63.0291 946.705 Q68.8393 946.705 71.8948 951.312 Q74.9735 955.895 74.9735 964.645 Q74.9735 973.372 71.8948 977.978 Q68.8393 982.562 63.0291 982.562 Q57.2189 982.562 54.1403 977.978 Q51.0847 973.372 51.0847 964.645 Q51.0847 955.895 54.1403 951.312 Q57.2189 946.705 63.0291 946.705 Z\" fill=\"#000000\" fill-rule=\"nonzero\" fill-opacity=\"1\" /><path clip-path=\"url(#clip600)\" d=\"M83.191 976.011 L88.0753 976.011 L88.0753 981.89 L83.191 981.89 L83.191 976.011 Z\" fill=\"#000000\" fill-rule=\"nonzero\" fill-opacity=\"1\" /><path clip-path=\"url(#clip600)\" d=\"M98.3993 981.173 L98.3993 976.914 Q100.159 977.747 101.964 978.187 Q103.77 978.627 105.506 978.627 Q110.135 978.627 112.566 975.525 Q115.02 972.4 115.367 966.057 Q114.024 968.048 111.964 969.113 Q109.904 970.178 107.404 970.178 Q102.219 970.178 99.1863 967.053 Q96.1771 963.904 96.1771 958.465 Q96.1771 953.141 99.3252 949.923 Q102.473 946.705 107.705 946.705 Q113.7 946.705 116.848 951.312 Q120.02 955.895 120.02 964.645 Q120.02 972.816 116.131 977.701 Q112.265 982.562 105.714 982.562 Q103.955 982.562 102.149 982.214 Q100.344 981.867 98.3993 981.173 M107.705 966.52 Q110.853 966.52 112.682 964.367 Q114.533 962.215 114.533 958.465 Q114.533 954.738 112.682 952.585 Q110.853 950.409 107.705 950.409 Q104.557 950.409 102.705 952.585 Q100.876 954.738 100.876 958.465 Q100.876 962.215 102.705 964.367 Q104.557 966.52 107.705 966.52 Z\" fill=\"#000000\" fill-rule=\"nonzero\" fill-opacity=\"1\" /><path clip-path=\"url(#clip600)\" d=\"M53.6541 751.254 L61.293 751.254 L61.293 724.888 L52.9829 726.555 L52.9829 722.296 L61.2467 720.629 L65.9226 720.629 L65.9226 751.254 L73.5614 751.254 L73.5614 755.189 L53.6541 755.189 L53.6541 751.254 Z\" fill=\"#000000\" fill-rule=\"nonzero\" fill-opacity=\"1\" /><path clip-path=\"url(#clip600)\" d=\"M83.0058 749.309 L87.8901 749.309 L87.8901 755.189 L83.0058 755.189 L83.0058 749.309 Z\" fill=\"#000000\" fill-rule=\"nonzero\" fill-opacity=\"1\" /><path clip-path=\"url(#clip600)\" d=\"M108.075 723.708 Q104.464 723.708 102.635 727.273 Q100.83 730.814 100.83 737.944 Q100.83 745.05 102.635 748.615 Q104.464 752.157 108.075 752.157 Q111.709 752.157 113.515 748.615 Q115.344 745.05 115.344 737.944 Q115.344 730.814 113.515 727.273 Q111.709 723.708 108.075 723.708 M108.075 720.004 Q113.885 720.004 116.941 724.611 Q120.02 729.194 120.02 737.944 Q120.02 746.671 116.941 751.277 Q113.885 755.86 108.075 755.86 Q102.265 755.86 99.1863 751.277 Q96.1308 746.671 96.1308 737.944 Q96.1308 729.194 99.1863 724.611 Q102.265 720.004 108.075 720.004 Z\" fill=\"#000000\" fill-rule=\"nonzero\" fill-opacity=\"1\" /><path clip-path=\"url(#clip600)\" d=\"M54.881 524.553 L62.5198 524.553 L62.5198 498.187 L54.2097 499.854 L54.2097 495.594 L62.4735 493.928 L67.1494 493.928 L67.1494 524.553 L74.7883 524.553 L74.7883 528.488 L54.881 528.488 L54.881 524.553 Z\" fill=\"#000000\" fill-rule=\"nonzero\" fill-opacity=\"1\" /><path clip-path=\"url(#clip600)\" d=\"M84.2327 522.608 L89.1169 522.608 L89.1169 528.488 L84.2327 528.488 L84.2327 522.608 Z\" fill=\"#000000\" fill-rule=\"nonzero\" fill-opacity=\"1\" /><path clip-path=\"url(#clip600)\" d=\"M100.112 524.553 L107.751 524.553 L107.751 498.187 L99.4409 499.854 L99.4409 495.594 L107.705 493.928 L112.381 493.928 L112.381 524.553 L120.02 524.553 L120.02 528.488 L100.112 528.488 L100.112 524.553 Z\" fill=\"#000000\" fill-rule=\"nonzero\" fill-opacity=\"1\" /><path clip-path=\"url(#clip600)\" d=\"M55.2514 297.851 L62.8902 297.851 L62.8902 271.486 L54.5801 273.152 L54.5801 268.893 L62.8439 267.226 L67.5198 267.226 L67.5198 297.851 L75.1587 297.851 L75.1587 301.786 L55.2514 301.786 L55.2514 297.851 Z\" fill=\"#000000\" fill-rule=\"nonzero\" fill-opacity=\"1\" /><path clip-path=\"url(#clip600)\" d=\"M84.6031 295.907 L89.4873 295.907 L89.4873 301.786 L84.6031 301.786 L84.6031 295.907 Z\" fill=\"#000000\" fill-rule=\"nonzero\" fill-opacity=\"1\" /><path clip-path=\"url(#clip600)\" d=\"M103.7 297.851 L120.02 297.851 L120.02 301.786 L98.0752 301.786 L98.0752 297.851 Q100.737 295.097 105.321 290.467 Q109.927 285.814 111.108 284.472 Q113.353 281.949 114.233 280.212 Q115.135 278.453 115.135 276.763 Q115.135 274.009 113.191 272.273 Q111.27 270.537 108.168 270.537 Q105.969 270.537 103.515 271.3 Q101.084 272.064 98.3067 273.615 L98.3067 268.893 Q101.131 267.759 103.584 267.18 Q106.038 266.601 108.075 266.601 Q113.445 266.601 116.64 269.287 Q119.834 271.972 119.834 276.462 Q119.834 278.592 119.024 280.513 Q118.237 282.411 116.131 285.004 Q115.552 285.675 112.45 288.893 Q109.348 292.087 103.7 297.851 Z\" fill=\"#000000\" fill-rule=\"nonzero\" fill-opacity=\"1\" /><path clip-path=\"url(#clip600)\" d=\"M54.3023 71.1499 L61.9411 71.1499 L61.9411 44.7843 L53.631 46.4509 L53.631 42.1917 L61.8948 40.525 L66.5707 40.525 L66.5707 71.1499 L74.2096 71.1499 L74.2096 75.085 L54.3023 75.085 L54.3023 71.1499 Z\" fill=\"#000000\" fill-rule=\"nonzero\" fill-opacity=\"1\" /><path clip-path=\"url(#clip600)\" d=\"M83.654 69.2054 L88.5382 69.2054 L88.5382 75.085 L83.654 75.085 L83.654 69.2054 Z\" fill=\"#000000\" fill-rule=\"nonzero\" fill-opacity=\"1\" /><path clip-path=\"url(#clip600)\" d=\"M112.89 56.4509 Q116.246 57.1685 118.121 59.437 Q120.02 61.7055 120.02 65.0388 Q120.02 70.1545 116.501 72.9554 Q112.983 75.7563 106.501 75.7563 Q104.325 75.7563 102.01 75.3165 Q99.7187 74.8998 97.265 74.0434 L97.265 69.5295 Q99.2095 70.6638 101.524 71.2425 Q103.839 71.8212 106.362 71.8212 Q110.76 71.8212 113.052 70.085 Q115.367 68.3489 115.367 65.0388 Q115.367 61.9832 113.214 60.2703 Q111.084 58.5342 107.265 58.5342 L103.237 58.5342 L103.237 54.6916 L107.45 54.6916 Q110.899 54.6916 112.728 53.3259 Q114.557 51.937 114.557 49.3444 Q114.557 46.6824 112.658 45.2704 Q110.783 43.8352 107.265 43.8352 Q105.344 43.8352 103.145 44.2519 Q100.946 44.6685 98.3067 45.5481 L98.3067 41.3815 Q100.969 40.6408 103.284 40.2704 Q105.621 39.9 107.682 39.9 Q113.006 39.9 116.108 42.3306 Q119.209 44.738 119.209 48.8583 Q119.209 51.7287 117.566 53.7194 Q115.922 55.687 112.89 56.4509 Z\" fill=\"#000000\" fill-rule=\"nonzero\" fill-opacity=\"1\" /><polyline clip-path=\"url(#clip602)\" style=\"stroke:#009af9; stroke-linecap:round; stroke-linejoin:round; stroke-width:4; stroke-opacity:1; fill:none\" points=\"218.191,87.9763 260.485,214.018 302.779,337.03 345.073,439.958 387.366,539.774 429.66,628.349 471.954,692.837 514.247,728.164 556.541,786.527 598.835,880.747 641.129,919.248 683.422,928.144 725.716,988.609 768.01,1026.87 810.304,1022.17 852.597,1060.25 894.891,1094.82 937.185,1089.65 979.478,1144.35 1021.77,1162.68 1064.07,1144.31 1106.36,1186.98 1148.65,1187.59 1190.95,1211.92 1233.24,1234.68 1275.53,1227.81 1317.83,1268.36 1360.12,1302.63 1402.42,1276.61 1444.71,1314.54 1487,1285.1 1529.3,1312.85 1571.59,1344.4 1613.88,1337.29 1656.18,1380.85 1698.47,1251.87 1740.77,1383.44 1783.06,1325.92 1825.35,1376.96 1867.65,1370.88 1909.94,1372.55 1952.23,1387.05 1994.53,1445.72 2036.82,1386.24 2079.12,1322.68 2121.41,1390.49 2163.7,1349.34 2206,1358.76 2248.29,1365.46 2290.58,1397.68 \"/>\n<path clip-path=\"url(#clip600)\" d=\"M2007.43 198.898 L2279.53 198.898 L2279.53 95.2176 L2007.43 95.2176  Z\" fill=\"#ffffff\" fill-rule=\"evenodd\" fill-opacity=\"1\"/>\n<polyline clip-path=\"url(#clip600)\" style=\"stroke:#000000; stroke-linecap:round; stroke-linejoin:round; stroke-width:4; stroke-opacity:1; fill:none\" points=\"2007.43,198.898 2279.53,198.898 2279.53,95.2176 2007.43,95.2176 2007.43,198.898 \"/>\n<polyline clip-path=\"url(#clip600)\" style=\"stroke:#009af9; stroke-linecap:round; stroke-linejoin:round; stroke-width:4; stroke-opacity:1; fill:none\" points=\"2031.84,147.058 2178.28,147.058 \"/>\n<path clip-path=\"url(#clip600)\" d=\"M2216.54 166.745 Q2214.73 171.375 2213.02 172.787 Q2211.3 174.199 2208.43 174.199 L2205.03 174.199 L2205.03 170.634 L2207.53 170.634 Q2209.29 170.634 2210.26 169.8 Q2211.23 168.967 2212.42 165.865 L2213.18 163.921 L2202.69 138.412 L2207.21 138.412 L2215.31 158.689 L2223.41 138.412 L2227.92 138.412 L2216.54 166.745 Z\" fill=\"#000000\" fill-rule=\"nonzero\" fill-opacity=\"1\" /><path clip-path=\"url(#clip600)\" d=\"M2235.22 160.402 L2242.85 160.402 L2242.85 134.037 L2234.54 135.703 L2234.54 131.444 L2242.81 129.778 L2247.48 129.778 L2247.48 160.402 L2255.12 160.402 L2255.12 164.338 L2235.22 164.338 L2235.22 160.402 Z\" fill=\"#000000\" fill-rule=\"nonzero\" fill-opacity=\"1\" /></svg>\n"
     },
     "execution_count": 34,
     "metadata": {},
     "output_type": "execute_result"
    }
   ],
   "source": [
    "Plots.plot(collect(1:epochs), losses)"
   ]
  },
  {
   "cell_type": "code",
   "execution_count": null,
   "metadata": {},
   "outputs": [],
   "source": []
  }
 ],
 "metadata": {
  "kernelspec": {
   "display_name": "Julia 1.8.2",
   "language": "julia",
   "name": "julia-1.8"
  },
  "language_info": {
   "file_extension": ".jl",
   "mimetype": "application/julia",
   "name": "julia",
   "version": "1.8.2"
  }
 },
 "nbformat": 4,
 "nbformat_minor": 2
}
