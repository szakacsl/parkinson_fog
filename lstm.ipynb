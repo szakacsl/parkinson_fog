{
 "cells": [
  {
   "cell_type": "markdown",
   "metadata": {},
   "source": [
    "### Implementing Long Short-Term Memory to detect and classify Parkinsons' Freezing of Gait types in time series data"
   ]
  },
  {
   "cell_type": "code",
   "execution_count": 1,
   "metadata": {},
   "outputs": [],
   "source": [
    "using Pkg\n",
    "\n",
    "# Pkg.add(\"CSV\")\n",
    "# Pkg.add(\"NNlib\")\n",
    "# Pkg.add(\"DataFrames\")\n",
    "# Pkg.add(\"Distributions\")\n",
    "# Pkg.add(\"ResumableFunctions\")\n",
    "# Pkg.add(\"Flux\")\n"
   ]
  },
  {
   "cell_type": "code",
   "execution_count": 2,
   "metadata": {},
   "outputs": [],
   "source": [
    "using Flux\n",
    "using Flux: @epochs, batch, throttle\n",
    "\n",
    "using CSV\n",
    "using NNlib\n",
    "using DataFrames\n",
    "using Distributions\n",
    "using ResumableFunctions\n",
    "using Random"
   ]
  },
  {
   "cell_type": "code",
   "execution_count": 3,
   "metadata": {},
   "outputs": [
    {
     "data": {
      "text/html": [
       "<div><div style = \"float: left;\"><span>2258292×13 DataFrame</span></div><div style = \"float: right;\"><span style = \"font-style: italic;\">2258267 rows omitted</span></div><div style = \"clear: both;\"></div></div><div class = \"data-frame\" style = \"overflow-x: scroll;\"><table class = \"data-frame\" style = \"margin-bottom: 6px;\"><thead><tr class = \"header\"><th class = \"rowNumber\" style = \"font-weight: bold; text-align: right;\">Row</th><th style = \"text-align: left;\">Id</th><th style = \"text-align: left;\">Subject</th><th style = \"text-align: left;\">Visit</th><th style = \"text-align: left;\">Test</th><th style = \"text-align: left;\">Medication</th><th style = \"text-align: left;\">Time</th><th style = \"text-align: left;\">AccV</th><th style = \"text-align: left;\">AccML</th><th style = \"text-align: left;\">AccAP</th><th style = \"text-align: left;\">StartHesitation</th><th style = \"text-align: left;\">Turn</th><th style = \"text-align: left;\">Walking</th><th style = \"text-align: left;\">event</th></tr><tr class = \"subheader headerLastRow\"><th class = \"rowNumber\" style = \"font-weight: bold; text-align: right;\"></th><th title = \"String15\" style = \"text-align: left;\">String15</th><th title = \"String7\" style = \"text-align: left;\">String7</th><th title = \"Int64\" style = \"text-align: left;\">Int64</th><th title = \"Int64\" style = \"text-align: left;\">Int64</th><th title = \"String3\" style = \"text-align: left;\">String3</th><th title = \"Int64\" style = \"text-align: left;\">Int64</th><th title = \"Float64\" style = \"text-align: left;\">Float64</th><th title = \"Float64\" style = \"text-align: left;\">Float64</th><th title = \"Float64\" style = \"text-align: left;\">Float64</th><th title = \"Int64\" style = \"text-align: left;\">Int64</th><th title = \"Int64\" style = \"text-align: left;\">Int64</th><th title = \"Int64\" style = \"text-align: left;\">Int64</th><th title = \"String15\" style = \"text-align: left;\">String15</th></tr></thead><tbody><tr><td class = \"rowNumber\" style = \"font-weight: bold; text-align: right;\">1</td><td style = \"text-align: left;\">003f117e14</td><td style = \"text-align: left;\">4dc2f8</td><td style = \"text-align: right;\">3</td><td style = \"text-align: right;\">2</td><td style = \"text-align: left;\">on</td><td style = \"text-align: right;\">0</td><td style = \"text-align: right;\">-9.53394</td><td style = \"text-align: right;\">0.566322</td><td style = \"text-align: right;\">-1.41353</td><td style = \"text-align: right;\">0</td><td style = \"text-align: right;\">0</td><td style = \"text-align: right;\">0</td><td style = \"text-align: left;\">Normal</td></tr><tr><td class = \"rowNumber\" style = \"font-weight: bold; text-align: right;\">2</td><td style = \"text-align: left;\">003f117e14</td><td style = \"text-align: left;\">4dc2f8</td><td style = \"text-align: right;\">3</td><td style = \"text-align: right;\">2</td><td style = \"text-align: left;\">on</td><td style = \"text-align: right;\">1</td><td style = \"text-align: right;\">-9.53614</td><td style = \"text-align: right;\">0.564137</td><td style = \"text-align: right;\">-1.44062</td><td style = \"text-align: right;\">0</td><td style = \"text-align: right;\">0</td><td style = \"text-align: right;\">0</td><td style = \"text-align: left;\">Normal</td></tr><tr><td class = \"rowNumber\" style = \"font-weight: bold; text-align: right;\">3</td><td style = \"text-align: left;\">003f117e14</td><td style = \"text-align: left;\">4dc2f8</td><td style = \"text-align: right;\">3</td><td style = \"text-align: right;\">2</td><td style = \"text-align: left;\">on</td><td style = \"text-align: right;\">2</td><td style = \"text-align: right;\">-9.52935</td><td style = \"text-align: right;\">0.561765</td><td style = \"text-align: right;\">-1.42933</td><td style = \"text-align: right;\">0</td><td style = \"text-align: right;\">0</td><td style = \"text-align: right;\">0</td><td style = \"text-align: left;\">Normal</td></tr><tr><td class = \"rowNumber\" style = \"font-weight: bold; text-align: right;\">4</td><td style = \"text-align: left;\">003f117e14</td><td style = \"text-align: left;\">4dc2f8</td><td style = \"text-align: right;\">3</td><td style = \"text-align: right;\">2</td><td style = \"text-align: left;\">on</td><td style = \"text-align: right;\">3</td><td style = \"text-align: right;\">-9.53124</td><td style = \"text-align: right;\">0.564227</td><td style = \"text-align: right;\">-1.41549</td><td style = \"text-align: right;\">0</td><td style = \"text-align: right;\">0</td><td style = \"text-align: right;\">0</td><td style = \"text-align: left;\">Normal</td></tr><tr><td class = \"rowNumber\" style = \"font-weight: bold; text-align: right;\">5</td><td style = \"text-align: left;\">003f117e14</td><td style = \"text-align: left;\">4dc2f8</td><td style = \"text-align: right;\">3</td><td style = \"text-align: right;\">2</td><td style = \"text-align: left;\">on</td><td style = \"text-align: right;\">4</td><td style = \"text-align: right;\">-9.54082</td><td style = \"text-align: right;\">0.561854</td><td style = \"text-align: right;\">-1.42947</td><td style = \"text-align: right;\">0</td><td style = \"text-align: right;\">0</td><td style = \"text-align: right;\">0</td><td style = \"text-align: left;\">Normal</td></tr><tr><td class = \"rowNumber\" style = \"font-weight: bold; text-align: right;\">6</td><td style = \"text-align: left;\">003f117e14</td><td style = \"text-align: left;\">4dc2f8</td><td style = \"text-align: right;\">3</td><td style = \"text-align: right;\">2</td><td style = \"text-align: left;\">on</td><td style = \"text-align: right;\">5</td><td style = \"text-align: right;\">-9.53658</td><td style = \"text-align: right;\">0.552573</td><td style = \"text-align: right;\">-1.41395</td><td style = \"text-align: right;\">0</td><td style = \"text-align: right;\">0</td><td style = \"text-align: right;\">0</td><td style = \"text-align: left;\">Normal</td></tr><tr><td class = \"rowNumber\" style = \"font-weight: bold; text-align: right;\">7</td><td style = \"text-align: left;\">003f117e14</td><td style = \"text-align: left;\">4dc2f8</td><td style = \"text-align: right;\">3</td><td style = \"text-align: right;\">2</td><td style = \"text-align: left;\">on</td><td style = \"text-align: right;\">6</td><td style = \"text-align: right;\">-9.52954</td><td style = \"text-align: right;\">0.548058</td><td style = \"text-align: right;\">-1.4138</td><td style = \"text-align: right;\">0</td><td style = \"text-align: right;\">0</td><td style = \"text-align: right;\">0</td><td style = \"text-align: left;\">Normal</td></tr><tr><td class = \"rowNumber\" style = \"font-weight: bold; text-align: right;\">8</td><td style = \"text-align: left;\">003f117e14</td><td style = \"text-align: left;\">4dc2f8</td><td style = \"text-align: right;\">3</td><td style = \"text-align: right;\">2</td><td style = \"text-align: left;\">on</td><td style = \"text-align: right;\">7</td><td style = \"text-align: right;\">-9.52449</td><td style = \"text-align: right;\">0.552772</td><td style = \"text-align: right;\">-1.41563</td><td style = \"text-align: right;\">0</td><td style = \"text-align: right;\">0</td><td style = \"text-align: right;\">0</td><td style = \"text-align: left;\">Normal</td></tr><tr><td class = \"rowNumber\" style = \"font-weight: bold; text-align: right;\">9</td><td style = \"text-align: left;\">003f117e14</td><td style = \"text-align: left;\">4dc2f8</td><td style = \"text-align: right;\">3</td><td style = \"text-align: right;\">2</td><td style = \"text-align: left;\">on</td><td style = \"text-align: right;\">8</td><td style = \"text-align: right;\">-9.53577</td><td style = \"text-align: right;\">0.55296</td><td style = \"text-align: right;\">-1.42014</td><td style = \"text-align: right;\">0</td><td style = \"text-align: right;\">0</td><td style = \"text-align: right;\">0</td><td style = \"text-align: left;\">Normal</td></tr><tr><td class = \"rowNumber\" style = \"font-weight: bold; text-align: right;\">10</td><td style = \"text-align: left;\">003f117e14</td><td style = \"text-align: left;\">4dc2f8</td><td style = \"text-align: right;\">3</td><td style = \"text-align: right;\">2</td><td style = \"text-align: left;\">on</td><td style = \"text-align: right;\">9</td><td style = \"text-align: right;\">-9.52934</td><td style = \"text-align: right;\">0.548155</td><td style = \"text-align: right;\">-1.41591</td><td style = \"text-align: right;\">0</td><td style = \"text-align: right;\">0</td><td style = \"text-align: right;\">0</td><td style = \"text-align: left;\">Normal</td></tr><tr><td class = \"rowNumber\" style = \"font-weight: bold; text-align: right;\">11</td><td style = \"text-align: left;\">003f117e14</td><td style = \"text-align: left;\">4dc2f8</td><td style = \"text-align: right;\">3</td><td style = \"text-align: right;\">2</td><td style = \"text-align: left;\">on</td><td style = \"text-align: right;\">10</td><td style = \"text-align: right;\">-9.52647</td><td style = \"text-align: right;\">0.548411</td><td style = \"text-align: right;\">-1.42225</td><td style = \"text-align: right;\">0</td><td style = \"text-align: right;\">0</td><td style = \"text-align: right;\">0</td><td style = \"text-align: left;\">Normal</td></tr><tr><td class = \"rowNumber\" style = \"font-weight: bold; text-align: right;\">12</td><td style = \"text-align: left;\">003f117e14</td><td style = \"text-align: left;\">4dc2f8</td><td style = \"text-align: right;\">3</td><td style = \"text-align: right;\">2</td><td style = \"text-align: left;\">on</td><td style = \"text-align: right;\">11</td><td style = \"text-align: right;\">-9.53575</td><td style = \"text-align: right;\">0.539368</td><td style = \"text-align: right;\">-1.42253</td><td style = \"text-align: right;\">0</td><td style = \"text-align: right;\">0</td><td style = \"text-align: right;\">0</td><td style = \"text-align: left;\">Normal</td></tr><tr><td class = \"rowNumber\" style = \"font-weight: bold; text-align: right;\">13</td><td style = \"text-align: left;\">003f117e14</td><td style = \"text-align: left;\">4dc2f8</td><td style = \"text-align: right;\">3</td><td style = \"text-align: right;\">2</td><td style = \"text-align: left;\">on</td><td style = \"text-align: right;\">12</td><td style = \"text-align: right;\">-9.53217</td><td style = \"text-align: right;\">0.54565</td><td style = \"text-align: right;\">-1.40957</td><td style = \"text-align: right;\">0</td><td style = \"text-align: right;\">0</td><td style = \"text-align: right;\">0</td><td style = \"text-align: left;\">Normal</td></tr><tr><td style = \"text-align: right;\">&vellip;</td><td style = \"text-align: right;\">&vellip;</td><td style = \"text-align: right;\">&vellip;</td><td style = \"text-align: right;\">&vellip;</td><td style = \"text-align: right;\">&vellip;</td><td style = \"text-align: right;\">&vellip;</td><td style = \"text-align: right;\">&vellip;</td><td style = \"text-align: right;\">&vellip;</td><td style = \"text-align: right;\">&vellip;</td><td style = \"text-align: right;\">&vellip;</td><td style = \"text-align: right;\">&vellip;</td><td style = \"text-align: right;\">&vellip;</td><td style = \"text-align: right;\">&vellip;</td><td style = \"text-align: right;\">&vellip;</td></tr><tr><td class = \"rowNumber\" style = \"font-weight: bold; text-align: right;\">2258281</td><td style = \"text-align: left;\">fd52a32229</td><td style = \"text-align: left;\">e8919c</td><td style = \"text-align: right;\">2</td><td style = \"text-align: right;\">3</td><td style = \"text-align: left;\">off</td><td style = \"text-align: right;\">10347</td><td style = \"text-align: right;\">-9.85058</td><td style = \"text-align: right;\">-0.0170431</td><td style = \"text-align: right;\">-0.917106</td><td style = \"text-align: right;\">0</td><td style = \"text-align: right;\">0</td><td style = \"text-align: right;\">0</td><td style = \"text-align: left;\">Normal</td></tr><tr><td class = \"rowNumber\" style = \"font-weight: bold; text-align: right;\">2258282</td><td style = \"text-align: left;\">fd52a32229</td><td style = \"text-align: left;\">e8919c</td><td style = \"text-align: right;\">2</td><td style = \"text-align: right;\">3</td><td style = \"text-align: left;\">off</td><td style = \"text-align: right;\">10348</td><td style = \"text-align: right;\">-9.81614</td><td style = \"text-align: right;\">-0.0273354</td><td style = \"text-align: right;\">-0.908865</td><td style = \"text-align: right;\">0</td><td style = \"text-align: right;\">0</td><td style = \"text-align: right;\">0</td><td style = \"text-align: left;\">Normal</td></tr><tr><td class = \"rowNumber\" style = \"font-weight: bold; text-align: right;\">2258283</td><td style = \"text-align: left;\">fd52a32229</td><td style = \"text-align: left;\">e8919c</td><td style = \"text-align: right;\">2</td><td style = \"text-align: right;\">3</td><td style = \"text-align: left;\">off</td><td style = \"text-align: right;\">10349</td><td style = \"text-align: right;\">-9.80354</td><td style = \"text-align: right;\">-0.0493485</td><td style = \"text-align: right;\">-0.902161</td><td style = \"text-align: right;\">0</td><td style = \"text-align: right;\">0</td><td style = \"text-align: right;\">0</td><td style = \"text-align: left;\">Normal</td></tr><tr><td class = \"rowNumber\" style = \"font-weight: bold; text-align: right;\">2258284</td><td style = \"text-align: left;\">fd52a32229</td><td style = \"text-align: left;\">e8919c</td><td style = \"text-align: right;\">2</td><td style = \"text-align: right;\">3</td><td style = \"text-align: left;\">off</td><td style = \"text-align: right;\">10350</td><td style = \"text-align: right;\">-9.81648</td><td style = \"text-align: right;\">-0.0560352</td><td style = \"text-align: right;\">-0.937172</td><td style = \"text-align: right;\">0</td><td style = \"text-align: right;\">0</td><td style = \"text-align: right;\">0</td><td style = \"text-align: left;\">Normal</td></tr><tr><td class = \"rowNumber\" style = \"font-weight: bold; text-align: right;\">2258285</td><td style = \"text-align: left;\">fd52a32229</td><td style = \"text-align: left;\">e8919c</td><td style = \"text-align: right;\">2</td><td style = \"text-align: right;\">3</td><td style = \"text-align: left;\">off</td><td style = \"text-align: right;\">10351</td><td style = \"text-align: right;\">-9.84022</td><td style = \"text-align: right;\">-0.0382085</td><td style = \"text-align: right;\">-0.963939</td><td style = \"text-align: right;\">0</td><td style = \"text-align: right;\">0</td><td style = \"text-align: right;\">0</td><td style = \"text-align: left;\">Normal</td></tr><tr><td class = \"rowNumber\" style = \"font-weight: bold; text-align: right;\">2258286</td><td style = \"text-align: left;\">fd52a32229</td><td style = \"text-align: left;\">e8919c</td><td style = \"text-align: right;\">2</td><td style = \"text-align: right;\">3</td><td style = \"text-align: left;\">off</td><td style = \"text-align: right;\">10352</td><td style = \"text-align: right;\">-9.86569</td><td style = \"text-align: right;\">-0.0213112</td><td style = \"text-align: right;\">-0.955063</td><td style = \"text-align: right;\">0</td><td style = \"text-align: right;\">0</td><td style = \"text-align: right;\">0</td><td style = \"text-align: left;\">Normal</td></tr><tr><td class = \"rowNumber\" style = \"font-weight: bold; text-align: right;\">2258287</td><td style = \"text-align: left;\">fd52a32229</td><td style = \"text-align: left;\">e8919c</td><td style = \"text-align: right;\">2</td><td style = \"text-align: right;\">3</td><td style = \"text-align: left;\">off</td><td style = \"text-align: right;\">10353</td><td style = \"text-align: right;\">-9.88135</td><td style = \"text-align: right;\">-0.00463181</td><td style = \"text-align: right;\">-0.943954</td><td style = \"text-align: right;\">0</td><td style = \"text-align: right;\">0</td><td style = \"text-align: right;\">0</td><td style = \"text-align: left;\">Normal</td></tr><tr><td class = \"rowNumber\" style = \"font-weight: bold; text-align: right;\">2258288</td><td style = \"text-align: left;\">fd52a32229</td><td style = \"text-align: left;\">e8919c</td><td style = \"text-align: right;\">2</td><td style = \"text-align: right;\">3</td><td style = \"text-align: left;\">off</td><td style = \"text-align: right;\">10354</td><td style = \"text-align: right;\">-9.88495</td><td style = \"text-align: right;\">-0.00286134</td><td style = \"text-align: right;\">-0.929775</td><td style = \"text-align: right;\">0</td><td style = \"text-align: right;\">0</td><td style = \"text-align: right;\">0</td><td style = \"text-align: left;\">Normal</td></tr><tr><td class = \"rowNumber\" style = \"font-weight: bold; text-align: right;\">2258289</td><td style = \"text-align: left;\">fd52a32229</td><td style = \"text-align: left;\">e8919c</td><td style = \"text-align: right;\">2</td><td style = \"text-align: right;\">3</td><td style = \"text-align: left;\">off</td><td style = \"text-align: right;\">10355</td><td style = \"text-align: right;\">-9.88172</td><td style = \"text-align: right;\">-0.00887521</td><td style = \"text-align: right;\">-0.920089</td><td style = \"text-align: right;\">0</td><td style = \"text-align: right;\">0</td><td style = \"text-align: right;\">0</td><td style = \"text-align: left;\">Normal</td></tr><tr><td class = \"rowNumber\" style = \"font-weight: bold; text-align: right;\">2258290</td><td style = \"text-align: left;\">fd52a32229</td><td style = \"text-align: left;\">e8919c</td><td style = \"text-align: right;\">2</td><td style = \"text-align: right;\">3</td><td style = \"text-align: left;\">off</td><td style = \"text-align: right;\">10356</td><td style = \"text-align: right;\">-9.86722</td><td style = \"text-align: right;\">-0.0167042</td><td style = \"text-align: right;\">-0.91042</td><td style = \"text-align: right;\">0</td><td style = \"text-align: right;\">0</td><td style = \"text-align: right;\">0</td><td style = \"text-align: left;\">Normal</td></tr><tr><td class = \"rowNumber\" style = \"font-weight: bold; text-align: right;\">2258291</td><td style = \"text-align: left;\">fd52a32229</td><td style = \"text-align: left;\">e8919c</td><td style = \"text-align: right;\">2</td><td style = \"text-align: right;\">3</td><td style = \"text-align: left;\">off</td><td style = \"text-align: right;\">10357</td><td style = \"text-align: right;\">-9.85883</td><td style = \"text-align: right;\">-0.0290535</td><td style = \"text-align: right;\">-0.925334</td><td style = \"text-align: right;\">0</td><td style = \"text-align: right;\">0</td><td style = \"text-align: right;\">0</td><td style = \"text-align: left;\">Normal</td></tr><tr><td class = \"rowNumber\" style = \"font-weight: bold; text-align: right;\">2258292</td><td style = \"text-align: left;\">fd52a32229</td><td style = \"text-align: left;\">e8919c</td><td style = \"text-align: right;\">2</td><td style = \"text-align: right;\">3</td><td style = \"text-align: left;\">off</td><td style = \"text-align: right;\">10358</td><td style = \"text-align: right;\">-9.8513</td><td style = \"text-align: right;\">-0.0431034</td><td style = \"text-align: right;\">-0.94606</td><td style = \"text-align: right;\">0</td><td style = \"text-align: right;\">0</td><td style = \"text-align: right;\">0</td><td style = \"text-align: left;\">Normal</td></tr></tbody></table></div>"
      ],
      "text/latex": [
       "\\begin{tabular}{r|cccccccccc}\n",
       "\t& Id & Subject & Visit & Test & Medication & Time & AccV & AccML & AccAP & \\\\\n",
       "\t\\hline\n",
       "\t& String15 & String7 & Int64 & Int64 & String3 & Int64 & Float64 & Float64 & Float64 & \\\\\n",
       "\t\\hline\n",
       "\t1 & 003f117e14 & 4dc2f8 & 3 & 2 & on & 0 & -9.53394 & 0.566322 & -1.41353 & $\\dots$ \\\\\n",
       "\t2 & 003f117e14 & 4dc2f8 & 3 & 2 & on & 1 & -9.53614 & 0.564137 & -1.44062 & $\\dots$ \\\\\n",
       "\t3 & 003f117e14 & 4dc2f8 & 3 & 2 & on & 2 & -9.52935 & 0.561765 & -1.42933 & $\\dots$ \\\\\n",
       "\t4 & 003f117e14 & 4dc2f8 & 3 & 2 & on & 3 & -9.53124 & 0.564227 & -1.41549 & $\\dots$ \\\\\n",
       "\t5 & 003f117e14 & 4dc2f8 & 3 & 2 & on & 4 & -9.54082 & 0.561854 & -1.42947 & $\\dots$ \\\\\n",
       "\t6 & 003f117e14 & 4dc2f8 & 3 & 2 & on & 5 & -9.53658 & 0.552573 & -1.41395 & $\\dots$ \\\\\n",
       "\t7 & 003f117e14 & 4dc2f8 & 3 & 2 & on & 6 & -9.52954 & 0.548058 & -1.4138 & $\\dots$ \\\\\n",
       "\t8 & 003f117e14 & 4dc2f8 & 3 & 2 & on & 7 & -9.52449 & 0.552772 & -1.41563 & $\\dots$ \\\\\n",
       "\t9 & 003f117e14 & 4dc2f8 & 3 & 2 & on & 8 & -9.53577 & 0.55296 & -1.42014 & $\\dots$ \\\\\n",
       "\t10 & 003f117e14 & 4dc2f8 & 3 & 2 & on & 9 & -9.52934 & 0.548155 & -1.41591 & $\\dots$ \\\\\n",
       "\t11 & 003f117e14 & 4dc2f8 & 3 & 2 & on & 10 & -9.52647 & 0.548411 & -1.42225 & $\\dots$ \\\\\n",
       "\t12 & 003f117e14 & 4dc2f8 & 3 & 2 & on & 11 & -9.53575 & 0.539368 & -1.42253 & $\\dots$ \\\\\n",
       "\t13 & 003f117e14 & 4dc2f8 & 3 & 2 & on & 12 & -9.53217 & 0.54565 & -1.40957 & $\\dots$ \\\\\n",
       "\t14 & 003f117e14 & 4dc2f8 & 3 & 2 & on & 13 & -9.53372 & 0.552824 & -1.41577 & $\\dots$ \\\\\n",
       "\t15 & 003f117e14 & 4dc2f8 & 3 & 2 & on & 14 & -9.5354 & 0.555389 & -1.40856 & $\\dots$ \\\\\n",
       "\t16 & 003f117e14 & 4dc2f8 & 3 & 2 & on & 15 & -9.52942 & 0.552641 & -1.40237 & $\\dots$ \\\\\n",
       "\t17 & 003f117e14 & 4dc2f8 & 3 & 2 & on & 16 & -9.52293 & 0.556941 & -1.40704 & $\\dots$ \\\\\n",
       "\t18 & 003f117e14 & 4dc2f8 & 3 & 2 & on & 17 & -9.52568 & 0.563564 & -1.43218 & $\\dots$ \\\\\n",
       "\t19 & 003f117e14 & 4dc2f8 & 3 & 2 & on & 18 & -9.52687 & 0.548223 & -1.4248 & $\\dots$ \\\\\n",
       "\t20 & 003f117e14 & 4dc2f8 & 3 & 2 & on & 19 & -9.53369 & 0.564174 & -1.42015 & $\\dots$ \\\\\n",
       "\t21 & 003f117e14 & 4dc2f8 & 3 & 2 & on & 20 & -9.53358 & 0.557438 & -1.43369 & $\\dots$ \\\\\n",
       "\t22 & 003f117e14 & 4dc2f8 & 3 & 2 & on & 21 & -9.53346 & 0.562016 & -1.41774 & $\\dots$ \\\\\n",
       "\t23 & 003f117e14 & 4dc2f8 & 3 & 2 & on & 22 & -9.53632 & 0.56177 & -1.42044 & $\\dots$ \\\\\n",
       "\t24 & 003f117e14 & 4dc2f8 & 3 & 2 & on & 23 & -9.54059 & 0.559687 & -1.41803 & $\\dots$ \\\\\n",
       "\t25 & 003f117e14 & 4dc2f8 & 3 & 2 & on & 24 & -9.53817 & 0.561993 & -1.41563 & $\\dots$ \\\\\n",
       "\t26 & 003f117e14 & 4dc2f8 & 3 & 2 & on & 25 & -9.53444 & 0.559282 & -1.40944 & $\\dots$ \\\\\n",
       "\t27 & 003f117e14 & 4dc2f8 & 3 & 2 & on & 26 & -9.53342 & 0.559762 & -1.41323 & $\\dots$ \\\\\n",
       "\t28 & 003f117e14 & 4dc2f8 & 3 & 2 & on & 27 & -9.53287 & 0.550951 & -1.41292 & $\\dots$ \\\\\n",
       "\t29 & 003f117e14 & 4dc2f8 & 3 & 2 & on & 28 & -9.53335 & 0.555257 & -1.4087 & $\\dots$ \\\\\n",
       "\t30 & 003f117e14 & 4dc2f8 & 3 & 2 & on & 29 & -9.53345 & 0.562024 & -1.42452 & $\\dots$ \\\\\n",
       "\t$\\dots$ & $\\dots$ & $\\dots$ & $\\dots$ & $\\dots$ & $\\dots$ & $\\dots$ & $\\dots$ & $\\dots$ & $\\dots$ &  \\\\\n",
       "\\end{tabular}\n"
      ],
      "text/plain": [
       "\u001b[1m2258292×13 DataFrame\u001b[0m\n",
       "\u001b[1m     Row \u001b[0m│\u001b[1m Id         \u001b[0m\u001b[1m Subject \u001b[0m\u001b[1m Visit \u001b[0m\u001b[1m Test  \u001b[0m\u001b[1m Medication \u001b[0m\u001b[1m Time  \u001b[0m\u001b[1m AccV     \u001b[0m\u001b[1m Acc\u001b[0m ⋯\n",
       "         │\u001b[90m String15   \u001b[0m\u001b[90m String7 \u001b[0m\u001b[90m Int64 \u001b[0m\u001b[90m Int64 \u001b[0m\u001b[90m String3    \u001b[0m\u001b[90m Int64 \u001b[0m\u001b[90m Float64  \u001b[0m\u001b[90m Flo\u001b[0m ⋯\n",
       "─────────┼──────────────────────────────────────────────────────────────────────\n",
       "       1 │ 003f117e14  4dc2f8       3      2  on              0  -9.53394   0. ⋯\n",
       "       2 │ 003f117e14  4dc2f8       3      2  on              1  -9.53614   0.\n",
       "       3 │ 003f117e14  4dc2f8       3      2  on              2  -9.52935   0.\n",
       "       4 │ 003f117e14  4dc2f8       3      2  on              3  -9.53124   0.\n",
       "       5 │ 003f117e14  4dc2f8       3      2  on              4  -9.54082   0. ⋯\n",
       "       6 │ 003f117e14  4dc2f8       3      2  on              5  -9.53658   0.\n",
       "       7 │ 003f117e14  4dc2f8       3      2  on              6  -9.52954   0.\n",
       "       8 │ 003f117e14  4dc2f8       3      2  on              7  -9.52449   0.\n",
       "       9 │ 003f117e14  4dc2f8       3      2  on              8  -9.53577   0. ⋯\n",
       "      10 │ 003f117e14  4dc2f8       3      2  on              9  -9.52934   0.\n",
       "      11 │ 003f117e14  4dc2f8       3      2  on             10  -9.52647   0.\n",
       "    ⋮    │     ⋮          ⋮       ⋮      ⋮        ⋮         ⋮       ⋮          ⋱\n",
       " 2258283 │ fd52a32229  e8919c       2      3  off         10349  -9.80354  -0.\n",
       " 2258284 │ fd52a32229  e8919c       2      3  off         10350  -9.81648  -0. ⋯\n",
       " 2258285 │ fd52a32229  e8919c       2      3  off         10351  -9.84022  -0.\n",
       " 2258286 │ fd52a32229  e8919c       2      3  off         10352  -9.86569  -0.\n",
       " 2258287 │ fd52a32229  e8919c       2      3  off         10353  -9.88135  -0.\n",
       " 2258288 │ fd52a32229  e8919c       2      3  off         10354  -9.88495  -0. ⋯\n",
       " 2258289 │ fd52a32229  e8919c       2      3  off         10355  -9.88172  -0.\n",
       " 2258290 │ fd52a32229  e8919c       2      3  off         10356  -9.86722  -0.\n",
       " 2258291 │ fd52a32229  e8919c       2      3  off         10357  -9.85883  -0.\n",
       " 2258292 │ fd52a32229  e8919c       2      3  off         10358  -9.8513   -0. ⋯\n",
       "\u001b[36m                                              6 columns and 2258271 rows omitted\u001b[0m"
      ]
     },
     "execution_count": 3,
     "metadata": {},
     "output_type": "execute_result"
    }
   ],
   "source": [
    "parkinson = CSV.read(\"./filtered_data.csv\", DataFrame)"
   ]
  },
  {
   "cell_type": "code",
   "execution_count": 4,
   "metadata": {},
   "outputs": [
    {
     "data": {
      "text/plain": [
       "data_loader (generic function with 1 method)"
      ]
     },
     "execution_count": 4,
     "metadata": {},
     "output_type": "execute_result"
    }
   ],
   "source": [
    "@resumable function data_loader(parkinson_dataframe, num_sequences, num_selected_sequences; labels=[\"StartHesitation\", \"Turn\", \"Walking\", \"Normal\"])\n",
    "    pdf = deepcopy(parkinson_dataframe)\n",
    "\n",
    "    # Random generating sequences\n",
    "    batch_size = div(size(pdf, 1), num_sequences)\n",
    "    sequences = collect(1:num_sequences)\n",
    "    shuffle!(sequences)\n",
    "    \n",
    "    # Sending to the model\n",
    "    for i in 1:num_selected_sequences\n",
    "        # if benne van a random generalt elemek tombunkben\n",
    "        x = hcat(\n",
    "            pdf[!, \"AccV\"][sequences[i] * batch_size : sequences[i] * batch_size + batch_size],\n",
    "            pdf[!, \"AccML\"][sequences[i] * batch_size : sequences[i] * batch_size + batch_size],\n",
    "            pdf[!, \"AccAP\"][sequences[i] * batch_size : sequences[i] * batch_size + batch_size]\n",
    "        )\n",
    "    \n",
    "        y = Flux.onehotbatch(pdf[!, \"event\"][i:i+batch_size], labels)\n",
    "        \n",
    "        @yield x, y\n",
    "    end\n",
    "end"
   ]
  },
  {
   "cell_type": "code",
   "execution_count": 5,
   "metadata": {},
   "outputs": [
    {
     "data": {
      "text/plain": [
       "init_params (generic function with 1 method)"
      ]
     },
     "execution_count": 5,
     "metadata": {},
     "output_type": "execute_result"
    }
   ],
   "source": [
    "function init_params(in::Integer, out::Integer; mean=0.0, std=1.0)\n",
    "    [\n",
    "        in, out,\n",
    "        rand(Truncated(Normal(mean, std), -1, 1), out), # Wf\n",
    "        rand(Truncated(Normal(mean, std), -1, 1), out), # Wi\n",
    "        rand(Truncated(Normal(mean, std), -1, 1), out), # Wc\n",
    "        rand(Truncated(Normal(mean, std), -1, 1), out), # Wo\n",
    "        rand(Truncated(Normal(mean, std), -1, 1), out), # bf\n",
    "        rand(Truncated(Normal(mean, std), -1, 1), out), # bi\n",
    "        rand(Truncated(Normal(mean, std), -1, 1), out), # bc\n",
    "        rand(Truncated(Normal(mean, std), -1, 1), out), # bo\n",
    "        rand(Truncated(Normal(mean, std), -1, 1), out), # bo\n",
    "        rand(Truncated(Normal(mean, std), -1, 1), out), # bo\n",
    "        rand(Truncated(Normal(mean, std), -1, 1), out), # bo\n",
    "        rand(Truncated(Normal(mean, std), -1, 1), out), # bo\n",
    "\n",
    "        # both the Long-Term and Short-Term memories are initialized with 0 values\n",
    "        zeros(out),  # c\n",
    "        zeros(out),  # h\n",
    "        true # update_memory\n",
    "    ]\n",
    "end\n"
   ]
  },
  {
   "cell_type": "code",
   "execution_count": 6,
   "metadata": {},
   "outputs": [
    {
     "data": {
      "text/plain": [
       "forward (generic function with 1 method)"
      ]
     },
     "execution_count": 6,
     "metadata": {},
     "output_type": "execute_result"
    }
   ],
   "source": [
    "# implementing the forwarding method which is used in the Chaining process\n",
    "function forward(x, lstm)\n",
    "    for i in 1:size(x, 1):\n",
    "        long_remember_percent = NNlib.sigmoid_fast((lstm.c * lstm.wlr1) + (x * lstm.wlr2) + lstm.blr1)\n",
    "        potential_remember_percent = NNlib.sigmoid_fast((lstm.h * lstm.wpr1) + (x * lstm.wpr2) + lstm.bpr1)\n",
    "        potential_memory = NNlib.tanh_fast((lstm.c * lstm.wp1) + (x * lstm.wp2) + lstm.bp1)\n",
    "        updated_long_memory = (lstm.c * long_remember_percent) + (potential_memory * potential_remember_percent)\n",
    "        output_percent = NNlib.sigmoid_fast((lstm.h * lstm.wo1) + (x * lstm.wo2) + lstm.bo1)\n",
    "        updated_short_memory = NNlib.tanh_fast(updated_long_memory) * output_percent\n",
    "\n",
    "        # updating the memory\n",
    "        if lstm.update_memory\n",
    "            lstm.c, lstm.h = updated_long_memory, updated_short_memory\n",
    "        end\n",
    "    end\n",
    "\n",
    "    [updated_short_memory]\n",
    "end"
   ]
  },
  {
   "cell_type": "code",
   "execution_count": 7,
   "metadata": {},
   "outputs": [],
   "source": [
    "# custom Long Short-Term Memory layer\n",
    "mutable struct LSTM\n",
    "    # input and output size of the layer\n",
    "    in::Integer\n",
    "    out::Integer\n",
    "\n",
    "    wlr1::Vector{Float32}\n",
    "    wlr2::Vector{Float32}\n",
    "    blr1::Vector{Float32}\n",
    "\n",
    "    wpr1::Vector{Float32}\n",
    "    wpr2::Vector{Float32}\n",
    "    bpr1::Vector{Float32}\n",
    "\n",
    "    wp1::Vector{Float32}\n",
    "    wp2::Vector{Float32}\n",
    "    bp1::Vector{Float32}\n",
    "\n",
    "    wo1::Vector{Float32}\n",
    "    wo2::Vector{Float32}\n",
    "    bo1::Vector{Float32}\n",
    "\n",
    "\n",
    "    # cell state (aka. long-term memory) and hidden state (aka. short-term memory)\n",
    "    c::Vector{Float32}\n",
    "    h::Vector{Float32}\n",
    "\n",
    "    # prevents the model from modifying the memory state in case of testing and loss calculation\n",
    "    # it needs to be set explicitely before and after calling the model(x) funtion\n",
    "    update_memory::Bool\n",
    "end"
   ]
  },
  {
   "cell_type": "code",
   "execution_count": 8,
   "metadata": {},
   "outputs": [
    {
     "data": {
      "text/plain": [
       "LSTM"
      ]
     },
     "execution_count": 8,
     "metadata": {},
     "output_type": "execute_result"
    }
   ],
   "source": [
    "# defining the constructor\n",
    "LSTM(in::Integer, out::Integer) = LSTM(init_params(in, out)...)"
   ]
  },
  {
   "cell_type": "code",
   "execution_count": 9,
   "metadata": {},
   "outputs": [],
   "source": [
    "# Overload call, so the object can be used as a function\n",
    "(lstm::LSTM)(x) = forward(x, lstm)"
   ]
  },
  {
   "cell_type": "code",
   "execution_count": 10,
   "metadata": {},
   "outputs": [],
   "source": [
    "# creating a functor from the struct, so that the training can optimize its parameters\n",
    "Flux.@functor LSTM"
   ]
  },
  {
   "cell_type": "code",
   "execution_count": 11,
   "metadata": {},
   "outputs": [
    {
     "data": {
      "text/plain": [
       "LSTM"
      ]
     },
     "execution_count": 11,
     "metadata": {},
     "output_type": "execute_result"
    }
   ],
   "source": [
    "# creating the Long Short-Term Memory layer\n",
    "function LSTM((in, out)::Pair)\n",
    "    LSTM(in, out) # constructor\n",
    "end"
   ]
  },
  {
   "cell_type": "code",
   "execution_count": 12,
   "metadata": {},
   "outputs": [],
   "source": [
    "# explicitely defining the trainable parameters of the layer\n",
    "# all the Wrights and Biases are trainable\n",
    "# exceptions >> Cell State and Hidden State\n",
    "# Flux.trainable(lstm::LSTM) = (lstm.Wf, lstm.Wi, lstm.Wc, lstm.Wo, lstm.bf, lstm.bi, lstm.bc, lstm.bo,)\n",
    "Flux.trainable(lstm::LSTM) = (lstm.wlr1, lstm.wlr2, lstm.blr1, lstm.wpr1, lstm.wpr2, lstm.bpr1, lstm.wp1, lstm.wp2, lstm.bp1, lstm.wo1, lstm.wo2, lstm.bo1)"
   ]
  },
  {
   "cell_type": "code",
   "execution_count": 13,
   "metadata": {},
   "outputs": [],
   "source": [
    "input_size = 128\n",
    "hidden_size = 1\n",
    "num_classes = 4 \n",
    "\n",
    "model = Chain(\n",
    "    LSTM(input_size => hidden_size),\n",
    "    Dense(hidden_size => num_classes),\n",
    "    softmax\n",
    ")\n",
    "\n",
    ";"
   ]
  },
  {
   "cell_type": "code",
   "execution_count": 14,
   "metadata": {},
   "outputs": [],
   "source": [
    "function loss(x, y)\n",
    "    model[1].update_memory = false\n",
    "    l = Flux.crossentropy(model(x), y)\n",
    "    model[1].update_memory = true\n",
    "\n",
    "    l\n",
    "end\n",
    "\n",
    "optimizer = ADAM(0.001)\n",
    "epochs = 10\n",
    "batch_size = 127 # data loader returns batch_size + 1 samples\n",
    "\n",
    ";"
   ]
  },
  {
   "cell_type": "code",
   "execution_count": 15,
   "metadata": {},
   "outputs": [],
   "source": [
    "for epoch in 1:epochs\n",
    "  for (input, output) in [(1, [0,0,1,0]), (1, [0,0,1,0])] #data_loader(parkinson, batch_size)\n",
    "    grads = Flux.gradient(Flux.params(model)) do\n",
    "      loss(input, output)\n",
    "    end\n",
    "    Flux.update!(optimizer, Flux.params(model), grads)\n",
    "\n",
    "    break\n",
    "  end\n",
    "\n",
    "  # break\n",
    "end"
   ]
  },
  {
   "cell_type": "code",
   "execution_count": 16,
   "metadata": {},
   "outputs": [
    {
     "data": {
      "text/plain": [
       "4-element Vector{Float32}:\n",
       " 0.2487438\n",
       " 0.24874434\n",
       " 0.2537681\n",
       " 0.24874379"
      ]
     },
     "execution_count": 16,
     "metadata": {},
     "output_type": "execute_result"
    }
   ],
   "source": [
    "model[1].update_memory = false\n",
    "model(10)"
   ]
  }
 ],
 "metadata": {
  "kernelspec": {
   "display_name": "Julia 1.9.1",
   "language": "julia",
   "name": "julia-1.9"
  },
  "language_info": {
   "file_extension": ".jl",
   "mimetype": "application/julia",
   "name": "julia",
   "version": "1.9.1"
  }
 },
 "nbformat": 4,
 "nbformat_minor": 2
}
